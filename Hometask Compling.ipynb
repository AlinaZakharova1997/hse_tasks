{
 "cells": [
  {
   "cell_type": "code",
   "execution_count": 43,
   "metadata": {},
   "outputs": [
    {
     "name": "stdout",
     "output_type": "stream",
     "text": [
      "Hi, Jupyter!\n"
     ]
    }
   ],
   "source": [
    "print('Hi, Jupyter!')"
   ]
  },
  {
   "cell_type": "code",
   "execution_count": null,
   "metadata": {},
   "outputs": [
    {
     "name": "stdout",
     "output_type": "stream",
     "text": [
      "Collecting pymystem3==0.1.10\n",
      "  Using cached https://files.pythonhosted.org/packages/51/56/57e550b53587719e92330a79c7c0f555402d953b00700efae6d5ca53cdef/pymystem3-0.1.10-py3-none-any.whl\n",
      "Collecting requests (from pymystem3==0.1.10)\n",
      "  Downloading https://files.pythonhosted.org/packages/39/fc/f91eac5a39a65f75a7adb58eac7fa78871ea9872283fb9c44e6545998134/requests-2.25.0-py2.py3-none-any.whl (61kB)\n",
      "\u001b[K    100% |████████████████████████████████| 61kB 494kB/s ta 0:00:01\n",
      "\u001b[?25hCollecting chardet<4,>=3.0.2 (from requests->pymystem3==0.1.10)\n",
      "  Using cached https://files.pythonhosted.org/packages/bc/a9/01ffebfb562e4274b6487b4bb1ddec7ca55ec7510b22e4c51f14098443b8/chardet-3.0.4-py2.py3-none-any.whl\n",
      "Collecting idna<3,>=2.5 (from requests->pymystem3==0.1.10)\n",
      "  Using cached https://files.pythonhosted.org/packages/a2/38/928ddce2273eaa564f6f50de919327bf3a00f091b5baba8dfa9460f3a8a8/idna-2.10-py2.py3-none-any.whl\n",
      "Collecting certifi>=2017.4.17 (from requests->pymystem3==0.1.10)\n",
      "  Downloading https://files.pythonhosted.org/packages/c1/6f/3d85f0850962279a7e4c622695d7b3171e95ac65308a57d3b29738b27149/certifi-2020.11.8-py2.py3-none-any.whl (155kB)\n",
      "\u001b[K    100% |████████████████████████████████| 163kB 703kB/s ta 0:00:01\n",
      "\u001b[?25hCollecting urllib3<1.27,>=1.21.1 (from requests->pymystem3==0.1.10)\n",
      "  Downloading https://files.pythonhosted.org/packages/cc/f0/e6ff89dddc1cb9f57b3e0f9dc06f444c884f1ad0c2ad17e2f1d5e7d0d1f7/urllib3-1.26.1-py2.py3-none-any.whl (136kB)\n",
      "\u001b[K    100% |████████████████████████████████| 143kB 658kB/s ta 0:00:01\n",
      "\u001b[?25hInstalling collected packages: chardet, idna, certifi, urllib3, requests, pymystem3\n",
      "Successfully installed certifi-2020.11.8 chardet-3.0.4 idna-2.10 pymystem3-0.2.0 requests-2.25.0 urllib3-1.26.1\n",
      "Collecting pymorphy2[fast]\n",
      "  Using cached https://files.pythonhosted.org/packages/07/57/b2ff2fae3376d4f3c697b9886b64a54b476e1a332c67eee9f88e7f1ae8c9/pymorphy2-0.9.1-py3-none-any.whl\n",
      "Collecting docopt>=0.6 (from pymorphy2[fast])\n",
      "Collecting dawg-python>=0.7.1 (from pymorphy2[fast])\n",
      "  Using cached https://files.pythonhosted.org/packages/6a/84/ff1ce2071d4c650ec85745766c0047ccc3b5036f1d03559fd46bb38b5eeb/DAWG_Python-0.7.2-py2.py3-none-any.whl\n",
      "Collecting pymorphy2-dicts-ru<3.0,>=2.4 (from pymorphy2[fast])\n",
      "  Using cached https://files.pythonhosted.org/packages/3a/79/bea0021eeb7eeefde22ef9e96badf174068a2dd20264b9a378f2be1cdd9e/pymorphy2_dicts_ru-2.4.417127.4579844-py2.py3-none-any.whl\n",
      "Collecting DAWG>=0.8; extra == \"fast\" (from pymorphy2[fast])\n",
      "Installing collected packages: docopt, dawg-python, pymorphy2-dicts-ru, DAWG, pymorphy2\n",
      "Successfully installed DAWG-0.8.0 dawg-python-0.7.2 docopt-0.6.2 pymorphy2-0.9.1 pymorphy2-dicts-ru-2.4.417127.4579844\n",
      "Collecting razdel\n",
      "  Using cached https://files.pythonhosted.org/packages/15/2c/664223a3924aa6e70479f7d37220b3a658765b9cfe760b4af7ffdc50d38f/razdel-0.5.0-py3-none-any.whl\n",
      "Installing collected packages: razdel\n",
      "Successfully installed razdel-0.5.0\n",
      "Collecting gensim\n",
      "  Using cached https://files.pythonhosted.org/packages/2b/e0/fa6326251692056dc880a64eb22117e03269906ba55a6864864d24ec8b4e/gensim-3.8.3-cp36-cp36m-manylinux1_x86_64.whl\n",
      "Collecting six>=1.5.0 (from gensim)\n",
      "  Using cached https://files.pythonhosted.org/packages/ee/ff/48bde5c0f013094d729fe4b0316ba2a24774b3ff1c52d924a8a4cb04078a/six-1.15.0-py2.py3-none-any.whl\n",
      "Collecting scipy>=0.18.1 (from gensim)\n",
      "  Using cached https://files.pythonhosted.org/packages/c8/89/63171228d5ced148f5ced50305c89e8576ffc695a90b58fe5bb602b910c2/scipy-1.5.4-cp36-cp36m-manylinux1_x86_64.whl\n",
      "Collecting numpy>=1.11.3 (from gensim)\n",
      "  Using cached https://files.pythonhosted.org/packages/a6/fc/36e52d0ae2aa502b211f1bcd2fdeec72d343d58224eabcdddc1bcb052db1/numpy-1.19.4-cp36-cp36m-manylinux1_x86_64.whl\n",
      "Collecting smart-open>=1.8.1 (from gensim)\n",
      "Collecting requests (from smart-open>=1.8.1->gensim)\n",
      "  Using cached https://files.pythonhosted.org/packages/39/fc/f91eac5a39a65f75a7adb58eac7fa78871ea9872283fb9c44e6545998134/requests-2.25.0-py2.py3-none-any.whl\n",
      "Collecting idna<3,>=2.5 (from requests->smart-open>=1.8.1->gensim)\n",
      "  Using cached https://files.pythonhosted.org/packages/a2/38/928ddce2273eaa564f6f50de919327bf3a00f091b5baba8dfa9460f3a8a8/idna-2.10-py2.py3-none-any.whl\n",
      "Collecting chardet<4,>=3.0.2 (from requests->smart-open>=1.8.1->gensim)\n",
      "  Using cached https://files.pythonhosted.org/packages/bc/a9/01ffebfb562e4274b6487b4bb1ddec7ca55ec7510b22e4c51f14098443b8/chardet-3.0.4-py2.py3-none-any.whl\n",
      "Collecting certifi>=2017.4.17 (from requests->smart-open>=1.8.1->gensim)\n",
      "  Using cached https://files.pythonhosted.org/packages/c1/6f/3d85f0850962279a7e4c622695d7b3171e95ac65308a57d3b29738b27149/certifi-2020.11.8-py2.py3-none-any.whl\n",
      "Collecting urllib3<1.27,>=1.21.1 (from requests->smart-open>=1.8.1->gensim)\n",
      "  Using cached https://files.pythonhosted.org/packages/cc/f0/e6ff89dddc1cb9f57b3e0f9dc06f444c884f1ad0c2ad17e2f1d5e7d0d1f7/urllib3-1.26.1-py2.py3-none-any.whl\n",
      "Installing collected packages: six, numpy, scipy, idna, chardet, certifi, urllib3, requests, smart-open, gensim\n",
      "Successfully installed certifi-2020.11.8 chardet-3.0.4 gensim-3.8.3 idna-2.10 numpy-1.19.4 requests-2.25.0 scipy-1.5.4 six-1.15.0 smart-open-3.0.0 urllib3-1.26.1\n"
     ]
    }
   ],
   "source": [
    "!pip3 install pymystem3==0.1.10\n",
    "!pip3 install pymorphy2[fast]\n",
    "!pip3 install razdel\n",
    "!pip3 install gensim\n",
    "!pip3 install nltk\n",
    "!pip3 install rusenttokenize\n",
    "!pip3 install regex"
   ]
  },
  {
   "cell_type": "code",
   "execution_count": 22,
   "metadata": {},
   "outputs": [],
   "source": [
    "text = open('Рабочий стол/zhivago.txt','r').read()\n",
    "#print(text)"
   ]
  },
  {
   "cell_type": "code",
   "execution_count": 28,
   "metadata": {},
   "outputs": [],
   "source": [
    "import string\n",
    "from gensim.utils import tokenize\n",
    "from gensim.summarization.textcleaner import split_sentences\n",
    "from rusenttokenize import ru_sent_tokenize\n",
    "from razdel import sentenize\n",
    "from razdel import tokenize as razdel_tokenize\n",
    "from nltk import sent_tokenize\n",
    "from nltk.tokenize import word_tokenize, wordpunct_tokenize\n",
    "from pymorphy2 import MorphAnalyzer\n",
    "from pymystem3 import Mystem\n",
    "from nltk.corpus import stopwords\n",
    "from string import punctuation\n",
    "import re, os, json\n"
   ]
  },
  {
   "cell_type": "code",
   "execution_count": 29,
   "metadata": {},
   "outputs": [],
   "source": [
    "# героически пытаюсь пользоваться регулярками\n",
    "# первый этап очистки, убираю теги\n",
    "clean_text_tags = re.sub(r'<[^>]+>', ' ', text)\n",
    "# убираю пробелы\n",
    "clean_text_space = re.sub('  +', ' ', clean_text_tags)\n",
    "# убираю английский слова\n",
    "clean_text_eng = re.sub(r'[A-za-z].+', ' ', clean_text_space)\n",
    "#print(clean_text_eng)\n",
    "# убираю ненужные цифры в конце и в начале после англ слов, я читер года\n",
    "# простите!\n",
    "clean_text_nums = re.sub(r'\\n(([+]?\\d+)|/|(/+?|\\+|\\+?\\d.*))|(17.04.2008)|(\\/9)|(\\+)|(\\/)', ' ', clean_text_eng)\n",
    "#print(clean_text_nums)\n",
    "# опять убираю пробелы\n",
    "clean_text_spaces = re.sub('  +', ' ', clean_text_nums)\n",
    "#print(clean_text_spaces)"
   ]
  },
  {
   "cell_type": "code",
   "execution_count": 30,
   "metadata": {},
   "outputs": [],
   "source": [
    "# делю текст на предложения\n",
    "# to_sent = ru_sent_tokenize(clean_text_spaces)# Something went wrong while tokenizing!\n",
    "# я испугалась, он начал виснуть, сделала по другому\n",
    "sent = re.split('(?<=[\\.?!]) +(?=[А-ЯЁ])', clean_text_spaces.replace('\\n', ' '))\n",
    "sentences = []\n",
    "for s in sent:\n",
    "    s.replace('\\xa0',' ')\n",
    "    s = re.sub('  +', ' ', s)\n",
    "    #print(s)\n",
    "    # вот тут лежат предложения, если что, их всегда можно достать\n",
    "    s = s.lower()\n",
    "    sentences.append(s)\n",
    "    #print(s)\n",
    "#print(sentences[:10])\n",
    "# делю исходный чистый текст на токены, убираю токены-пункт знаки\n",
    "string.punctuation += '«»—…“”'\n",
    "string.punctuation += '–'\n",
    "# собственно, вот список токенов-слов\n",
    "tokens = []\n",
    "tokenized_text = razdel_tokenize(clean_text_spaces.lower())\n",
    "for token in tokenized_text:\n",
    "    if token.text not in string.punctuation:\n",
    "        tokens.append(token.text)\n",
    "        #print(token.text)"
   ]
  },
  {
   "cell_type": "code",
   "execution_count": 31,
   "metadata": {
    "scrolled": true
   },
   "outputs": [
    {
     "name": "stdout",
     "output_type": "stream",
     "text": [
      "['единственно живое и яркое в вас – это то, что вы жили в одно время со мной и меня знали».', 'весной в несколько дней лес преображается, подымается до облаков, в его покрытых листьями дебрях можно затеряться, спрятаться.', 'это превращение достигается движением, по стремительности превосходящим движения животных, потому что животное не растет так быстро, как растение, и которого никогда нельзя подсмотреть.', 'лес не передвигается, мы не можем его накрыть, подстеречь за переменою места.', 'мы всегда застаем его в неподвижности.', 'и в такой же неподвижности застигаем мы вечно растущую, вечно меняющуюся, неуследимую в своих превращениях жизнь общества, историю.', 'толстой не довел своей мысли до конца, когда отрицал роль зачинателей за наполеоном, правителями, полководцами.', 'он думал именно то же самое, но не договорил этого со всею ясностью.', 'потом пришла война, разруха, и долго-долго о тебе ни слуху не было, ни духу.', 'и через много-много лет твой голос вновь меня встревожил.']\n"
     ]
    }
   ],
   "source": [
    "# давайте искать повторяющиесяся предложения\n",
    "repeating_sentences = []\n",
    "for sent in sentences:\n",
    "    if sentences.count(sent)>1:\n",
    "        repeating_sentences.append(sent)\n",
    "print(repeating_sentences[:10])"
   ]
  },
  {
   "cell_type": "code",
   "execution_count": 32,
   "metadata": {},
   "outputs": [
    {
     "name": "stdout",
     "output_type": "stream",
     "text": [
      "('андреевич', 289)\n"
     ]
    }
   ],
   "source": [
    "# теперь разбираемся с токенами, нам надо найти\n",
    "#самый частотный токен в тексте длиннее 6 символов\n",
    "tokens_dict = {}\n",
    "for token in tokens:\n",
    "    if len(token)>6:\n",
    "        tokens_dict.setdefault(token, 0)\n",
    "        tokens_dict[token] += 1\n",
    "# сортируем словарь        \n",
    "dict_sort = sorted(tokens_dict.items(),key=lambda i: i[1], reverse = True)\n",
    "print(dict_sort[0])\n",
    "       \n",
    "        "
   ]
  },
  {
   "cell_type": "code",
   "execution_count": 33,
   "metadata": {},
   "outputs": [
    {
     "name": "stdout",
     "output_type": "stream",
     "text": [
      "[('пуст', 31), ('цел', 26), ('прост', 25), ('след', 25), ('сдела', 23), ('оста', 22), ('прав', 22), ('бел', 21), ('продолжа', 21), ('ход', 21)]\n"
     ]
    }
   ],
   "source": [
    "# делаем стемминг\n",
    "# у нас сейчас получится частотный список, потому что я вспомнила про Counter\n",
    "# из него выберем какие нить частотные слова и проверим, что как\n",
    "from collections import Counter\n",
    "from nltk.stem.snowball import SnowballStemmer\n",
    "stems_dict = {}\n",
    "# не забываем копировать из конспекта\n",
    "stemmer = SnowballStemmer('russian')\n",
    "stems = [(word, stemmer.stem(word)) for word in tokens]\n",
    "also_stems = set(stems)\n",
    "freq_list = []\n",
    "for i, stem in enumerate(also_stems):\n",
    "    freq_list.append(stem[1])\n",
    "common = Counter(freq_list)\n",
    "print(common.most_common(10))\n"
   ]
  },
  {
   "cell_type": "code",
   "execution_count": 34,
   "metadata": {},
   "outputs": [
    {
     "name": "stdout",
     "output_type": "stream",
     "text": [
      "[('пустит', 'пуст'), ('пустующую', 'пуст'), ('пустая', 'пуст'), ('пустился', 'пуст'), ('пустом', 'пуст'), ('пустому', 'пуст'), ('пусто', 'пуст'), ('пустив', 'пуст'), ('пустишься', 'пуст'), ('пусти', 'пуст')]\n",
      "[('целого', 'цел'), ('целях', 'цел'), ('целой', 'цел'), ('целая', 'цел'), ('цел', 'цел'), ('целых', 'цел'), ('цела', 'цел'), ('целы', 'цел'), ('целуйте', 'цел'), ('целые', 'цел')]\n",
      "[('следом', 'след'), ('следующей', 'след'), ('следите', 'след'), ('след', 'след'), ('следующих', 'след'), ('следующий', 'след'), ('следила', 'след'), ('следуют', 'след'), ('следует', 'след'), ('следам', 'след')]\n"
     ]
    }
   ],
   "source": [
    "# давайте возьмем первые 3 стемма\n",
    "first = []\n",
    "second = []\n",
    "third = []\n",
    "for stem in also_stems:\n",
    "    if stem[1] == 'пуст':\n",
    "        first.append(stem)\n",
    "print(first[:10])        \n",
    "for stem in also_stems:\n",
    "    if stem[1] == 'цел':\n",
    "        second.append(stem)\n",
    "print(second[:10])        \n",
    "for stem in also_stems:\n",
    "    if stem[1] == 'след':\n",
    "        third.append(stem)\n",
    "print(third[:10])    \n",
    "\n",
    "# как я поняла, из того, что в итоге распечаталось, стеммер пихает, например, в тот же \"пуст\" что угодно,\n",
    "# хотя так не надо делать; было бы правильнее, если бы он не откусывал ь от слова пусть, и, например,\n",
    "# оставил уй у целуй"
   ]
  },
  {
   "cell_type": "code",
   "execution_count": 35,
   "metadata": {},
   "outputs": [
    {
     "name": "stdout",
     "output_type": "stream",
     "text": [
      "[(('андреевич', 'андреевич'), 289), (('доктор', 'доктор'), 226), (('перед', 'перед'), 172), (('может', 'может'), 162), (('через', 'через'), 144), (('будет', 'будет'), 141), (('сейчас', 'сейчас'), 127), (('человек', 'человек'), 112), (('вдруг', 'вдруг'), 109), (('поезд', 'поезд'), 65), (('видел', 'видел'), 53), (('назад', 'назад'), 49), (('гордон', 'гордон'), 47), (('город', 'город'), 45), (('хотел', 'хотел'), 45)]\n"
     ]
    }
   ],
   "source": [
    "# теперь посмотрим, что там по неизменным словам\n",
    "without_changes = []\n",
    "for stem in stems:\n",
    "        if len(stem[0]) > 4:\n",
    "            if stem[0] == stem[1]:\n",
    "                without_changes.append(stem)\n",
    "common = Counter(without_changes)\n",
    "print(common.most_common(15))\n",
    "# и вот мы набдюдаем слова типа может, будет,которые надо было бы укоротить, но не получилось"
   ]
  },
  {
   "cell_type": "code",
   "execution_count": 39,
   "metadata": {},
   "outputs": [
    {
     "name": "stdout",
     "output_type": "stream",
     "text": [
      "[' ', 'который', ' ', 'убедительно', ' ', 'свидетельствовать', ' ', 'о', ' ', 'чудо', ', ', 'чем', ' ', 'весь', ' ', 'размышление', ' ', 'доктор', ' ', 'и', ' ', 'обобщение', ' ', 'автор', '. ', 'человек', ', ', 'который', ' ', 'так', ' ', 'писать', ', ', 'бесконечно', ' ', 'много', ' ', 'переживать', ' ', 'и', ' ', 'передумывать', ', ', 'и', ' ', 'главный', ' ', 'его', ' ', 'чувство', ' ', 'на', ' ', 'свет', ' - ', 'восхищенный', ' ', 'умиление', ' ', 'и', ' ', 'слезный', ' ', 'сострадание', '; ', 'конечно', ', ', 'быть', ' ', 'в', ' ', 'его', ' ', 'мир', ' ', 'место', ' ', 'и', ' ', 'презрение', ', ', 'и', ' ', 'холодный', ' ', 'отстранение', ' - ', 'но', ' ', 'не', ' ', 'в', ' ', 'они', ' ', 'суть', '. ', 'роман', ' ', 'пастернак', ' - ', 'оплакивание', ' ', 'прежний', ' ', 'заблуждение', ' ', 'и', ' ', 'их', ' ', 'жертва', '; ', 'тот', ', ', 'кто', ' ', 'не', ' ', 'разделять', ' ', 'молитвенный', ' ', 'восторг', ' ', 'перед', ' ', 'мир', ', ', 'достойный', ' ', 'прежде', ' ', 'все', ' ', 'жалость', '. ', 'перечитывать', ' «', 'доктор', ' ', 'живаго', '» ', 'стоять', ' ', 'именно', ' ', 'тогда', ', ', 'когда', ' ', 'казаться', ', ', 'что', ' ', 'жить', ' ', 'не', ' ', 'стоить', '. ', 'тогда', ' ', 'десять', ' ', 'строка', ' ', 'из', ' ', 'этот', ' ', 'роман', ' ', 'мочь', ' ', 'сделать', ' ', 'то', ' ', 'же', ', ', 'что', ' ', 'делать', ' ', 'любовь', ' ', 'в', ' ', 'один', ' ', 'из', ' ', 'стихотворение', ' ', 'доктор', ': «', 'жизнь', ' ', 'вернуться', ' ', 'так', ' ', 'же', ' ', 'беспричинный', ', ', 'как', ' ', 'когда-то', ' ', 'странно', ' ', 'прерываться', '» ', '.', ' \\n', ' \\n', ' \\n', ' ', 'борис', ' ', 'пастернак', ' \\n', ' ', 'доктор', ' ', 'живаго', ' \\n', ' ', 'и', ' ', 'дышать', ' ', 'почва', ' ', 'и', ' ', 'судьба', ' \\n', ' ', 'спустя', ' ', 'два', ' ', 'год', ' ', 'после', ' ', 'завершение', ' ', 'роман', ' «', 'доктор', ' ', 'живаго', '» ', 'борис', ' ', 'пастернак', ' ', 'писать', ': \\n', ' «', 'я', ' ', 'думать', ', ', 'несмотря', ' ', 'на', ' ', 'привычность', ' ', 'весь', ' ', 'то', ', ', 'что', ' ', 'продолжать', ' ', 'стоять', ' ', 'перед', ' ', 'наш', ' ', 'глаз', ' ', 'и', ' ', 'что', ' ', 'мы', ' ', 'продолжать', ' ', 'слышать', ' ', 'и', ' ', 'читать', ', ', 'ничто', ' ', 'это', ' ', 'больше', ' ', 'нет', ', ', 'это', ' ', 'уже', ' ', 'проходить', ' ', 'и', ' ', 'состояться', ', ', 'огромный', ', ', 'неслыханный', ' ', 'сила', ' ', 'стоить', ' ', 'период', ' ', 'заканчиваться', ' ', 'и', ' ', 'миновать', '. ', 'освобождаться', ' ', 'безмерно', ' ', 'большой', ', ', 'покамест', ' ', 'пустой', ' ', 'и', ' ', 'не', ' ', 'занимать', ' ', 'место', ' ', 'для', ' ', 'новый', ' ', 'и', ' ', 'еще', ' ', 'не', ' ', 'бывалый', ', ', 'для', ' ', 'то', ', ', 'что', ' ', 'быть', ' ', 'угадывать', ' ', 'чей-либо', ' ', 'гениальный', ' ', 'независимость', ' ', 'и', ' ', 'свежесть', ', ', 'для', ' ', 'то', ', ', 'что', ' ', 'внушать', ' ', 'и', ' ', 'подсказывать', ' ']\n"
     ]
    }
   ],
   "source": [
    "# я не успела сделать 4 задание, потому что отложила его на ненаступившее потом, но частично успела 5, вот оно:\n",
    "# итак, я сравниваю майстем и пайморфи\n",
    "mystem = Mystem()\n",
    "morph = MorphAnalyzer()\n",
    "#print(mystem.lemmatize(clean_text_spaces)[100:500])\n",
    "#  мне не понравилось, что тут к словам цепляется ',\\xa0– '? если распечатывать кучу всего\n",
    "# {'analysis': [{'lex': 'фарисейский', 'wt': 1, 'gr': 'A=мн,кр'}], 'text': 'фарисейски'} - вот тут оно вообще прилагательное\n",
    "# {'analysis': [{'lex': 'творчески', 'wt': 0.9986144172, 'gr': 'ADV='}], 'text': 'творчески'} - это норм, как и у пайморфи\n",
    "# {'analysis': [{'lex': 'окружающие', 'wt': 0.6348522644, 'gr': 'S,мн,од=(пр|вин|род)'}], 'text': 'окружающих'} - а тут нормально"
   ]
  },
  {
   "cell_type": "code",
   "execution_count": 42,
   "metadata": {},
   "outputs": [
    {
     "name": "stdout",
     "output_type": "stream",
     "text": [
      "[{'analysis': [{'lex': 'гибель', 'wt': 1, 'gr': 'S,жен,неод=(пр,ед|вин,мн|дат,ед|род,ед|им,мн)'}], 'text': 'гибели'}, {'text': '. '}, {'analysis': [{'lex': 'в', 'wt': 0.9999917878, 'gr': 'PR='}], 'text': 'В'}, {'text': ' '}, {'analysis': [{'lex': 'ход', 'wt': 0.9998553034, 'gr': 'S,муж,неод=пр,ед'}], 'text': 'ходе'}, {'text': ' '}, {'analysis': [{'lex': 'этот', 'wt': 1, 'gr': 'APRO=(пр,мн|род,мн|вин,мн,од)'}], 'text': 'этих'}, {'text': ' '}, {'analysis': [{'lex': 'год', 'wt': 0.9954891636, 'gr': 'S,муж,неод=род,мн'}], 'text': 'лет'}, {'text': ' '}, {'analysis': [{'lex': 'немногие', 'wt': 0.1945949197, 'gr': 'SPRO,мн=дат'}], 'text': 'немногим'}, {'text': ' '}, {'analysis': [{'lex': 'удаваться', 'wt': 1, 'gr': 'V,нп=прош,ед,изъяв,сред,сов'}], 'text': 'удалось'}, {'text': ' '}, {'analysis': [{'lex': 'оставаться', 'wt': 1, 'gr': 'V,нп=инф,сов'}], 'text': 'остаться'}, {'text': ' '}, {'analysis': [{'lex': 'верный', 'wt': 1, 'gr': 'A=твор,мн,полн'}], 'text': 'верными'}, {'text': ' '}, {'analysis': [{'lex': 'жизнеутверждающий', 'wt': 1, 'gr': 'A=(дат,мн,полн|твор,ед,полн,муж|твор,ед,полн,сред)'}], 'text': 'жизнеутверждающим'}, {'text': ' '}, {'analysis': [{'lex': 'положение', 'wt': 1, 'gr': 'S,сред,неод=дат,мн'}], 'text': 'положениям'}, {'text': ' '}, {'analysis': [{'lex': 'свой', 'wt': 1, 'gr': 'APRO=(пр,ед,жен|дат,ед,жен|род,ед,жен|твор,ед,жен)'}], 'text': 'своей'}, {'text': ' '}, {'analysis': [{'lex': 'юность', 'wt': 1, 'gr': 'S,жен,неод=(пр,ед|вин,мн|дат,ед|род,ед|им,мн)'}], 'text': 'юности'}, {'text': ' '}, {'analysis': [{'lex': 'в', 'wt': 0.9999917878, 'gr': 'PR='}], 'text': 'в'}, {'text': ' '}, {'analysis': [{'lex': 'их', 'wt': 0.1136363636, 'gr': 'APRO=(пр,мн|дат,мн|род,мн|твор,мн|им,мн|им,ед,жен|вин,ед,муж,од|род,ед,муж|род,ед,сред|вин,ед,сред|им,ед,сред|пр,ед,жен|дат,ед,жен|род,ед,жен|твор,ед,жен|пр,ед,муж|пр,ед,сред|дат,ед,муж|дат,ед,сред|вин,ед,жен|вин,мн,неод|вин,ед,муж,неод|им,ед,муж|твор,ед,муж|твор,ед,сред|вин,мн,од|пр,мн,сред|вин,мн,сред|дат,мн,сред|род,мн,сред|твор,мн,сред|им,мн,сред|пр,мн,муж|вин,мн,муж|вин,ед,муж|дат,мн,муж)'}], 'text': 'их'}, {'text': ' '}, {'analysis': [{'lex': 'свободный', 'wt': 0.9989523533, 'gr': 'A=(пр,ед,полн,муж|пр,ед,полн,сред)'}], 'text': 'свободном'}, {'text': ' '}, {'analysis': [{'lex': 'и', 'wt': 0.9999770357, 'gr': 'CONJ='}], 'text': 'и'}, {'text': ' '}, {'analysis': [{'lex': 'естественный', 'wt': 1, 'gr': 'A=(пр,ед,полн,муж|пр,ед,полн,сред)'}], 'text': 'естественном'}, {'text': ' '}, {'analysis': [{'lex': 'развитие', 'wt': 1, 'gr': 'S,сред,неод=пр,ед'}], 'text': 'развитии'}, {'text': '.'}, {'text': '\\n'}, {'text': ' '}, {'analysis': [{'lex': 'таков', 'wt': 1, 'gr': 'APRO,кр=ед,муж'}], 'text': 'Таков'}, {'text': ' '}, {'analysis': [{'lex': 'творчески', 'wt': 0.9986144172, 'gr': 'ADV='}], 'text': 'творчески'}, {'text': ' '}, {'analysis': [{'lex': 'одаренный', 'wt': 0.8223354086, 'gr': 'A=(вин,ед,полн,муж,неод|им,ед,полн,муж)'}], 'text': 'одаренный'}, {'text': ' '}, {'analysis': [{'lex': 'юрий', 'wt': 1, 'gr': 'S,имя,муж,од=им,ед'}], 'text': 'Юрий'}, {'text': ' '}, {'analysis': [{'lex': 'андреевич', 'wt': 1, 'gr': 'S,отч,муж,од=им,ед'}], 'text': 'Андреевич'}, {'text': ' '}, {'analysis': [{'lex': 'живаго', 'wt': 1, 'gr': 'S,фам,мж,од=(пр,мн|пр,ед|вин,мн|вин,ед|дат,мн|дат,ед|род,мн|род,ед|твор,мн|твор,ед|им,мн|им,ед)'}], 'text': 'Живаго'}, {'text': ', '}, {'analysis': [{'lex': 'в', 'wt': 0.9999917878, 'gr': 'PR='}], 'text': 'в'}, {'text': ' '}, {'analysis': [{'lex': 'сила', 'wt': 0.9986921181, 'gr': 'S,жен,неод=вин,ед'}], 'text': 'силу'}, {'text': ' '}, {'analysis': [{'lex': 'свой', 'wt': 0.977991165, 'gr': 'APRO=(вин,ед,муж,од|род,ед,муж|род,ед,сред)'}], 'text': 'своего'}, {'text': ' '}, {'analysis': [{'lex': 'талант', 'wt': 1, 'gr': 'S,муж,неод=род,ед'}], 'text': 'таланта'}, {'text': ' '}, {'analysis': [{'lex': 'знающий', 'wt': 0.08034624516, 'gr': 'A=(вин,ед,полн,муж,неод|им,ед,полн,муж)'}], 'text': 'знающий'}, {'text': ', '}, {'analysis': [{'lex': 'что', 'wt': 0.688532576, 'gr': 'CONJ='}], 'text': 'что'}, {'text': ' «'}, {'analysis': [{'lex': 'единственный', 'wt': 1, 'gr': 'A=(вин,ед,полн,сред|им,ед,полн,сред)'}], 'text': 'единственное'}, {'text': ', '}, {'analysis': [{'lex': 'что', 'wt': 0.688532576, 'gr': 'CONJ='}], 'text': 'что'}, {'text': ' '}, {'analysis': [{'lex': 'в', 'wt': 0.9999917878, 'gr': 'PR='}], 'text': 'в'}, {'text': ' '}, {'analysis': [{'lex': 'наш', 'wt': 0.9999255634, 'gr': 'APRO=(пр,ед,жен|дат,ед,жен|род,ед,жен|твор,ед,жен)'}], 'text': 'нашей'}, {'text': ' '}, {'analysis': [{'lex': 'власть', 'wt': 1, 'gr': 'S,жен,неод=(пр,ед|вин,мн|дат,ед|род,ед|им,мн)'}], 'text': 'власти'}, {'text': ', '}, {'analysis': [{'lex': 'это', 'wt': 0.7809833731, 'gr': 'SPRO,ед,сред,неод=(вин|им)'}], 'text': 'это'}, {'text': ' '}, {'analysis': [{'lex': 'суметь', 'wt': 1, 'gr': 'V,сов,нп=инф'}], 'text': 'суметь'}, {'text': ' '}, {'analysis': [{'lex': 'не', 'wt': 1, 'gr': 'PART='}], 'text': 'не'}, {'text': ' '}, {'analysis': [{'lex': 'искажать', 'wt': 1, 'gr': 'V=инф,сов'}], 'text': 'исказить'}, {'text': ' '}, {'analysis': [{'lex': 'голос', 'wt': 1, 'gr': 'S,муж,неод=(вин,мн|род,ед|им,мн)'}], 'text': 'голоса'}, {'text': ' '}, {'analysis': [{'lex': 'жизнь', 'wt': 1, 'gr': 'S,жен,неод=(пр,ед|вин,мн|дат,ед|род,ед|им,мн)'}], 'text': 'жизни'}, {'text': ', '}, {'analysis': [{'lex': 'звучащий', 'wt': 0.1862824115, 'gr': 'A=(вин,ед,полн,муж,од|род,ед,полн,муж|род,ед,полн,сред)'}], 'text': 'звучащего'}, {'text': ' '}, {'analysis': [{'lex': 'в', 'wt': 0.9999917878, 'gr': 'PR='}], 'text': 'в'}, {'text': ' '}, {'analysis': [{'lex': 'мы', 'wt': 1, 'gr': 'SPRO,мн,1-л=(пр|вин|род)'}], 'text': 'нас'}, {'text': '»'}, {'text': '. '}, {'analysis': [{'lex': 'это', 'wt': 0.437437974, 'gr': 'SPRO,ед,сред,неод=твор'}], 'text': 'Этим'}, {'text': ' '}, {'analysis': [{'lex': 'он', 'wt': 1, 'gr': 'SPRO,ед,3-л,муж=им'}], 'text': 'он'}, {'text': ' '}, {'analysis': [{'lex': 'не', 'wt': 1, 'gr': 'PART='}], 'text': 'не'}, {'text': ' '}, {'analysis': [{'lex': 'мочь', 'wt': 0.8596381856, 'gr': 'V,несов,нп=непрош,ед,изъяв,3-л'}], 'text': 'может'}, {'text': ' '}, {'analysis': [{'lex': 'поступаться', 'wt': 1, 'gr': 'V,нп=инф,сов'}], 'text': 'поступиться'}, {'text': ' '}, {'analysis': [{'lex': 'и', 'wt': 0.9999770357, 'gr': 'CONJ='}], 'text': 'и'}, {'text': ', '}, {'analysis': [{'lex': 'не', 'wt': 1, 'gr': 'PART='}], 'text': 'не'}, {'text': ' '}, {'analysis': [{'lex': 'отказываться', 'wt': 1, 'gr': 'V,нп=непрош,деепр,несов'}], 'text': 'отказываясь'}, {'text': ' '}, {'analysis': [{'lex': 'от', 'wt': 1, 'gr': 'PR='}], 'text': 'от'}, {'text': ' '}, {'analysis': [{'lex': 'профессиональный', 'wt': 1, 'gr': 'A=(пр,ед,полн,жен|дат,ед,полн,жен|род,ед,полн,жен|твор,ед,полн,жен)'}], 'text': 'профессиональной'}, {'text': ' '}, {'analysis': [{'lex': 'врачебный', 'wt': 1, 'gr': 'A=(пр,ед,полн,жен|дат,ед,полн,жен|род,ед,полн,жен|твор,ед,полн,жен)'}], 'text': 'врачебной'}, {'text': ', '}, {'analysis': [{'lex': 'научный', 'wt': 1, 'gr': 'A=(пр,ед,полн,жен|дат,ед,полн,жен|род,ед,полн,жен|твор,ед,полн,жен)'}], 'text': 'научной'}, {'text': ' '}, {'analysis': [{'lex': 'и', 'wt': 0.9999770357, 'gr': 'CONJ='}], 'text': 'и'}, {'text': ' '}, {'analysis': [{'lex': 'литературный', 'wt': 1, 'gr': 'A=(пр,ед,полн,жен|дат,ед,полн,жен|род,ед,полн,жен|твор,ед,полн,жен)'}], 'text': 'литературной'}, {'text': ' '}, {'analysis': [{'lex': 'работа', 'wt': 1, 'gr': 'S,жен,неод=(вин,мн|род,ед|им,мн)'}], 'text': 'работы'}, {'text': ', '}, {'analysis': [{'lex': 'то', 'wt': 0.6993998155, 'gr': 'SPRO,ед,сред,неод=твор'}], 'text': 'тем'}, {'text': ' '}, {'analysis': [{'lex': 'не', 'wt': 1, 'gr': 'PART='}], 'text': 'не'}, {'text': ' '}, {'analysis': [{'lex': 'менее', 'wt': 0.7985520506, 'gr': 'ADV='}], 'text': 'менее'}, {'text': ' '}, {'analysis': [{'lex': 'постепенно', 'wt': 0.9963549122, 'gr': 'ADV='}], 'text': 'постепенно'}, {'text': ' '}, {'analysis': [{'lex': 'терять', 'wt': 1, 'gr': 'V,несов,пе=непрош,ед,изъяв,3-л'}], 'text': 'теряет'}, {'text': ' '}, {'analysis': [{'lex': 'возможность', 'wt': 1, 'gr': 'S,жен,неод=(вин,ед|им,ед)'}], 'text': 'возможность'}, {'text': ' '}, {'analysis': [{'lex': 'производительный', 'wt': 1, 'gr': 'A=(пр,ед,полн,жен|дат,ед,полн,жен|род,ед,полн,жен|твор,ед,полн,жен)'}], 'text': 'производительной'}, {'text': ', '}, {'analysis': [{'lex': 'самостоятельный', 'wt': 1, 'gr': 'A=(пр,ед,полн,жен|дат,ед,полн,жен|род,ед,полн,жен|твор,ед,полн,жен)'}], 'text': 'самостоятельной'}, {'text': ' '}, {'analysis': [{'lex': 'деятельность', 'wt': 1, 'gr': 'S,жен,неод=(пр,ед|вин,мн|дат,ед|род,ед|им,мн)'}], 'text': 'деятельности'}, {'text': '. '}, {'analysis': [{'lex': 'его', 'wt': 3.284086391e-05, 'gr': 'APRO=(пр,мн|дат,мн|род,мн|твор,мн|им,мн|им,ед,жен|вин,ед,муж,од|род,ед,муж|род,ед,сред|вин,ед,сред|им,ед,сред|пр,ед,жен|дат,ед,жен|род,ед,жен|твор,ед,жен|пр,ед,муж|пр,ед,сред|дат,ед,муж|дат,ед,сред|вин,ед,жен|вин,мн,неод|вин,ед,муж,неод|им,ед,муж|твор,ед,муж|твор,ед,сред|вин,мн,од|пр,мн,сред|вин,мн,сред|дат,мн,сред|род,мн,сред|твор,мн,сред|им,мн,сред|пр,мн,муж|вин,мн,муж|вин,ед,муж|дат,мн,муж)'}], 'text': 'Его'}, {'text': ' '}, {'analysis': [{'lex': 'друг', 'wt': 1, 'gr': 'S,муж,од=им,мн'}], 'text': 'друзья'}, {'text': ' '}, {'analysis': [{'lex': 'и', 'wt': 0.9999770357, 'gr': 'CONJ='}], 'text': 'и'}, {'text': ' '}, {'analysis': [{'lex': 'сверстник', 'wt': 1, 'gr': 'S,муж,од=им,мн'}], 'text': 'сверстники'}, {'text': ' '}, {'analysis': [{'lex': 'приспосабливаться', 'wt': 1, 'gr': 'V,нп=непрош,мн,изъяв,3-л,несов'}], 'text': 'приспосабливаются'}, {'text': ', '}, {'analysis': [{'lex': 'изменяться', 'wt': 1, 'gr': 'V,нп=непрош,мн,изъяв,3-л,несов'}], 'text': 'изменяются'}, {'text': ' '}, {'analysis': [{'lex': 'и', 'wt': 0.9999770357, 'gr': 'CONJ='}], 'text': 'и'}, {'text': ' '}, {'analysis': [{'lex': 'гордиться', 'wt': 1, 'gr': 'V,несов,нп=непрош,мн,изъяв,3-л'}], 'text': 'гордятся'}, {'text': ' '}, {'analysis': [{'lex': 'то', 'wt': 0.6993998155, 'gr': 'SPRO,ед,сред,неод=твор'}], 'text': 'тем'}, {'text': ', '}, {'analysis': [{'lex': 'что', 'wt': 0.688532576, 'gr': 'CONJ='}], 'text': 'что'}, {'text': ' '}, {'analysis': [{'lex': 'они', 'wt': 0.000790703665, 'gr': 'SPRO,мн=дат'}], 'text': 'им'}, {'text': ' '}, {'analysis': [{'lex': 'удаваться', 'wt': 1, 'gr': 'V,нп=прош,ед,изъяв,сред,сов'}], 'text': 'удалось'}, {'text': ' '}, {'analysis': [{'lex': 'сохранять', 'wt': 1, 'gr': 'V,пе=инф,сов'}], 'text': 'сохранить'}, {'text': ' '}, {'analysis': [{'lex': 'внешний', 'wt': 1, 'gr': 'A=вин,ед,полн,жен'}], 'text': 'внешнюю'}, {'text': ' '}, {'analysis': [{'lex': 'интеллигентность', 'wt': 1, 'gr': 'S,жен,неод=(вин,ед|им,ед)'}], 'text': 'интеллигентность'}, {'text': ' '}, {'analysis': [{'lex': 'и', 'wt': 0.9999770357, 'gr': 'CONJ='}], 'text': 'и'}, {'text': ' '}, {'analysis': [{'lex': 'устаивать', 'wt': 1, 'gr': 'V,нп=инф,сов'}], 'text': 'устоять'}, {'text': '. '}, {'analysis': [{'lex': 'а', 'wt': 0.9822148501, 'gr': 'CONJ='}], 'text': 'А'}, {'text': ' '}, {'analysis': [{'lex': 'он', 'wt': 1, 'gr': 'SPRO,ед,3-л,муж=им'}], 'text': 'он'}, {'text': ' '}, {'analysis': [{'lex': 'постепенно', 'wt': 0.9963549122, 'gr': 'ADV='}], 'text': 'постепенно'}, {'text': ' '}, {'analysis': [{'lex': 'опускаться', 'wt': 1, 'gr': 'V,нп=непрош,ед,изъяв,3-л,несов'}], 'text': 'опускается'}, {'text': ', '}, {'analysis': [{'lex': 'страдать', 'wt': 1, 'gr': 'V,несов,нп=непрош,ед,изъяв,3-л'}], 'text': 'страдает'}, {'text': ', '}, {'analysis': [{'lex': 'упрекать', 'wt': 1, 'gr': 'V,пе=непрош,деепр,несов'}], 'text': 'упрекая'}, {'text': ' '}, {'analysis': [{'lex': 'себя', 'wt': 1, 'gr': 'SPRO=(вин|род)'}], 'text': 'себя'}, {'text': ' '}, {'analysis': [{'lex': 'в', 'wt': 0.9999917878, 'gr': 'PR='}], 'text': 'в'}, {'text': ' '}, {'analysis': [{'lex': 'безволие', 'wt': 1, 'gr': 'S,сред,неод=пр,ед'}], 'text': 'безволии'}, {'text': ', '}, {'analysis': [{'lex': 'болеть', 'wt': 1, 'gr': 'V,несов,нп=непрош,ед,изъяв,3-л'}], 'text': 'болеет'}, {'text': ' '}, {'analysis': [{'lex': 'и', 'wt': 0.9999770357, 'gr': 'CONJ='}], 'text': 'и'}, {'text': ' '}, {'analysis': [{'lex': 'рано', 'wt': 0.8482361601, 'gr': 'ADV='}], 'text': 'рано'}, {'text': ' '}, {'analysis': [{'lex': 'умирать', 'wt': 1, 'gr': 'V,нп=непрош,ед,изъяв,3-л,несов'}], 'text': 'умирает'}, {'text': '.'}, {'text': ' \\n'}, {'text': ' '}, {'analysis': [{'lex': 'для', 'wt': 1, 'gr': 'PR='}], 'text': 'Для'}, {'text': ' '}, {'analysis': [{'lex': 'окружающие', 'wt': 0.6348522644, 'gr': 'S,мн,од=(пр|вин|род)'}], 'text': 'окружающих'}, {'text': ' '}, {'analysis': [{'lex': 'он', 'wt': 1, 'gr': 'SPRO,ед,3-л,муж=им'}], 'text': 'он'}, {'text': ' '}, {'analysis': [{'lex': 'попусту', 'wt': 1, 'gr': 'ADV='}], 'text': 'попусту'}, {'text': ' '}, {'analysis': [{'lex': 'растрачивать', 'wt': 1, 'gr': 'V,пе=(прош,вин,ед,прич,полн,муж,сов,действ,неод|прош,им,ед,прич,полн,муж,сов,действ)'}], 'text': 'растративший'}, {'text': ' '}, {'analysis': [{'lex': 'себя', 'wt': 1, 'gr': 'SPRO=(вин|род)'}], 'text': 'себя'}, {'text': ' '}, {'analysis': [{'lex': 'и', 'wt': 0.9999770357, 'gr': 'CONJ='}], 'text': 'и'}, {'text': ' '}, {'analysis': [{'lex': 'общественный', 'wt': 1, 'gr': 'A=ед,кр,сред'}], 'text': 'общественно'}, {'text': ' '}, {'analysis': [{'lex': 'лишний', 'wt': 1, 'gr': 'A=(вин,ед,полн,муж,неод|им,ед,полн,муж)'}], 'text': 'лишний'}, {'text': ' '}, {'analysis': [{'lex': 'человек', 'wt': 1, 'gr': 'S,муж,од=(вин,мн|род,мн|им,ед)'}], 'text': 'человек'}, {'text': '. '}, {'text': '«'}, {'analysis': [{'lex': 'не', 'wt': 1, 'gr': 'PART='}], 'text': 'Не'}, {'text': ' '}, {'analysis': [{'lex': 'выдаваться', 'wt': 1, 'gr': 'V,нп=прош,ед,изъяв,муж,сов'}], 'text': 'выдался'}, {'text': ',\\xa0– '}, {'analysis': [{'lex': 'говорить', 'wt': 1, 'gr': 'V,несов,пе=непрош,ед,изъяв,3-л'}], 'text': 'говорит'}, {'text': ' '}, {'analysis': [{'lex': 'о', 'wt': 0.9737875835, 'gr': 'PR='}], 'text': 'о'}, {'text': ' '}, {'analysis': [{'lex': 'немой', 'wt': 0.0009807989142, 'gr': 'A=ед,кр,муж'}], 'text': 'нем'}, {'text': ' '}, {'analysis': [{'lex': 'дворник', 'wt': 0.9206029572, 'gr': 'S,муж,од=им,ед'}], 'text': 'дворник'}, {'text': ' '}, {'analysis': [{'lex': 'маркел', 'wt': 1, 'gr': 'S,имя,муж,од=им,ед'}], 'text': 'Маркел'}, {'text': '.\\xa0'}, {'text': '– '}, {'analysis': [{'lex': 'сколько', 'wt': 0.1515155468, 'gr': 'CONJ='}], 'text': 'Сколько'}, {'text': ' '}, {'analysis': [{'lex': 'на', 'wt': 0.9989522965, 'gr': 'PR='}], 'text': 'на'}, {'text': ' '}, {'analysis': [{'lex': 'ты', 'wt': 1, 'gr': 'SPRO,ед,2-л=(вин|род)'}], 'text': 'тебя'}, {'text': ' '}, {'analysis': [{'lex': 'деньги', 'wt': 1, 'gr': 'S,мн,неод=род'}], 'text': 'денег'}, {'text': ' '}, {'analysis': [{'lex': 'изводить', 'wt': 1, 'gr': 'V=прош,мн,изъяв,сов'}], 'text': 'извели'}, {'text': '! '}, {'analysis': [{'lex': 'учиться', 'wt': 1, 'gr': 'V,несов,нп=прош,ед,изъяв,муж'}], 'text': 'Учился'}, {'text': ', '}, {'analysis': [{'lex': 'учиться', 'wt': 1, 'gr': 'V,несов,нп=прош,ед,изъяв,муж'}], 'text': 'учился'}, {'text': ', '}, {'analysis': [{'lex': 'а', 'wt': 0.9822148501, 'gr': 'CONJ='}], 'text': 'а'}, {'text': ' '}, {'analysis': [{'lex': 'труд', 'wt': 1, 'gr': 'S,муж,неод=(вин,мн|им,мн)'}], 'text': 'труды'}, {'text': ' '}, {'analysis': [{'lex': 'прах', 'wt': 1, 'gr': 'S,муж,неод=твор,ед'}], 'text': 'прахом'}, {'text': ' '}, {'analysis': [{'lex': 'пойти', 'wt': 0.997163332, 'gr': 'V,сов,нп=прош,мн,изъяв'}], 'text': 'пошли'}, {'text': '»'}, {'text': '. '}, {'analysis': [{'lex': 'он', 'wt': 1, 'gr': 'SPRO,ед,3-л,муж=им'}], 'text': 'Он'}, {'text': ' '}, {'analysis': [{'lex': 'же', 'wt': 0.9351936974, 'gr': 'PART='}], 'text': 'же'}, {'text': ', '}, {'analysis': [{'lex': 'не', 'wt': 1, 'gr': 'PART='}], 'text': 'не'}, {'text': ' '}, {'analysis': [{'lex': 'кривить', 'wt': 1, 'gr': 'V,несов,пе=непрош,деепр'}], 'text': 'кривя'}, {'text': ' '}, {'analysis': [{'lex': 'душа', 'wt': 1, 'gr': 'S,жен,неод=твор,ед'}], 'text': 'душой'}, {'text': ' '}, {'analysis': [{'lex': 'и', 'wt': 0.9999770357, 'gr': 'CONJ='}], 'text': 'и'}, {'text': ' '}, {'analysis': [{'lex': 'не', 'wt': 1, 'gr': 'PART='}], 'text': 'не'}, {'text': ' '}, {'analysis': [{'lex': 'терять', 'wt': 1, 'gr': 'V,несов,пе=непрош,деепр'}], 'text': 'теряя'}, {'text': ' '}, {'analysis': [{'lex': 'ясность', 'wt': 1, 'gr': 'S,жен,неод=(пр,ед|вин,мн|дат,ед|род,ед|им,мн)'}], 'text': 'ясности'}, {'text': ' '}, {'analysis': [{'lex': 'восприятие', 'wt': 1, 'gr': 'S,сред,неод=(вин,мн|род,ед|им,мн)'}], 'text': 'восприятия'}, {'text': ', '}, {'analysis': [{'lex': 'видеть', 'wt': 1, 'gr': 'V,несов,пе=непрош,ед,изъяв,3-л'}], 'text': 'видит'}, {'text': ' '}, {'analysis': [{'lex': 'страшный', 'wt': 1, 'gr': 'A=вин,ед,полн,жен'}], 'text': 'страшную'}, {'text': ' '}, {'analysis': [{'lex': 'цена', 'wt': 1, 'gr': 'S,жен,неод=вин,ед'}], 'text': 'цену'}, {'text': ' '}, {'analysis': [{'lex': 'тот', 'wt': 0.2126226946, 'gr': 'APRO=(вин,ед,муж,од|род,ед,муж|род,ед,сред)'}], 'text': 'того'}, {'text': ' '}, {'analysis': [{'lex': 'духовный', 'wt': 1, 'gr': 'A=(вин,ед,полн,муж,од|род,ед,полн,муж|род,ед,полн,сред)'}], 'text': 'духовного'}, {'text': ' '}, {'analysis': [{'lex': 'извращение', 'wt': 1, 'gr': 'S,сред,неод=(вин,мн|род,ед|им,мн)'}], 'text': 'извращения'}, {'text': ', '}, {'analysis': [{'lex': 'который', 'wt': 1, 'gr': 'APRO=вин,ед,жен'}], 'text': 'которую'}, {'text': ' '}, {'analysis': [{'lex': 'платить', 'wt': 1, 'gr': 'V,несов,пе=непрош,мн,изъяв,3-л'}], 'text': 'платят'}, {'text': ' '}, {'analysis': [{'lex': 'его', 'wt': 3.284086391e-05, 'gr': 'APRO=(пр,мн|дат,мн|род,мн|твор,мн|им,мн|им,ед,жен|вин,ед,муж,од|род,ед,муж|род,ед,сред|вин,ед,сред|им,ед,сред|пр,ед,жен|дат,ед,жен|род,ед,жен|твор,ед,жен|пр,ед,муж|пр,ед,сред|дат,ед,муж|дат,ед,сред|вин,ед,жен|вин,мн,неод|вин,ед,муж,неод|им,ед,муж|твор,ед,муж|твор,ед,сред|вин,мн,од|пр,мн,сред|вин,мн,сред|дат,мн,сред|род,мн,сред|твор,мн,сред|им,мн,сред|пр,мн,муж|вин,мн,муж|вин,ед,муж|дат,мн,муж)'}], 'text': 'его'}, {'text': ' '}, {'analysis': [{'lex': 'порабощать', 'wt': 1, 'gr': 'V,пе=(прош,вин,мн,прич,полн,сов,страд,неод|прош,им,мн,прич,полн,сов,страд)'}], 'text': 'порабощенные'}, {'text': ' '}, {'analysis': [{'lex': 'современник', 'wt': 1, 'gr': 'S,муж,од=им,мн'}], 'text': 'современники'}, {'text': '. '}, {'analysis': [{'lex': 'именно', 'wt': 1, 'gr': 'PART='}], 'text': 'Именно'}, {'text': ' '}, {'analysis': [{'lex': 'в', 'wt': 0.9999917878, 'gr': 'PR='}], 'text': 'в'}, {'text': ' '}, {'analysis': [{'lex': 'этот', 'wt': 0.4217264966, 'gr': 'APRO=(пр,ед,муж|пр,ед,сред)'}], 'text': 'этом'}, {'text': ' '}, {'analysis': [{'lex': 'смысл', 'wt': 1, 'gr': 'S,муж,неод=пр,ед'}], 'text': 'смысле'}, {'text': ' '}, {'analysis': [{'lex': 'надо', 'wt': 0.9770716618, 'gr': 'ADV,прдк='}], 'text': 'надо'}, {'text': ' '}, {'analysis': [{'lex': 'понимать', 'wt': 1, 'gr': 'V=инф,несов,пе'}], 'text': 'понимать'}, {'text': ' '}, {'analysis': [{'lex': 'фраза', 'wt': 1, 'gr': 'S,жен,неод=вин,ед'}], 'text': 'фразу'}, {'text': ': «'}, {'analysis': [{'lex': 'дорогой', 'wt': 0.9983524956, 'gr': 'A=(вин,мн,полн,неод|им,мн,полн)'}], 'text': 'Дорогие'}, {'text': ' '}, {'analysis': [{'lex': 'друг', 'wt': 1, 'gr': 'S,муж,од=им,мн'}], 'text': 'друзья'}, {'text': ', '}, {'analysis': [{'lex': 'о', 'wt': 0.9737875835, 'gr': 'PR='}], 'text': 'о'}, {'text': ' '}, {'analysis': [{'lex': 'как', 'wt': 0.6102574114, 'gr': 'CONJ='}], 'text': 'как'}, {'text': ' '}, {'analysis': [{'lex': 'безнадежно', 'wt': 0.9767781356, 'gr': 'ADV='}], 'text': 'безнадежно'}, {'text': ' '}, {'analysis': [{'lex': 'ординарный', 'wt': 1, 'gr': 'A=мн,кр'}], 'text': 'ординарны'}, {'text': ' '}, {'analysis': [{'lex': 'вы', 'wt': 1, 'gr': 'SPRO,мн,2-л=им'}], 'text': 'вы'}, {'text': ' '}, {'analysis': [{'lex': 'и', 'wt': 0.9999770357, 'gr': 'CONJ='}], 'text': 'и'}, {'text': ' '}, {'analysis': [{'lex': 'круг', 'wt': 1, 'gr': 'S,муж,неод=(вин,ед|им,ед)'}], 'text': 'круг'}, {'text': ', '}, {'analysis': [{'lex': 'который', 'wt': 1, 'gr': 'APRO=(вин,ед,муж,неод|им,ед,муж)'}], 'text': 'который'}, {'text': ' '}, {'analysis': [{'lex': 'вы', 'wt': 1, 'gr': 'SPRO,мн,2-л=им'}], 'text': 'вы'}, {'text': ' '}, {'analysis': [{'lex': 'представлять', 'wt': 1, 'gr': 'V,пе=непрош,мн,изъяв,2-л,несов'}], 'text': 'представляете'}, {'text': ', '}, {'analysis': [{'lex': 'и', 'wt': 0.9999770357, 'gr': 'CONJ='}], 'text': 'и'}, {'text': ' '}, {'analysis': [{'lex': 'блеск', 'wt': 1, 'gr': 'S,муж,неод=(вин,ед|им,ед)'}], 'text': 'блеск'}, {'text': ' '}, {'analysis': [{'lex': 'и', 'wt': 0.9999770357, 'gr': 'CONJ='}], 'text': 'и'}, {'text': ' '}, {'analysis': [{'lex': 'искусство', 'wt': 1, 'gr': 'S,сред,неод=(вин,ед|им,ед)'}], 'text': 'искусство'}, {'text': ' '}, {'analysis': [{'lex': 'ваш', 'wt': 1, 'gr': 'APRO=(пр,мн|род,мн|вин,мн,од)'}], 'text': 'ваших'}, {'text': ' '}, {'analysis': [{'lex': 'любимый', 'wt': 0.5819094646, 'gr': 'A=(пр,мн,полн|вин,мн,полн,од|род,мн,полн)'}], 'text': 'любимых'}, {'text': ' '}, {'analysis': [{'lex': 'имя', 'wt': 1, 'gr': 'S,сред,неод=род,мн'}], 'text': 'имен'}, {'text': ' '}, {'analysis': [{'lex': 'и', 'wt': 0.9999770357, 'gr': 'CONJ='}], 'text': 'и'}, {'text': ' '}, {'analysis': [{'lex': 'авторитет', 'wt': 1, 'gr': 'S,муж,неод=род,мн'}], 'text': 'авторитетов'}, {'text': '. '}, {'analysis': [{'lex': 'единственно', 'wt': 0.810956633, 'gr': 'ADV='}], 'text': 'Единственно'}, {'text': ' '}, {'analysis': [{'lex': 'живой', 'wt': 1, 'gr': 'A=(вин,ед,полн,сред|им,ед,полн,сред)'}], 'text': 'живое'}, {'text': ' '}, {'analysis': [{'lex': 'и', 'wt': 0.9999770357, 'gr': 'CONJ='}], 'text': 'и'}, {'text': ' '}, {'analysis': [{'lex': 'яркий', 'wt': 1, 'gr': 'A=(вин,ед,полн,сред|им,ед,полн,сред)'}], 'text': 'яркое'}, {'text': ' '}, {'analysis': [{'lex': 'в', 'wt': 0.9999917878, 'gr': 'PR='}], 'text': 'в'}, {'text': ' '}, {'analysis': [{'lex': 'вы', 'wt': 1, 'gr': 'SPRO,мн,2-л=(пр|вин|род)'}], 'text': 'вас'}, {'text': ' – '}, {'analysis': [{'lex': 'это', 'wt': 0.7809833731, 'gr': 'SPRO,ед,сред,неод=(вин|им)'}], 'text': 'это'}, {'text': ' '}, {'analysis': [{'lex': 'то', 'wt': 0.2640456945, 'gr': 'PART='}], 'text': 'то'}, {'text': ', '}, {'analysis': [{'lex': 'что', 'wt': 0.688532576, 'gr': 'CONJ='}], 'text': 'что'}, {'text': ' '}, {'analysis': [{'lex': 'вы', 'wt': 1, 'gr': 'SPRO,мн,2-л=им'}], 'text': 'вы'}, {'text': ' '}, {'analysis': [{'lex': 'жить', 'wt': 0.999995018, 'gr': 'V,несов,нп=прош,мн,изъяв'}], 'text': 'жили'}, {'text': ' '}, {'analysis': [{'lex': 'в', 'wt': 0.9999917878, 'gr': 'PR='}], 'text': 'в'}, {'text': ' '}, {'analysis': [{'lex': 'один', 'wt': 0.7718995333, 'gr': 'APRO=(вин,ед,сред|им,ед,сред)'}], 'text': 'одно'}, {'text': ' '}, {'analysis': [{'lex': 'время', 'wt': 1, 'gr': 'S,сред,неод=(вин,ед|им,ед)'}], 'text': 'время'}, {'text': ' '}, {'analysis': [{'lex': 'со', 'wt': 1, 'gr': 'PR='}], 'text': 'со'}, {'text': ' '}, {'analysis': [{'lex': 'я', 'wt': 1, 'gr': 'SPRO,ед,1-л=твор'}], 'text': 'мной'}, {'text': ' '}, {'analysis': [{'lex': 'и', 'wt': 0.9999770357, 'gr': 'CONJ='}], 'text': 'и'}, {'text': ' '}, {'analysis': [{'lex': 'я', 'wt': 0.9999549915, 'gr': 'SPRO,ед,1-л=(вин|род)'}], 'text': 'меня'}, {'text': ' '}, {'analysis': [{'lex': 'знать', 'wt': 1, 'gr': 'V,несов,пе=прош,мн,изъяв'}], 'text': 'знали'}, {'text': '»'}, {'text': '.'}, {'text': ' \\n'}, {'text': ' '}, {'analysis': [{'lex': 'этот', 'wt': 0.9999173114, 'gr': 'APRO=им,ед,жен'}], 'text': 'Эта'}, {'text': ' '}, {'analysis': [{'lex': 'точный', 'wt': 1, 'gr': 'A=им,ед,полн,жен'}], 'text': 'точная'}, {'text': ' '}, {'analysis': [{'lex': 'констатация', 'wt': 1, 'gr': 'S,жен,неод=им,ед'}], 'text': 'констатация'}, {'text': ' '}, {'analysis': [{'lex': 'разница', 'wt': 1, 'gr': 'S,жен,неод=(вин,мн|род,ед|им,мн)'}], 'text': 'разницы'}, {'text': ' '}, {'analysis': [{'lex': 'между', 'wt': 1, 'gr': 'PR='}], 'text': 'между'}, {'text': ' '}, {'analysis': [{'lex': 'творчески', 'wt': 0.9986144172, 'gr': 'ADV='}], 'text': 'творчески'}, {'text': ' '}, {'analysis': [{'lex': 'свободный', 'wt': 0.9936775716, 'gr': 'A=(дат,мн,полн|твор,ед,полн,муж|твор,ед,полн,сред)'}], 'text': 'свободным'}, {'text': ' '}, {'analysis': [{'lex': 'художник', 'wt': 1, 'gr': 'S,муж,од=твор,ед'}], 'text': 'художником'}, {'text': ' '}, {'analysis': [{'lex': 'и', 'wt': 0.9999770357, 'gr': 'CONJ='}], 'text': 'и'}, {'text': ' '}, {'analysis': [{'lex': 'человек', 'wt': 1, 'gr': 'S,муж,од=твор,ед'}], 'text': 'человеком'}, {'text': ', '}, {'analysis': [{'lex': 'который', 'wt': 1, 'gr': 'APRO=(вин,ед,муж,неод|им,ед,муж)'}], 'text': 'который'}, {'text': ' '}, {'analysis': [{'lex': 'идеализировать', 'wt': 1, 'gr': 'V,пе=(непрош,ед,изъяв,3-л,несов|непрош,ед,изъяв,3-л,сов)'}], 'text': 'идеализирует'}, {'text': ' '}, {'analysis': [{'lex': 'свой', 'wt': 1, 'gr': 'APRO=вин,ед,жен'}], 'text': 'свою'}, {'text': ' '}, {'analysis': [{'lex': 'неволя', 'wt': 0.9963640945, 'gr': 'S,жен,неод=вин,ед'}], 'text': 'неволю'}, {'text': ', '}, {'analysis': [{'lex': 'вызывать', 'wt': 1, 'gr': 'V,пе=прош,ед,изъяв,жен,сов'}], 'text': 'вызвала'}, {'text': ' '}, {'analysis': [{'lex': 'в', 'wt': 0.9999917878, 'gr': 'PR='}], 'text': 'в'}, {'text': ' '}, {'analysis': [{'lex': 'свой', 'wt': 0.9940018867, 'gr': 'APRO=(вин,ед,сред|им,ед,сред)'}], 'text': 'свое'}, {'text': ' '}, {'analysis': [{'lex': 'время', 'wt': 1, 'gr': 'S,сред,неод=(вин,ед|им,ед)'}], 'text': 'время'}, {'text': ' '}, {'analysis': [{'lex': 'обида', 'wt': 1, 'gr': 'S,жен,неод=вин,ед'}], 'text': 'обиду'}, {'text': ' '}, {'analysis': [{'lex': 'многий', 'wt': 0.8117613371, 'gr': 'APRO=(пр,мн,полн|вин,мн,полн,од|род,мн,полн)'}], 'text': 'многих'}, {'text': ' '}, {'analysis': [{'lex': 'и', 'wt': 0.9999770357, 'gr': 'CONJ='}], 'text': 'и'}, {'text': ' '}, {'analysis': [{'lex': 'в', 'wt': 0.9999917878, 'gr': 'PR='}], 'text': 'в'}, {'text': ' '}, {'analysis': [{'lex': 'значительный', 'wt': 1, 'gr': 'A=(пр,ед,полн,жен|дат,ед,полн,жен|род,ед,полн,жен|твор,ед,полн,жен)'}], 'text': 'значительной'}, {'text': ' '}, {'analysis': [{'lex': 'мера', 'wt': 0.9977598048, 'gr': 'S,жен,неод=(пр,ед|дат,ед)'}], 'text': 'мере'}, {'text': ' '}, {'analysis': [{'lex': 'обусловливать', 'wt': 1, 'gr': 'V,пе=прош,ед,изъяв,жен,сов'}], 'text': 'обусловила'}, {'text': ' '}, {'analysis': [{'lex': 'тридцатилетний', 'wt': 1, 'gr': 'A=(вин,ед,полн,муж,неод|им,ед,полн,муж)'}], 'text': 'тридцатилетний'}, {'text': ' '}, {'analysis': [{'lex': 'запрет', 'wt': 0.9964485686, 'gr': 'S,муж,неод=(вин,ед|им,ед)'}], 'text': 'запрет'}, {'text': ', '}, {'analysis': [{'lex': 'налагать', 'wt': 1, 'gr': 'V,пе=(прош,вин,ед,прич,полн,муж,сов,страд,неод|прош,им,ед,прич,полн,муж,сов,страд)'}], 'text': 'наложенный'}, {'text': ' '}, {'analysis': [{'lex': 'на', 'wt': 0.9989522965, 'gr': 'PR='}], 'text': 'на'}, {'text': ' '}, {'analysis': [{'lex': 'печатание', 'wt': 1, 'gr': 'S,сред,неод=(вин,ед|им,ед)'}], 'text': 'печатание'}, {'text': ' '}, {'analysis': [{'lex': 'роман', 'wt': 0.9217880188, 'gr': 'S,муж,неод=род,ед'}], 'text': 'романа'}, {'text': ' '}, {'analysis': [{'lex': 'на', 'wt': 0.9989522965, 'gr': 'PR='}], 'text': 'на'}, {'text': ' '}, {'analysis': [{'lex': 'родина', 'wt': 0.9985715371, 'gr': 'S,жен,неод=(пр,ед|дат,ед)'}], 'text': 'родине'}, {'text': '. '}, {'analysis': [{'lex': 'но', 'wt': 0.9998906299, 'gr': 'CONJ='}], 'text': 'Но'}, {'text': ' '}, {'analysis': [{'lex': 'в', 'wt': 0.9999917878, 'gr': 'PR='}], 'text': 'в'}, {'text': ' '}, {'analysis': [{'lex': 'тот', 'wt': 0.01722653842, 'gr': 'APRO=(вин,ед,сред|им,ед,сред)'}], 'text': 'то'}, {'text': ' '}, {'analysis': [{'lex': 'же', 'wt': 0.9351936974, 'gr': 'PART='}], 'text': 'же'}, {'text': ' '}, {'analysis': [{'lex': 'самый', 'wt': 0.9979694553, 'gr': 'APRO=(вин,ед,сред|им,ед,сред)'}], 'text': 'самое'}, {'text': ' '}, {'analysis': [{'lex': 'время', 'wt': 1, 'gr': 'S,сред,неод=(вин,ед|им,ед)'}], 'text': 'время'}, {'text': ' '}, {'analysis': [{'lex': 'целый', 'wt': 0.2169108493, 'gr': 'A=(вин,ед,полн,сред|им,ед,полн,сред)'}], 'text': 'целое'}, {'text': ' '}, {'analysis': [{'lex': 'поколение', 'wt': 1, 'gr': 'S,сред,неод=(вин,ед|им,ед)'}], 'text': 'поколение'}, {'text': ' '}, {'analysis': [{'lex': 'будущий', 'wt': 0.889622436, 'gr': 'A=(пр,мн,полн|вин,мн,полн,од|род,мн,полн)'}], 'text': 'будущих'}, {'text': ' '}, {'analysis': [{'lex': 'диссидент', 'wt': 1, 'gr': 'S,муж,од=(вин,мн|род,мн)'}], 'text': 'диссидентов'}, {'text': ' '}, {'analysis': [{'lex': 'читать', 'wt': 1, 'gr': 'V,несов,пе=прош,ед,изъяв,сред'}], 'text': 'читало'}, {'text': ' «'}, {'analysis': [{'lex': 'доктор', 'wt': 1, 'gr': 'S,муж,од=(вин,ед|род,ед|им,мн)'}], 'text': 'Доктора'}, {'text': ' '}, {'analysis': [{'lex': 'живаго', 'wt': 1, 'gr': 'S,фам,мж,од=(пр,мн|пр,ед|вин,мн|вин,ед|дат,мн|дат,ед|род,мн|род,ед|твор,мн|твор,ед|им,мн|им,ед)'}], 'text': 'Живаго'}, {'text': '» '}, {'analysis': [{'lex': 'в', 'wt': 0.9999917878, 'gr': 'PR='}], 'text': 'в'}, {'text': ' '}, {'analysis': [{'lex': 'запрещать', 'wt': 1, 'gr': 'V,пе=(прош,пр,мн,прич,полн,сов,страд|прош,вин,мн,прич,полн,сов,страд,од|прош,род,мн,прич,полн,сов,страд)'}], 'text': 'запрещенных'}, {'text': ' '}, {'analysis': [{'lex': 'список', 'wt': 1, 'gr': 'S,муж,неод=пр,мн'}], 'text': 'списках'}, {'text': ' '}, {'analysis': [{'lex': 'и', 'wt': 0.9999770357, 'gr': 'CONJ='}], 'text': 'и'}]\n"
     ]
    }
   ],
   "source": [
    "words_analized = mystem.analyze(clean_text_spaces)\n",
    "print(words_analized[1000:1500])"
   ]
  },
  {
   "cell_type": "code",
   "execution_count": 25,
   "metadata": {
    "scrolled": false
   },
   "outputs": [],
   "source": [
    "# основная функция - pymorphy.parse\n",
    "morph = MorphAnalyzer()\n",
    "words_analized = [morph.parse(token) for token in word_tokenize(clean_text_spaces)]\n",
    "#for item in words_analized:\n",
    "        #print(item, '\\n')\n",
    "    \n",
    "#это наречие, а не существительное!!!\n",
    "# хотя в основном он нормально наречия определяет, напр, сначала - все хорошо, в наречиях на о тоже все хорошо, насколько я могла заметить, может я что то пропустила.\n",
    "# может, дело в окончании, пайморфи путается из за И\n",
    "#[Parse(word='фарисейски', tag=OpencorporaTag('NOUN,inan,masc,Geox plur,nomn'), normal_form='фарисейск', score=0.3879310344827587, methods_stack=((DictionaryAnalyzer(), 'ейски', 74, 6), (UnknownPrefixAnalyzer(score_multiplier=0.5), 'фарис'))), Parse(word='фарисейски', tag=OpencorporaTag('NOUN,inan,masc,Geox plur,accs'), normal_form='фарисейск', score=0.3879310344827587, methods_stack=((DictionaryAnalyzer(), 'ейски', 74, 9), (UnknownPrefixAnalyzer(score_multiplier=0.5), 'фарис'))), Parse(word='фарисейски', tag=OpencorporaTag('ADVB'), normal_form='фарисейски', score=0.22413793103448276, methods_stack=((FakeDictionary(), 'фарисейски', 3, 0), (KnownSuffixAnalyzer(min_word_length=4, score_multiplier=0.5), 'ейски')))] \n",
    "\n",
    "# а тут не путается..[Parse(word='творчески', tag=OpencorporaTag('ADVB'), normal_form='творчески', score=1.0, methods_stack=((DictionaryAnalyzer(), 'творчески', 3, 0),))] \n",
    "# [Parse(word='окружающих', tag=OpencorporaTag('ADJF plur,gent'), normal_form='окружающий', score=0.09090909090909091, methods_stack=((DictionaryAnalyzer(), 'окружающих', 213, 21),))\n",
    "# это должно быть существительное\n"
   ]
  },
  {
   "cell_type": "code",
   "execution_count": null,
   "metadata": {},
   "outputs": [],
   "source": [
    "#я так понимаю, они стоят друг друга в плане ошибок, кто что; хотя я отдаю себе отчет в том, \n",
    "#что я руками-глазами не могла проверить все,\n",
    "#например, я не проверяла союзы, частицы и предлоги - их даже люди иногда путают,\n",
    "# не удивлюсь, если пайморфи, например, тоже запутается"
   ]
  },
  {
   "cell_type": "code",
   "execution_count": null,
   "metadata": {},
   "outputs": [],
   "source": []
  }
 ],
 "metadata": {
  "kernelspec": {
   "display_name": "Python 3",
   "language": "python",
   "name": "python3"
  },
  "language_info": {
   "codemirror_mode": {
    "name": "ipython",
    "version": 3
   },
   "file_extension": ".py",
   "mimetype": "text/x-python",
   "name": "python",
   "nbconvert_exporter": "python",
   "pygments_lexer": "ipython3",
   "version": "3.6.9"
  }
 },
 "nbformat": 4,
 "nbformat_minor": 4
}
