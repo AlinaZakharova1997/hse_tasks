{
 "cells": [
  {
   "cell_type": "code",
   "execution_count": 262,
   "metadata": {},
   "outputs": [],
   "source": [
    "from string import punctuation\n",
    "from razdel import sentenize\n",
    "from razdel import tokenize as razdel_tokenize\n",
    "import numpy as np\n",
    "from collections import Counter\n",
    "\n",
    "def normalize(text):\n",
    "    normalized_text = [word.text.strip(punctuation) for word \\\n",
    "                                                            in razdel_tokenize(text)]\n",
    "    normalized_text = [word.lower() for word in normalized_text if word and len(word) < 20 ]\n",
    "    return normalized_text\n",
    "\n",
    "\n",
    "def preprocess(text):\n",
    "    sents = sentenize(text)\n",
    "    return [normalize(sent.text) for sent in sents]\n",
    "\n",
    "def ngrammer(tokens, n):\n",
    "    ngrams = []\n",
    "    tokens = [token for token in tokens]\n",
    "    for i in range(0,len(tokens)-n+1):\n",
    "        ngrams.append(tuple(tokens[i:i+n]))\n",
    "    return ngrams"
   ]
  },
  {
   "cell_type": "code",
   "execution_count": 263,
   "metadata": {},
   "outputs": [],
   "source": [
    "dvach = open('Рабочий стол/2ch_corpus.txt').read()[:100000]\n",
    "news = open('Рабочий стол/lenta.txt').read()[:100000]"
   ]
  },
  {
   "cell_type": "code",
   "execution_count": 264,
   "metadata": {},
   "outputs": [],
   "source": [
    "from nltk.tokenize import sent_tokenize"
   ]
  },
  {
   "cell_type": "code",
   "execution_count": 265,
   "metadata": {},
   "outputs": [],
   "source": [
    "sentences_dvach = [['<start>','<start>'] + normalize(text) + ['<end>'] for text in sent_tokenize(dvach)]\n",
    "sentences_news = [['<start>','<start>'] + normalize(text) + ['<end>'] for text in sent_tokenize(news)]"
   ]
  },
  {
   "cell_type": "code",
   "execution_count": 266,
   "metadata": {},
   "outputs": [],
   "source": [
    "unigrams_dvach = Counter()\n",
    "trigrams_dvach = Counter()\n",
    "bigrams_dvach = Counter()\n",
    "for sentence in sentences_dvach:\n",
    "    unigrams_dvach.update(sentence)\n",
    "    bigrams_dvach.update(bigrammer(sentence,2))\n",
    "    trigrams_dvach.update(ngrammer(sentence,3))\n",
    "\n",
    "\n",
    "unigrams_news = Counter()\n",
    "trigrams_news = Counter()\n",
    "bigrams_news = Counter()\n",
    "for sentence in sentences_news:\n",
    "    unigrams_news.update(sentence)\n",
    "    bigrams_news.update(ngrammer(sentence,2))\n",
    "    trigrams_news.update(ngrammer(sentence,3))\n"
   ]
  },
  {
   "cell_type": "code",
   "execution_count": 267,
   "metadata": {},
   "outputs": [
    {
     "data": {
      "text/plain": [
       "[(('<start>', '<start>', 'в'), 54),\n",
       " (('<start>', '<start>', 'по'), 48),\n",
       " (('<start>', '<start>', 'как'), 32),\n",
       " (('<start>', '<start>', 'на'), 14),\n",
       " (('<start>', '<start>', 'об'), 14),\n",
       " (('<start>', 'об', 'этом'), 13),\n",
       " (('<start>', 'по', 'данным'), 12),\n",
       " (('bank', 'of', 'new'), 11),\n",
       " (('of', 'new', 'york'), 11),\n",
       " (('<start>', '<start>', 'это'), 10)]"
      ]
     },
     "execution_count": 267,
     "metadata": {},
     "output_type": "execute_result"
    }
   ],
   "source": [
    "# это триграммы\n",
    "trigrams_news.most_common(10)"
   ]
  },
  {
   "cell_type": "code",
   "execution_count": 268,
   "metadata": {
    "scrolled": false
   },
   "outputs": [],
   "source": [
    "#  Массив из нулей указанных размеров\n",
    "matrix_news = np.zeros((len(bigrams_news), \n",
    "                   len(unigrams_news)))\n",
    "# униграммы\n",
    "id2word_news = list(unigrams_news)\n",
    "#print(id2word_news)\n",
    "word2id_news = {word:i for i, word in enumerate(id2word_news)}\n",
    "#print(word2id_news)\n",
    "# биграммы\n",
    "id2bigram_news = list(bigrams_news)\n",
    "#print(id2bigram_news)\n",
    "bigram2id_news = {bigram:i for i, bigram in enumerate(id2bigram_news)}\n",
    "#print(bigram2id_news)\n",
    "    \n",
    "\n",
    "# вероятность можно получить поделив количесво вхождений триграмма на количество вхождений биграмма\n",
    "for ngram in trigrams_news:\n",
    "    word1, word2, word3 = ngram\n",
    "    bigramm = (word1,word2)\n",
    "    #int(bigram2id_news[bigramm])\n",
    "    matrix_news[bigram2id_news[bigramm]][word2id_news[word3]] = (trigrams_news[ngram]/bigrams_news[bigramm])"
   ]
  },
  {
   "cell_type": "code",
   "execution_count": 269,
   "metadata": {},
   "outputs": [
    {
     "name": "stdout",
     "output_type": "stream",
     "text": [
      "[[0.00000000e+00 6.89655172e-04 0.00000000e+00 ... 0.00000000e+00\n",
      "  0.00000000e+00 0.00000000e+00]\n",
      " [0.00000000e+00 0.00000000e+00 1.00000000e+00 ... 0.00000000e+00\n",
      "  0.00000000e+00 0.00000000e+00]\n",
      " [0.00000000e+00 0.00000000e+00 0.00000000e+00 ... 0.00000000e+00\n",
      "  0.00000000e+00 0.00000000e+00]\n",
      " ...\n",
      " [0.00000000e+00 0.00000000e+00 0.00000000e+00 ... 0.00000000e+00\n",
      "  0.00000000e+00 1.00000000e+00]\n",
      " [0.00000000e+00 0.00000000e+00 0.00000000e+00 ... 0.00000000e+00\n",
      "  0.00000000e+00 0.00000000e+00]\n",
      " [0.00000000e+00 0.00000000e+00 0.00000000e+00 ... 0.00000000e+00\n",
      "  0.00000000e+00 0.00000000e+00]]\n"
     ]
    }
   ],
   "source": [
    "#  Массив из нулей указанных размеров\n",
    "matrix_dvach = np.zeros((len(bigrams_dvach), \n",
    "                   len(unigrams_dvach)))\n",
    "# униграммы\n",
    "id2word_dvach = list(unigrams_dvach)\n",
    "#print(id2word_news)\n",
    "word2id_dvach = {word:i for i, word in enumerate(id2word_dvach)}\n",
    "#print(word2id_news)\n",
    "# биграммы\n",
    "id2bigram_dvach = list(bigrams_dvach)\n",
    "#print(id2bigram_news)\n",
    "bigram2id_dvach = {bigram:i for i, bigram in enumerate(id2bigram_dvach)}\n",
    "#print(bigram2id_news)\n",
    "    \n",
    "\n",
    "# вероятность можно получить поделив количесво вхождений триграмма на количество вхождений биграмма\n",
    "for ngram in trigrams_dvach:\n",
    "    word1, word2, word3 = ngram\n",
    "    bigramm = (word1,word2)\n",
    "    #print(bigram2id_news[bigramm])\n",
    "    matrix_dvach[bigram2id_dvach[bigramm]][word2id_dvach[word3]] = (trigrams_dvach[ngram]/bigrams_dvach[bigramm])\n",
    "print(matrix_dvach)"
   ]
  },
  {
   "cell_type": "code",
   "execution_count": 364,
   "metadata": {},
   "outputs": [],
   "source": [
    "def generate(matrix, id2word, bigram2id, n=100, start = ('<start>','<start>')):\n",
    "    # у меня есть список униграм и словарь из биграм; \n",
    "    # я пытаюсь составить текст длинны n, где маркер начала этого текста start = ('<start>','<start>')\n",
    "    # этот маркер будет типа первая триграмма текста, current_bigramm_idx = что тут я не поняла[start], \n",
    "    # но по идее если это такая триграмма, ее надо в триграммах искать\n",
    "    # маркер начала текста типа старт старт то есть первое слово и впереди два тега старт\n",
    "    # пока слов не станет ровно n, я заполняю матрицу словами\n",
    "    # слова выбираются функцией np.random.choice\n",
    "    # я добавляю туда параметр p=matrix[current_bigramm_idx], чтобы найти слово по его вероятности \n",
    "    # если нашелся тег конца, надо перейти на начало\n",
    "    # перезиписать индекс на новый\n",
    "    # print(current_idx) \n",
    "    #ну вот вы взяли получили первый индекс, перевели его в слово, добавли к тексту, \n",
    "    #теперь вам нужно взять второй старт и это первое слово, из маппинга\n",
    "    #для биграммов достать индекс (второго старта, первого слова) и положить этот индекс в current_bigramm_idx\n",
    "    \n",
    "    text = []\n",
    "    current_bigramm_idx = bigram2id[start]\n",
    "    \n",
    "    for i in range(n):\n",
    "        # тут мы получаем первый индекс рандомного слова\n",
    "        chosen = np.random.choice(matrix.shape[1],p=matrix[current_bigramm_idx])\n",
    "        #print(chosen)\n",
    "        \n",
    "        #print(current_word2)\n",
    "        # находим это слово в списке по его индексу и добавляем в текст\n",
    "        text.append(id2word[chosen])\n",
    "        current_word2 = ''\n",
    "        # если это слово имеет вид '<end>'\n",
    "        if id2word[chosen] == '<end>':\n",
    "            # то мы меняем индекс\n",
    "            #print(id2word[chosen])\n",
    "            chosen = bigram2id[start]\n",
    "            #print(chosen,'chosen')\n",
    "        current_bigramm_idx = bigram2id[(current_word2, id2word[chosen])]\n",
    "        #print(chosen)\n",
    "    \n",
    "    return ' '.join(text)"
   ]
  },
  {
   "cell_type": "code",
   "execution_count": 365,
   "metadata": {},
   "outputs": [
    {
     "ename": "KeyError",
     "evalue": "('', 'хорошо')",
     "output_type": "error",
     "traceback": [
      "\u001b[0;31m---------------------------------------------------------------------------\u001b[0m",
      "\u001b[0;31mKeyError\u001b[0m                                  Traceback (most recent call last)",
      "\u001b[0;32m<ipython-input-365-1913ca8524e5>\u001b[0m in \u001b[0;36m<module>\u001b[0;34m\u001b[0m\n\u001b[0;32m----> 1\u001b[0;31m \u001b[0mprint\u001b[0m\u001b[0;34m(\u001b[0m\u001b[0mgenerate\u001b[0m\u001b[0;34m(\u001b[0m\u001b[0mmatrix_dvach\u001b[0m\u001b[0;34m,\u001b[0m \u001b[0mid2word_dvach\u001b[0m\u001b[0;34m,\u001b[0m \u001b[0mbigram2id_dvach\u001b[0m\u001b[0;34m)\u001b[0m\u001b[0;34m.\u001b[0m\u001b[0mreplace\u001b[0m\u001b[0;34m(\u001b[0m\u001b[0;34m'<end>'\u001b[0m\u001b[0;34m,\u001b[0m \u001b[0;34m'\\n'\u001b[0m\u001b[0;34m)\u001b[0m\u001b[0;34m)\u001b[0m\u001b[0;34m\u001b[0m\u001b[0;34m\u001b[0m\u001b[0m\n\u001b[0m",
      "\u001b[0;32m<ipython-input-364-69f12c956a1d>\u001b[0m in \u001b[0;36mgenerate\u001b[0;34m(matrix, id2word, bigram2id, n, start)\u001b[0m\n\u001b[1;32m     33\u001b[0m             \u001b[0mchosen\u001b[0m \u001b[0;34m=\u001b[0m \u001b[0mbigram2id\u001b[0m\u001b[0;34m[\u001b[0m\u001b[0mstart\u001b[0m\u001b[0;34m]\u001b[0m\u001b[0;34m\u001b[0m\u001b[0;34m\u001b[0m\u001b[0m\n\u001b[1;32m     34\u001b[0m             \u001b[0;31m#print(chosen,'chosen')\u001b[0m\u001b[0;34m\u001b[0m\u001b[0;34m\u001b[0m\u001b[0;34m\u001b[0m\u001b[0m\n\u001b[0;32m---> 35\u001b[0;31m         \u001b[0mcurrent_bigramm_idx\u001b[0m \u001b[0;34m=\u001b[0m \u001b[0mbigram2id\u001b[0m\u001b[0;34m[\u001b[0m\u001b[0;34m(\u001b[0m\u001b[0mcurrent_word2\u001b[0m\u001b[0;34m,\u001b[0m \u001b[0mid2word\u001b[0m\u001b[0;34m[\u001b[0m\u001b[0mchosen\u001b[0m\u001b[0;34m]\u001b[0m\u001b[0;34m)\u001b[0m\u001b[0;34m]\u001b[0m\u001b[0;34m\u001b[0m\u001b[0;34m\u001b[0m\u001b[0m\n\u001b[0m\u001b[1;32m     36\u001b[0m         \u001b[0;31m#print(chosen)\u001b[0m\u001b[0;34m\u001b[0m\u001b[0;34m\u001b[0m\u001b[0;34m\u001b[0m\u001b[0m\n\u001b[1;32m     37\u001b[0m \u001b[0;34m\u001b[0m\u001b[0m\n",
      "\u001b[0;31mKeyError\u001b[0m: ('', 'хорошо')"
     ]
    }
   ],
   "source": [
    "print(generate(matrix_dvach, id2word_dvach, bigram2id_dvach).replace('<end>', '\\n'))"
   ]
  },
  {
   "cell_type": "code",
   "execution_count": 356,
   "metadata": {},
   "outputs": [
    {
     "ename": "KeyError",
     "evalue": "('<start>', 'августа')",
     "output_type": "error",
     "traceback": [
      "\u001b[0;31m---------------------------------------------------------------------------\u001b[0m",
      "\u001b[0;31mKeyError\u001b[0m                                  Traceback (most recent call last)",
      "\u001b[0;32m<ipython-input-356-3c154f6495c6>\u001b[0m in \u001b[0;36m<module>\u001b[0;34m\u001b[0m\n\u001b[0;32m----> 1\u001b[0;31m \u001b[0mprint\u001b[0m\u001b[0;34m(\u001b[0m\u001b[0mgenerate\u001b[0m\u001b[0;34m(\u001b[0m\u001b[0mmatrix_news\u001b[0m\u001b[0;34m,\u001b[0m \u001b[0mid2word_news\u001b[0m\u001b[0;34m,\u001b[0m \u001b[0mbigram2id_news\u001b[0m\u001b[0;34m)\u001b[0m\u001b[0;34m.\u001b[0m\u001b[0mreplace\u001b[0m\u001b[0;34m(\u001b[0m\u001b[0;34m'<end>'\u001b[0m\u001b[0;34m,\u001b[0m \u001b[0;34m'\\n'\u001b[0m\u001b[0;34m)\u001b[0m\u001b[0;34m)\u001b[0m\u001b[0;34m\u001b[0m\u001b[0;34m\u001b[0m\u001b[0m\n\u001b[0m",
      "\u001b[0;32m<ipython-input-354-85573cb27407>\u001b[0m in \u001b[0;36mgenerate\u001b[0;34m(matrix, id2word, bigram2id, n, start)\u001b[0m\n\u001b[1;32m     34\u001b[0m             \u001b[0mchosen\u001b[0m \u001b[0;34m=\u001b[0m \u001b[0mbigram2id\u001b[0m\u001b[0;34m[\u001b[0m\u001b[0mstart\u001b[0m\u001b[0;34m]\u001b[0m\u001b[0;34m\u001b[0m\u001b[0;34m\u001b[0m\u001b[0m\n\u001b[1;32m     35\u001b[0m             \u001b[0;31m#print(chosen,'chosen')\u001b[0m\u001b[0;34m\u001b[0m\u001b[0;34m\u001b[0m\u001b[0;34m\u001b[0m\u001b[0m\n\u001b[0;32m---> 36\u001b[0;31m         \u001b[0mcurrent_bigramm_idx\u001b[0m \u001b[0;34m=\u001b[0m \u001b[0mbigram2id\u001b[0m\u001b[0;34m[\u001b[0m\u001b[0;34m(\u001b[0m\u001b[0msecond_start\u001b[0m\u001b[0;34m,\u001b[0m \u001b[0mid2word\u001b[0m\u001b[0;34m[\u001b[0m\u001b[0mchosen\u001b[0m\u001b[0;34m]\u001b[0m\u001b[0;34m)\u001b[0m\u001b[0;34m]\u001b[0m\u001b[0;34m\u001b[0m\u001b[0;34m\u001b[0m\u001b[0m\n\u001b[0m\u001b[1;32m     37\u001b[0m         \u001b[0;31m#print(chosen)\u001b[0m\u001b[0;34m\u001b[0m\u001b[0;34m\u001b[0m\u001b[0;34m\u001b[0m\u001b[0m\n\u001b[1;32m     38\u001b[0m \u001b[0;34m\u001b[0m\u001b[0m\n",
      "\u001b[0;31mKeyError\u001b[0m: ('<start>', 'августа')"
     ]
    }
   ],
   "source": [
    "print(generate(matrix_news, id2word_news, bigram2id_news).replace('<end>', '\\n'))"
   ]
  },
  {
   "cell_type": "code",
   "execution_count": null,
   "metadata": {},
   "outputs": [],
   "source": []
  },
  {
   "cell_type": "code",
   "execution_count": null,
   "metadata": {},
   "outputs": [],
   "source": [
    "\n"
   ]
  },
  {
   "cell_type": "code",
   "execution_count": null,
   "metadata": {},
   "outputs": [],
   "source": []
  },
  {
   "cell_type": "code",
   "execution_count": 91,
   "metadata": {},
   "outputs": [],
   "source": []
  },
  {
   "cell_type": "code",
   "execution_count": 92,
   "metadata": {},
   "outputs": [],
   "source": []
  },
  {
   "cell_type": "code",
   "execution_count": null,
   "metadata": {},
   "outputs": [],
   "source": []
  },
  {
   "cell_type": "code",
   "execution_count": null,
   "metadata": {},
   "outputs": [],
   "source": []
  }
 ],
 "metadata": {
  "kernelspec": {
   "display_name": "Python 3",
   "language": "python",
   "name": "python3"
  },
  "language_info": {
   "codemirror_mode": {
    "name": "ipython",
    "version": 3
   },
   "file_extension": ".py",
   "mimetype": "text/x-python",
   "name": "python",
   "nbconvert_exporter": "python",
   "pygments_lexer": "ipython3",
   "version": "3.6.9"
  }
 },
 "nbformat": 4,
 "nbformat_minor": 4
}
