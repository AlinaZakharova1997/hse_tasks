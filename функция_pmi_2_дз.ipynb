{
 "cells": [
  {
   "cell_type": "code",
   "execution_count": 44,
   "metadata": {},
   "outputs": [],
   "source": [
    "import itertools\n",
    "from razdel import sentenize\n",
    "from razdel import tokenize as razdel_tokenize\n",
    "from pymorphy2 import MorphAnalyzer\n",
    "from collections import Counter, defaultdict\n",
    "import numpy as np\n",
    "import re\n",
    "from string import punctuation\n",
    "from nltk.corpus import stopwords\n",
    "import gensim\n",
    "\n",
    "stops = set(stopwords.words('russian') + [\"это\", \"весь\"])\n",
    "morph = MorphAnalyzer()\n",
    "\n",
    "def normalize(text):\n",
    "    tokens = re.findall('[а-яёa-z0-9]+', text.lower())\n",
    "    normalized_text = [morph.parse(word)[0].normal_form for word \\\n",
    "                                                            in tokens]\n",
    "    normalized_text = [word for word in normalized_text if len(word) > 2 and word not in stops]\n",
    "    \n",
    "    return normalized_text\n",
    "\n",
    "def preprocess(text):\n",
    "    sents = sentenize(text)\n",
    "    return [normalize(sent.text) for sent in sents]\n",
    "\n",
    "def ngrammer(tokens, stops, n=2):\n",
    "    ngrams = []\n",
    "    tokens = [token for token in tokens if token not in stops]\n",
    "    for i in range(0,len(tokens)-n+1):\n",
    "        ngrams.append(tuple(tokens[i:i+n]))\n",
    "    return ngrams"
   ]
  },
  {
   "cell_type": "code",
   "execution_count": 45,
   "metadata": {},
   "outputs": [],
   "source": [
    "corpus = open('Рабочий стол/2ch_corpus.txt').read()[:100000]\n",
    "corpus = preprocess(corpus)"
   ]
  },
  {
   "cell_type": "code",
   "execution_count": 55,
   "metadata": {},
   "outputs": [],
   "source": [
    "def scorer(worda_count, wordb_count, bigram_count, len_vocab, min_count, corpus_word_count):\n",
    "    if bigram_count >= min_count:\n",
    "        corpus_word_count = float(corpus_word_count)\n",
    "        pres_a = worda_count / corpus_word_count\n",
    "        pres_b = wordb_count / corpus_word_count\n",
    "        pres_ab = bigram_count / corpus_word_count\n",
    "        return np.log(pres_ab / (pres_a * pres_b))\n",
    "    else:\n",
    "        return 0\n"
   ]
  },
  {
   "cell_type": "code",
   "execution_count": 66,
   "metadata": {},
   "outputs": [],
   "source": [
    "ph = gensim.models.Phrases(corpus, scoring=scorer, min_count=1, threshold=0)\n",
    "p = gensim.models.phrases.Phraser(ph)\n",
    "ph2 = gensim.models.Phrases(p[corpus], scoring=scorer, min_count=1, threshold=0)\n",
    "p2 = gensim.models.phrases.Phraser(ph2)"
   ]
  },
  {
   "cell_type": "code",
   "execution_count": 67,
   "metadata": {},
   "outputs": [
    {
     "data": {
      "text/plain": [
       "['дело_пикча_сильно_сужать',\n",
       " 'общий_картина_отсекать_актуальный',\n",
       " 'технология_реальный_практика_просто',\n",
       " 'идейный_прототип_теория_пример',\n",
       " 'качество_первый_вполне_мочь',\n",
       " 'подойти_scheme_smalltalk_семейство']"
      ]
     },
     "execution_count": 67,
     "metadata": {},
     "output_type": "execute_result"
    }
   ],
   "source": [
    "p2[p[corpus[333]]]"
   ]
  },
  {
   "cell_type": "code",
   "execution_count": 68,
   "metadata": {},
   "outputs": [],
   "source": [
    "ph = gensim.models.Phrases(corpus, scoring=scorer, min_count=2, threshold=2)\n",
    "p = gensim.models.phrases.Phraser(ph)\n",
    "ph2 = gensim.models.Phrases(p[corpus], scoring=scorer, min_count=2, threshold=2)\n",
    "p2 = gensim.models.phrases.Phraser(ph2)"
   ]
  },
  {
   "cell_type": "code",
   "execution_count": 69,
   "metadata": {},
   "outputs": [
    {
     "data": {
      "text/plain": [
       "['дело',\n",
       " 'пикча',\n",
       " 'сильно',\n",
       " 'сужать',\n",
       " 'общий_картина',\n",
       " 'отсекать',\n",
       " 'актуальный',\n",
       " 'технология',\n",
       " 'реальный',\n",
       " 'практика_просто',\n",
       " 'идейный',\n",
       " 'прототип',\n",
       " 'теория',\n",
       " 'пример',\n",
       " 'качество',\n",
       " 'первый',\n",
       " 'вполне_мочь',\n",
       " 'подойти',\n",
       " 'scheme_smalltalk',\n",
       " 'семейство']"
      ]
     },
     "execution_count": 69,
     "metadata": {},
     "output_type": "execute_result"
    }
   ],
   "source": [
    "p2[p[corpus[333]]]"
   ]
  },
  {
   "cell_type": "code",
   "execution_count": 70,
   "metadata": {},
   "outputs": [],
   "source": [
    "ph = gensim.models.Phrases(corpus, scoring=scorer, min_count=3, threshold=3)\n",
    "p = gensim.models.phrases.Phraser(ph)\n",
    "ph2 = gensim.models.Phrases(p[corpus], scoring=scorer, min_count=3, threshold=3)\n",
    "p2 = gensim.models.phrases.Phraser(ph2)"
   ]
  },
  {
   "cell_type": "code",
   "execution_count": 71,
   "metadata": {},
   "outputs": [
    {
     "data": {
      "text/plain": [
       "['дело',\n",
       " 'пикча',\n",
       " 'сильно',\n",
       " 'сужать',\n",
       " 'общий',\n",
       " 'картина',\n",
       " 'отсекать',\n",
       " 'актуальный',\n",
       " 'технология',\n",
       " 'реальный',\n",
       " 'практика',\n",
       " 'просто',\n",
       " 'идейный',\n",
       " 'прототип',\n",
       " 'теория',\n",
       " 'пример',\n",
       " 'качество',\n",
       " 'первый',\n",
       " 'вполне',\n",
       " 'мочь',\n",
       " 'подойти',\n",
       " 'scheme_smalltalk',\n",
       " 'семейство']"
      ]
     },
     "execution_count": 71,
     "metadata": {},
     "output_type": "execute_result"
    }
   ],
   "source": [
    "p2[p[corpus[333]]]"
   ]
  },
  {
   "cell_type": "code",
   "execution_count": 72,
   "metadata": {},
   "outputs": [],
   "source": [
    "ph = gensim.models.Phrases(corpus, scoring=scorer, min_count=4, threshold=4)\n",
    "p = gensim.models.phrases.Phraser(ph)\n",
    "ph2 = gensim.models.Phrases(p[corpus], scoring=scorer, min_count=4, threshold=4)\n",
    "p2 = gensim.models.phrases.Phraser(ph2)"
   ]
  },
  {
   "cell_type": "code",
   "execution_count": 73,
   "metadata": {},
   "outputs": [
    {
     "data": {
      "text/plain": [
       "['дело',\n",
       " 'пикча',\n",
       " 'сильно',\n",
       " 'сужать',\n",
       " 'общий',\n",
       " 'картина',\n",
       " 'отсекать',\n",
       " 'актуальный',\n",
       " 'технология',\n",
       " 'реальный',\n",
       " 'практика',\n",
       " 'просто',\n",
       " 'идейный',\n",
       " 'прототип',\n",
       " 'теория',\n",
       " 'пример',\n",
       " 'качество',\n",
       " 'первый',\n",
       " 'вполне',\n",
       " 'мочь',\n",
       " 'подойти',\n",
       " 'scheme',\n",
       " 'smalltalk',\n",
       " 'семейство']"
      ]
     },
     "execution_count": 73,
     "metadata": {},
     "output_type": "execute_result"
    }
   ],
   "source": [
    "p2[p[corpus[333]]]"
   ]
  },
  {
   "cell_type": "code",
   "execution_count": null,
   "metadata": {},
   "outputs": [],
   "source": []
  }
 ],
 "metadata": {
  "kernelspec": {
   "display_name": "Python 3",
   "language": "python",
   "name": "python3"
  },
  "language_info": {
   "codemirror_mode": {
    "name": "ipython",
    "version": 3
   },
   "file_extension": ".py",
   "mimetype": "text/x-python",
   "name": "python",
   "nbconvert_exporter": "python",
   "pygments_lexer": "ipython3",
   "version": "3.6.9"
  }
 },
 "nbformat": 4,
 "nbformat_minor": 4
}
