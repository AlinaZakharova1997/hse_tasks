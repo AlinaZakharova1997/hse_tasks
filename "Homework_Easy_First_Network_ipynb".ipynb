{
  "nbformat": 4,
  "nbformat_minor": 0,
  "metadata": {
    "kernelspec": {
      "display_name": "Python 3",
      "language": "python",
      "name": "python3"
    },
    "language_info": {
      "codemirror_mode": {
        "name": "ipython",
        "version": 3
      },
      "file_extension": ".py",
      "mimetype": "text/x-python",
      "name": "python",
      "nbconvert_exporter": "python",
      "pygments_lexer": "ipython3",
      "version": "3.8.8"
    },
    "colab": {
      "name": "\"Homework_Easy_ First_Network.ipynb\"",
      "provenance": [],
      "include_colab_link": true
    },
    "widgets": {
      "application/vnd.jupyter.widget-state+json": {
        "b679057517cd4ababe65d34ea0422fc2": {
          "model_module": "@jupyter-widgets/controls",
          "model_name": "HBoxModel",
          "model_module_version": "1.5.0",
          "state": {
            "_view_name": "HBoxView",
            "_dom_classes": [],
            "_model_name": "HBoxModel",
            "_view_module": "@jupyter-widgets/controls",
            "_model_module_version": "1.5.0",
            "_view_count": null,
            "_view_module_version": "1.5.0",
            "box_style": "",
            "layout": "IPY_MODEL_daa9a26793264e7fb535f959a907de35",
            "_model_module": "@jupyter-widgets/controls",
            "children": [
              "IPY_MODEL_61034f3a3b174d4690fe253ef07dd627",
              "IPY_MODEL_6d5ad20d0f7a4e508883e2602d6ac35c",
              "IPY_MODEL_3cdc00f4e252437f8c15c80108c79b0d"
            ]
          }
        },
        "daa9a26793264e7fb535f959a907de35": {
          "model_module": "@jupyter-widgets/base",
          "model_name": "LayoutModel",
          "model_module_version": "1.2.0",
          "state": {
            "_view_name": "LayoutView",
            "grid_template_rows": null,
            "right": null,
            "justify_content": null,
            "_view_module": "@jupyter-widgets/base",
            "overflow": null,
            "_model_module_version": "1.2.0",
            "_view_count": null,
            "flex_flow": null,
            "width": null,
            "min_width": null,
            "border": null,
            "align_items": null,
            "bottom": null,
            "_model_module": "@jupyter-widgets/base",
            "top": null,
            "grid_column": null,
            "overflow_y": null,
            "overflow_x": null,
            "grid_auto_flow": null,
            "grid_area": null,
            "grid_template_columns": null,
            "flex": null,
            "_model_name": "LayoutModel",
            "justify_items": null,
            "grid_row": null,
            "max_height": null,
            "align_content": null,
            "visibility": null,
            "align_self": null,
            "height": null,
            "min_height": null,
            "padding": null,
            "grid_auto_rows": null,
            "grid_gap": null,
            "max_width": null,
            "order": null,
            "_view_module_version": "1.2.0",
            "grid_template_areas": null,
            "object_position": null,
            "object_fit": null,
            "grid_auto_columns": null,
            "margin": null,
            "display": null,
            "left": null
          }
        },
        "61034f3a3b174d4690fe253ef07dd627": {
          "model_module": "@jupyter-widgets/controls",
          "model_name": "HTMLModel",
          "model_module_version": "1.5.0",
          "state": {
            "_view_name": "HTMLView",
            "style": "IPY_MODEL_4257d88628c64555a3ec6da1cac40019",
            "_dom_classes": [],
            "description": "",
            "_model_name": "HTMLModel",
            "placeholder": "​",
            "_view_module": "@jupyter-widgets/controls",
            "_model_module_version": "1.5.0",
            "value": "",
            "_view_count": null,
            "_view_module_version": "1.5.0",
            "description_tooltip": null,
            "_model_module": "@jupyter-widgets/controls",
            "layout": "IPY_MODEL_331300c9bb4949fba0dd4b9ed9c4a12a"
          }
        },
        "6d5ad20d0f7a4e508883e2602d6ac35c": {
          "model_module": "@jupyter-widgets/controls",
          "model_name": "FloatProgressModel",
          "model_module_version": "1.5.0",
          "state": {
            "_view_name": "ProgressView",
            "style": "IPY_MODEL_7bc819e11bae4d9586b7ad960d31cef6",
            "_dom_classes": [],
            "description": "",
            "_model_name": "FloatProgressModel",
            "bar_style": "success",
            "max": 9912422,
            "_view_module": "@jupyter-widgets/controls",
            "_model_module_version": "1.5.0",
            "value": 9912422,
            "_view_count": null,
            "_view_module_version": "1.5.0",
            "orientation": "horizontal",
            "min": 0,
            "description_tooltip": null,
            "_model_module": "@jupyter-widgets/controls",
            "layout": "IPY_MODEL_f4603fdd3854425c9a1f97ae947c728d"
          }
        },
        "3cdc00f4e252437f8c15c80108c79b0d": {
          "model_module": "@jupyter-widgets/controls",
          "model_name": "HTMLModel",
          "model_module_version": "1.5.0",
          "state": {
            "_view_name": "HTMLView",
            "style": "IPY_MODEL_2aa815fd92384359887d1b5a598b7cdf",
            "_dom_classes": [],
            "description": "",
            "_model_name": "HTMLModel",
            "placeholder": "​",
            "_view_module": "@jupyter-widgets/controls",
            "_model_module_version": "1.5.0",
            "value": " 9913344/? [00:00&lt;00:00, 19762747.67it/s]",
            "_view_count": null,
            "_view_module_version": "1.5.0",
            "description_tooltip": null,
            "_model_module": "@jupyter-widgets/controls",
            "layout": "IPY_MODEL_ab5df880f6bf45159f1bbfc0b0f2269f"
          }
        },
        "4257d88628c64555a3ec6da1cac40019": {
          "model_module": "@jupyter-widgets/controls",
          "model_name": "DescriptionStyleModel",
          "model_module_version": "1.5.0",
          "state": {
            "_view_name": "StyleView",
            "_model_name": "DescriptionStyleModel",
            "description_width": "",
            "_view_module": "@jupyter-widgets/base",
            "_model_module_version": "1.5.0",
            "_view_count": null,
            "_view_module_version": "1.2.0",
            "_model_module": "@jupyter-widgets/controls"
          }
        },
        "331300c9bb4949fba0dd4b9ed9c4a12a": {
          "model_module": "@jupyter-widgets/base",
          "model_name": "LayoutModel",
          "model_module_version": "1.2.0",
          "state": {
            "_view_name": "LayoutView",
            "grid_template_rows": null,
            "right": null,
            "justify_content": null,
            "_view_module": "@jupyter-widgets/base",
            "overflow": null,
            "_model_module_version": "1.2.0",
            "_view_count": null,
            "flex_flow": null,
            "width": null,
            "min_width": null,
            "border": null,
            "align_items": null,
            "bottom": null,
            "_model_module": "@jupyter-widgets/base",
            "top": null,
            "grid_column": null,
            "overflow_y": null,
            "overflow_x": null,
            "grid_auto_flow": null,
            "grid_area": null,
            "grid_template_columns": null,
            "flex": null,
            "_model_name": "LayoutModel",
            "justify_items": null,
            "grid_row": null,
            "max_height": null,
            "align_content": null,
            "visibility": null,
            "align_self": null,
            "height": null,
            "min_height": null,
            "padding": null,
            "grid_auto_rows": null,
            "grid_gap": null,
            "max_width": null,
            "order": null,
            "_view_module_version": "1.2.0",
            "grid_template_areas": null,
            "object_position": null,
            "object_fit": null,
            "grid_auto_columns": null,
            "margin": null,
            "display": null,
            "left": null
          }
        },
        "7bc819e11bae4d9586b7ad960d31cef6": {
          "model_module": "@jupyter-widgets/controls",
          "model_name": "ProgressStyleModel",
          "model_module_version": "1.5.0",
          "state": {
            "_view_name": "StyleView",
            "_model_name": "ProgressStyleModel",
            "description_width": "",
            "_view_module": "@jupyter-widgets/base",
            "_model_module_version": "1.5.0",
            "_view_count": null,
            "_view_module_version": "1.2.0",
            "bar_color": null,
            "_model_module": "@jupyter-widgets/controls"
          }
        },
        "f4603fdd3854425c9a1f97ae947c728d": {
          "model_module": "@jupyter-widgets/base",
          "model_name": "LayoutModel",
          "model_module_version": "1.2.0",
          "state": {
            "_view_name": "LayoutView",
            "grid_template_rows": null,
            "right": null,
            "justify_content": null,
            "_view_module": "@jupyter-widgets/base",
            "overflow": null,
            "_model_module_version": "1.2.0",
            "_view_count": null,
            "flex_flow": null,
            "width": null,
            "min_width": null,
            "border": null,
            "align_items": null,
            "bottom": null,
            "_model_module": "@jupyter-widgets/base",
            "top": null,
            "grid_column": null,
            "overflow_y": null,
            "overflow_x": null,
            "grid_auto_flow": null,
            "grid_area": null,
            "grid_template_columns": null,
            "flex": null,
            "_model_name": "LayoutModel",
            "justify_items": null,
            "grid_row": null,
            "max_height": null,
            "align_content": null,
            "visibility": null,
            "align_self": null,
            "height": null,
            "min_height": null,
            "padding": null,
            "grid_auto_rows": null,
            "grid_gap": null,
            "max_width": null,
            "order": null,
            "_view_module_version": "1.2.0",
            "grid_template_areas": null,
            "object_position": null,
            "object_fit": null,
            "grid_auto_columns": null,
            "margin": null,
            "display": null,
            "left": null
          }
        },
        "2aa815fd92384359887d1b5a598b7cdf": {
          "model_module": "@jupyter-widgets/controls",
          "model_name": "DescriptionStyleModel",
          "model_module_version": "1.5.0",
          "state": {
            "_view_name": "StyleView",
            "_model_name": "DescriptionStyleModel",
            "description_width": "",
            "_view_module": "@jupyter-widgets/base",
            "_model_module_version": "1.5.0",
            "_view_count": null,
            "_view_module_version": "1.2.0",
            "_model_module": "@jupyter-widgets/controls"
          }
        },
        "ab5df880f6bf45159f1bbfc0b0f2269f": {
          "model_module": "@jupyter-widgets/base",
          "model_name": "LayoutModel",
          "model_module_version": "1.2.0",
          "state": {
            "_view_name": "LayoutView",
            "grid_template_rows": null,
            "right": null,
            "justify_content": null,
            "_view_module": "@jupyter-widgets/base",
            "overflow": null,
            "_model_module_version": "1.2.0",
            "_view_count": null,
            "flex_flow": null,
            "width": null,
            "min_width": null,
            "border": null,
            "align_items": null,
            "bottom": null,
            "_model_module": "@jupyter-widgets/base",
            "top": null,
            "grid_column": null,
            "overflow_y": null,
            "overflow_x": null,
            "grid_auto_flow": null,
            "grid_area": null,
            "grid_template_columns": null,
            "flex": null,
            "_model_name": "LayoutModel",
            "justify_items": null,
            "grid_row": null,
            "max_height": null,
            "align_content": null,
            "visibility": null,
            "align_self": null,
            "height": null,
            "min_height": null,
            "padding": null,
            "grid_auto_rows": null,
            "grid_gap": null,
            "max_width": null,
            "order": null,
            "_view_module_version": "1.2.0",
            "grid_template_areas": null,
            "object_position": null,
            "object_fit": null,
            "grid_auto_columns": null,
            "margin": null,
            "display": null,
            "left": null
          }
        }
      }
    }
  },
  "cells": [
    {
      "cell_type": "markdown",
      "metadata": {
        "id": "view-in-github",
        "colab_type": "text"
      },
      "source": [
        "<a href=\"https://colab.research.google.com/github/AlinaZakharova1997/hse_tasks/blob/master/%22Homework_Easy_First_Network_ipynb%22.ipynb\" target=\"_parent\"><img src=\"https://colab.research.google.com/assets/colab-badge.svg\" alt=\"Open In Colab\"/></a>"
      ]
    },
    {
      "cell_type": "code",
      "metadata": {
        "id": "QcJtqgdovQOZ"
      },
      "source": [
        "import numpy as np\n",
        "\n",
        "from sklearn.metrics import classification_report\n",
        "\n",
        "import torch\n",
        "from torch.utils.data import DataLoader\n",
        "from torchvision.datasets import MNIST\n",
        "from torchvision import transforms\n",
        "\n",
        "import matplotlib.pyplot as plt\n",
        "\n",
        "from tqdm import tqdm\n",
        "\n",
        "from sklearn.metrics import accuracy_score\n",
        "\n",
        "import time"
      ],
      "execution_count": 1,
      "outputs": []
    },
    {
      "cell_type": "code",
      "metadata": {
        "id": "wUInMB7RvXPw"
      },
      "source": [
        "pip list --format=freeze > requirements.txt"
      ],
      "execution_count": 2,
      "outputs": []
    },
    {
      "cell_type": "markdown",
      "metadata": {
        "id": "dezpxvY1vQO2"
      },
      "source": [
        "# Домашка №1"
      ]
    },
    {
      "cell_type": "markdown",
      "metadata": {
        "id": "tmC1YEy-vQO6"
      },
      "source": [
        "# Датасет\n",
        "Мы его просто загрузим и здесь пока будет какая-то торчовая магия, которую мы разберем на следующем занятии"
      ]
    },
    {
      "cell_type": "markdown",
      "metadata": {
        "id": "VWBoOc4tvQO_"
      },
      "source": [
        "### Некоторые магические трансформации, о которых пока не стоит заморачиваться\n",
        "1. Перевод картинки в тензор\n",
        "1. Нормализация картинки"
      ]
    },
    {
      "cell_type": "code",
      "metadata": {
        "id": "ftnHPiIQvQPD"
      },
      "source": [
        "transform = transforms.Compose([\n",
        "    transforms.ToTensor(),\n",
        "    transforms.Normalize((0.1307,), (0.3081,))\n",
        "])"
      ],
      "execution_count": 3,
      "outputs": []
    },
    {
      "cell_type": "markdown",
      "metadata": {
        "id": "8YCdei7KvQPG"
      },
      "source": [
        "## Загружаем датасет\n",
        "Конкретно эта часть кода понадобится нам один раз за курс и будет только в этой домашке"
      ]
    },
    {
      "cell_type": "code",
      "metadata": {
        "id": "ydPR7vNcvQPH",
        "colab": {
          "base_uri": "https://localhost:8080/",
          "height": 478,
          "referenced_widgets": [
            "b679057517cd4ababe65d34ea0422fc2",
            "daa9a26793264e7fb535f959a907de35",
            "61034f3a3b174d4690fe253ef07dd627",
            "6d5ad20d0f7a4e508883e2602d6ac35c",
            "3cdc00f4e252437f8c15c80108c79b0d",
            "4257d88628c64555a3ec6da1cac40019",
            "331300c9bb4949fba0dd4b9ed9c4a12a",
            "7bc819e11bae4d9586b7ad960d31cef6",
            "f4603fdd3854425c9a1f97ae947c728d",
            "2aa815fd92384359887d1b5a598b7cdf",
            "ab5df880f6bf45159f1bbfc0b0f2269f"
          ]
        },
        "outputId": "087c41c3-0c1d-4547-ac2a-b11974154033"
      },
      "source": [
        "train_dataset = MNIST('.', train=True, download=True, transform=transform)\n",
        "test_dataset = MNIST('.', train=False, transform=transform)"
      ],
      "execution_count": 4,
      "outputs": [
        {
          "output_type": "stream",
          "name": "stdout",
          "text": [
            "Downloading http://yann.lecun.com/exdb/mnist/train-images-idx3-ubyte.gz\n",
            "Downloading http://yann.lecun.com/exdb/mnist/train-images-idx3-ubyte.gz to ./MNIST/raw/train-images-idx3-ubyte.gz\n"
          ]
        },
        {
          "output_type": "display_data",
          "data": {
            "application/vnd.jupyter.widget-view+json": {
              "model_id": "b679057517cd4ababe65d34ea0422fc2",
              "version_minor": 0,
              "version_major": 2
            },
            "text/plain": [
              "  0%|          | 0/9912422 [00:00<?, ?it/s]"
            ]
          },
          "metadata": {}
        },
        {
          "output_type": "stream",
          "name": "stdout",
          "text": [
            "Extracting ./MNIST/raw/train-images-idx3-ubyte.gz to ./MNIST/raw\n",
            "\n",
            "Downloading http://yann.lecun.com/exdb/mnist/train-labels-idx1-ubyte.gz\n",
            "Downloading http://yann.lecun.com/exdb/mnist/train-labels-idx1-ubyte.gz to ./MNIST/raw/train-labels-idx1-ubyte.gz\n"
          ]
        },
        {
          "output_type": "display_data",
          "data": {
            "application/vnd.jupyter.widget-view+json": {
              "model_id": "0d340888092e444e9b81fe78ffd0ac19",
              "version_minor": 0,
              "version_major": 2
            },
            "text/plain": [
              "  0%|          | 0/28881 [00:00<?, ?it/s]"
            ]
          },
          "metadata": {}
        },
        {
          "output_type": "stream",
          "name": "stdout",
          "text": [
            "Extracting ./MNIST/raw/train-labels-idx1-ubyte.gz to ./MNIST/raw\n",
            "\n",
            "Downloading http://yann.lecun.com/exdb/mnist/t10k-images-idx3-ubyte.gz\n",
            "Downloading http://yann.lecun.com/exdb/mnist/t10k-images-idx3-ubyte.gz to ./MNIST/raw/t10k-images-idx3-ubyte.gz\n"
          ]
        },
        {
          "output_type": "display_data",
          "data": {
            "application/vnd.jupyter.widget-view+json": {
              "model_id": "a649cf9332444d249ff5f170cbf2e88a",
              "version_minor": 0,
              "version_major": 2
            },
            "text/plain": [
              "  0%|          | 0/1648877 [00:00<?, ?it/s]"
            ]
          },
          "metadata": {}
        },
        {
          "output_type": "stream",
          "name": "stdout",
          "text": [
            "Extracting ./MNIST/raw/t10k-images-idx3-ubyte.gz to ./MNIST/raw\n",
            "\n",
            "Downloading http://yann.lecun.com/exdb/mnist/t10k-labels-idx1-ubyte.gz\n",
            "Downloading http://yann.lecun.com/exdb/mnist/t10k-labels-idx1-ubyte.gz to ./MNIST/raw/t10k-labels-idx1-ubyte.gz\n"
          ]
        },
        {
          "output_type": "display_data",
          "data": {
            "application/vnd.jupyter.widget-view+json": {
              "model_id": "24069e3de6d240fc9e17daa95e2b3b70",
              "version_minor": 0,
              "version_major": 2
            },
            "text/plain": [
              "  0%|          | 0/4542 [00:00<?, ?it/s]"
            ]
          },
          "metadata": {}
        },
        {
          "output_type": "stream",
          "name": "stdout",
          "text": [
            "Extracting ./MNIST/raw/t10k-labels-idx1-ubyte.gz to ./MNIST/raw\n",
            "\n"
          ]
        },
        {
          "output_type": "stream",
          "name": "stderr",
          "text": [
            "/usr/local/lib/python3.7/dist-packages/torchvision/datasets/mnist.py:498: UserWarning: The given NumPy array is not writeable, and PyTorch does not support non-writeable tensors. This means you can write to the underlying (supposedly non-writeable) NumPy array using the tensor. You may want to copy the array to protect its data or make it writeable before converting it to a tensor. This type of warning will be suppressed for the rest of this program. (Triggered internally at  /pytorch/torch/csrc/utils/tensor_numpy.cpp:180.)\n",
            "  return torch.from_numpy(parsed.astype(m[2], copy=False)).view(*s)\n"
          ]
        }
      ]
    },
    {
      "cell_type": "markdown",
      "metadata": {
        "id": "_8QYVydhvQPP"
      },
      "source": [
        "## Переводим его в два класса\n",
        "Это нужно для упрощения задачи до бинарной классификации. В этой домашке мы будем отличать две цифры: 1 и 7."
      ]
    },
    {
      "cell_type": "code",
      "metadata": {
        "id": "aNnbjIDpvQPT"
      },
      "source": [
        "train_dataset.data = train_dataset.data[(train_dataset.targets == 3) | (train_dataset.targets == 7)]\n",
        "train_dataset.targets = train_dataset.targets[(train_dataset.targets == 3) | (train_dataset.targets == 7)]\n",
        "\n",
        "test_dataset.data = test_dataset.data[(test_dataset.targets == 3) | (test_dataset.targets == 7)]\n",
        "test_dataset.targets = test_dataset.targets[(test_dataset.targets == 3) | (test_dataset.targets == 7)]\n",
        "\n",
        "train_dataset.targets = (train_dataset.targets == 7).long()\n",
        "test_dataset.targets = (test_dataset.targets == 7).long()"
      ],
      "execution_count": 5,
      "outputs": []
    },
    {
      "cell_type": "markdown",
      "metadata": {
        "id": "A82qzpPxvQPa"
      },
      "source": [
        "## Оборачиваем в итератор данных\n",
        "Далее в курсе мы поговорим о том, что это такое более подробно, а дальше в этой тетрадке будет несколько полезных деталей.  \n",
        "Пока что будет достаточно понимать, что мы обернули наши данные в некоторую абстракцию, итерация по которой дает нам батчи данных из нашего датасета.  "
      ]
    },
    {
      "cell_type": "code",
      "metadata": {
        "id": "XS7CLeqyvQPc"
      },
      "source": [
        "train_loader = DataLoader(train_dataset, batch_size=128, shuffle=True)\n",
        "test_loader = DataLoader(test_dataset, batch_size=128, shuffle=False)"
      ],
      "execution_count": 6,
      "outputs": []
    },
    {
      "cell_type": "markdown",
      "metadata": {
        "id": "JCl2_sJ0vQPe"
      },
      "source": [
        "## Порисуем данные\n",
        "\n",
        "- классу 0 соответствует цифра 3\n",
        "- классу 1 соответствует цифра 7  \n",
        "\n",
        "Выбрал эти цифры, потому что на них хуже всего метрики"
      ]
    },
    {
      "cell_type": "code",
      "metadata": {
        "id": "YGCA9uUZvQPg",
        "colab": {
          "base_uri": "https://localhost:8080/",
          "height": 420
        },
        "outputId": "90ca3842-8f9d-44b0-ffb6-5cf2aced2528"
      },
      "source": [
        "X, y = next(iter(train_loader))\n",
        "X = X.numpy()\n",
        "y = y.numpy()\n",
        "\n",
        "plt.figure(figsize=(6, 7))\n",
        "for i in range(25):\n",
        "    plt.subplot(5, 5, i+1)\n",
        "    plt.imshow(X[i].reshape(28, 28), cmap=plt.cm.Greys_r)\n",
        "    plt.title(y[i])\n",
        "    plt.axis('off')"
      ],
      "execution_count": 7,
      "outputs": [
        {
          "output_type": "display_data",
          "data": {
            "image/png": "[encoded data removed]",
            "text/plain": [
              "<Figure size 432x504 with 25 Axes>"
            ]
          },
          "metadata": {
            "needs_background": "light"
          }
        }
      ]
    },
    {
      "cell_type": "markdown",
      "metadata": {
        "id": "SHprzGkBvQPj"
      },
      "source": [
        "# Итерация по датасету\n",
        "- x - батч с данными\n",
        "- y - батч с таргетами к этим данным"
      ]
    },
    {
      "cell_type": "code",
      "metadata": {
        "id": "Lo8w4kbrvQPl"
      },
      "source": [
        "for x, y in train_loader:\n",
        "    break"
      ],
      "execution_count": null,
      "outputs": []
    },
    {
      "cell_type": "markdown",
      "metadata": {
        "id": "Se6gZUMCvQPy"
      },
      "source": [
        "### train_loader это итератор, при проходе по которому будут выдаваться батчи данных"
      ]
    },
    {
      "cell_type": "markdown",
      "metadata": {
        "id": "6wom-SxYvQPz"
      },
      "source": [
        "## Размерность x\n",
        "- 128 - размер батча\n",
        "- 1 - количество каналов, у нас чернобелые картинки, поэтому канал 1\n",
        "- 28 - количество пикселей в длину\n",
        "- 28 - количество пикселей в ширину"
      ]
    },
    {
      "cell_type": "code",
      "metadata": {
        "id": "rUFQDqhMvQP0",
        "colab": {
          "base_uri": "https://localhost:8080/"
        },
        "outputId": "fc24d6a8-393f-4fab-91d9-9904eb2ee452"
      },
      "source": [
        "x.shape"
      ],
      "execution_count": null,
      "outputs": [
        {
          "output_type": "execute_result",
          "data": {
            "text/plain": [
              "torch.Size([128, 1, 28, 28])"
            ]
          },
          "metadata": {},
          "execution_count": 10
        }
      ]
    },
    {
      "cell_type": "code",
      "metadata": {
        "id": "c28Vt6ClvQP1",
        "colab": {
          "base_uri": "https://localhost:8080/"
        },
        "outputId": "8294ef04-d1af-4021-cadf-4eb29825697c"
      },
      "source": [
        "x"
      ],
      "execution_count": null,
      "outputs": [
        {
          "output_type": "execute_result",
          "data": {
            "text/plain": [
              "tensor([[[[-0.4242, -0.4242, -0.4242,  ..., -0.4242, -0.4242, -0.4242],\n",
              "          [-0.4242, -0.4242, -0.4242,  ..., -0.4242, -0.4242, -0.4242],\n",
              "          [-0.4242, -0.4242, -0.4242,  ..., -0.4242, -0.4242, -0.4242],\n",
              "          ...,\n",
              "          [-0.4242, -0.4242, -0.4242,  ..., -0.4242, -0.4242, -0.4242],\n",
              "          [-0.4242, -0.4242, -0.4242,  ..., -0.4242, -0.4242, -0.4242],\n",
              "          [-0.4242, -0.4242, -0.4242,  ..., -0.4242, -0.4242, -0.4242]]],\n",
              "\n",
              "\n",
              "        [[[-0.4242, -0.4242, -0.4242,  ..., -0.4242, -0.4242, -0.4242],\n",
              "          [-0.4242, -0.4242, -0.4242,  ..., -0.4242, -0.4242, -0.4242],\n",
              "          [-0.4242, -0.4242, -0.4242,  ..., -0.4242, -0.4242, -0.4242],\n",
              "          ...,\n",
              "          [-0.4242, -0.4242, -0.4242,  ..., -0.4242, -0.4242, -0.4242],\n",
              "          [-0.4242, -0.4242, -0.4242,  ..., -0.4242, -0.4242, -0.4242],\n",
              "          [-0.4242, -0.4242, -0.4242,  ..., -0.4242, -0.4242, -0.4242]]],\n",
              "\n",
              "\n",
              "        [[[-0.4242, -0.4242, -0.4242,  ..., -0.4242, -0.4242, -0.4242],\n",
              "          [-0.4242, -0.4242, -0.4242,  ..., -0.4242, -0.4242, -0.4242],\n",
              "          [-0.4242, -0.4242, -0.4242,  ..., -0.4242, -0.4242, -0.4242],\n",
              "          ...,\n",
              "          [-0.4242, -0.4242, -0.4242,  ..., -0.4242, -0.4242, -0.4242],\n",
              "          [-0.4242, -0.4242, -0.4242,  ..., -0.4242, -0.4242, -0.4242],\n",
              "          [-0.4242, -0.4242, -0.4242,  ..., -0.4242, -0.4242, -0.4242]]],\n",
              "\n",
              "\n",
              "        ...,\n",
              "\n",
              "\n",
              "        [[[-0.4242, -0.4242, -0.4242,  ..., -0.4242, -0.4242, -0.4242],\n",
              "          [-0.4242, -0.4242, -0.4242,  ..., -0.4242, -0.4242, -0.4242],\n",
              "          [-0.4242, -0.4242, -0.4242,  ..., -0.4242, -0.4242, -0.4242],\n",
              "          ...,\n",
              "          [-0.4242, -0.4242, -0.4242,  ..., -0.4242, -0.4242, -0.4242],\n",
              "          [-0.4242, -0.4242, -0.4242,  ..., -0.4242, -0.4242, -0.4242],\n",
              "          [-0.4242, -0.4242, -0.4242,  ..., -0.4242, -0.4242, -0.4242]]],\n",
              "\n",
              "\n",
              "        [[[-0.4242, -0.4242, -0.4242,  ..., -0.4242, -0.4242, -0.4242],\n",
              "          [-0.4242, -0.4242, -0.4242,  ..., -0.4242, -0.4242, -0.4242],\n",
              "          [-0.4242, -0.4242, -0.4242,  ..., -0.4242, -0.4242, -0.4242],\n",
              "          ...,\n",
              "          [-0.4242, -0.4242, -0.4242,  ..., -0.4242, -0.4242, -0.4242],\n",
              "          [-0.4242, -0.4242, -0.4242,  ..., -0.4242, -0.4242, -0.4242],\n",
              "          [-0.4242, -0.4242, -0.4242,  ..., -0.4242, -0.4242, -0.4242]]],\n",
              "\n",
              "\n",
              "        [[[-0.4242, -0.4242, -0.4242,  ..., -0.4242, -0.4242, -0.4242],\n",
              "          [-0.4242, -0.4242, -0.4242,  ..., -0.4242, -0.4242, -0.4242],\n",
              "          [-0.4242, -0.4242, -0.4242,  ..., -0.4242, -0.4242, -0.4242],\n",
              "          ...,\n",
              "          [-0.4242, -0.4242, -0.4242,  ..., -0.4242, -0.4242, -0.4242],\n",
              "          [-0.4242, -0.4242, -0.4242,  ..., -0.4242, -0.4242, -0.4242],\n",
              "          [-0.4242, -0.4242, -0.4242,  ..., -0.4242, -0.4242, -0.4242]]]])"
            ]
          },
          "metadata": {},
          "execution_count": 11
        }
      ]
    },
    {
      "cell_type": "markdown",
      "metadata": {
        "id": "QYKZLEltvQP2"
      },
      "source": [
        "## Просто выпрямим нашу матрицу в один вектор\n",
        "### То есть каждая фича в векторе это значение пикселя\n",
        "### Для нашей игрушечной задачи этого будет достаточно"
      ]
    },
    {
      "cell_type": "code",
      "metadata": {
        "id": "DkfZ0CVgvQP2",
        "colab": {
          "base_uri": "https://localhost:8080/"
        },
        "outputId": "98862786-c61e-42c4-ca3d-bf0ea024002e"
      },
      "source": [
        "x.view(x.shape[0], -1).numpy().shape"
      ],
      "execution_count": null,
      "outputs": [
        {
          "output_type": "execute_result",
          "data": {
            "text/plain": [
              "(128, 784)"
            ]
          },
          "metadata": {},
          "execution_count": 12
        }
      ]
    },
    {
      "cell_type": "markdown",
      "metadata": {
        "id": "LFwB0aFbvQP3"
      },
      "source": [
        "### x.numpy()\n",
        "Это перевод торчового тензора (некоторая абстракция, о которой мы будем говорить позже на курсе) в numpy массив"
      ]
    },
    {
      "cell_type": "code",
      "metadata": {
        "id": "JWsLhs8evQP3"
      },
      "source": [
        "for x, y in train_loader:\n",
        "    x = x.view(x.shape[0], -1).numpy()\n",
        "    y = y.numpy()\n",
        "    break"
      ],
      "execution_count": null,
      "outputs": []
    },
    {
      "cell_type": "code",
      "metadata": {
        "id": "ff9yJ6u6vQP3",
        "colab": {
          "base_uri": "https://localhost:8080/"
        },
        "outputId": "8748e867-0406-49a0-d4bd-570bd4572b2c"
      },
      "source": [
        "x"
      ],
      "execution_count": null,
      "outputs": [
        {
          "output_type": "execute_result",
          "data": {
            "text/plain": [
              "array([[-0.42421296, -0.42421296, -0.42421296, ..., -0.42421296,\n",
              "        -0.42421296, -0.42421296],\n",
              "       [-0.42421296, -0.42421296, -0.42421296, ..., -0.42421296,\n",
              "        -0.42421296, -0.42421296],\n",
              "       [-0.42421296, -0.42421296, -0.42421296, ..., -0.42421296,\n",
              "        -0.42421296, -0.42421296],\n",
              "       ...,\n",
              "       [-0.42421296, -0.42421296, -0.42421296, ..., -0.42421296,\n",
              "        -0.42421296, -0.42421296],\n",
              "       [-0.42421296, -0.42421296, -0.42421296, ..., -0.42421296,\n",
              "        -0.42421296, -0.42421296],\n",
              "       [-0.42421296, -0.42421296, -0.42421296, ..., -0.42421296,\n",
              "        -0.42421296, -0.42421296]], dtype=float32)"
            ]
          },
          "metadata": {},
          "execution_count": 14
        }
      ]
    },
    {
      "cell_type": "markdown",
      "metadata": {
        "id": "G1V9xQMevQP5"
      },
      "source": [
        "### Размерность\n",
        "- количество примеров в батче\n",
        "- количество фичей"
      ]
    },
    {
      "cell_type": "code",
      "metadata": {
        "id": "CtIe0v-KvQP5",
        "colab": {
          "base_uri": "https://localhost:8080/"
        },
        "outputId": "07c4f463-bd6c-4bf2-9954-fa8b87aa38f6"
      },
      "source": [
        "x.shape"
      ],
      "execution_count": null,
      "outputs": [
        {
          "output_type": "execute_result",
          "data": {
            "text/plain": [
              "(128, 784)"
            ]
          },
          "metadata": {},
          "execution_count": 15
        }
      ]
    },
    {
      "cell_type": "markdown",
      "metadata": {
        "id": "np-diBYPvQP6"
      },
      "source": [
        "# Таргеты\n",
        "- классу 0 соответствует цифра 3\n",
        "- классу 1 соответствует цифра 7"
      ]
    },
    {
      "cell_type": "code",
      "metadata": {
        "id": "favq157OvQP7",
        "colab": {
          "base_uri": "https://localhost:8080/"
        },
        "outputId": "dc75eb33-b1a0-40fc-b83a-4590abe973ae"
      },
      "source": [
        "y"
      ],
      "execution_count": null,
      "outputs": [
        {
          "output_type": "execute_result",
          "data": {
            "text/plain": [
              "array([0, 0, 1, 1, 1, 0, 0, 0, 0, 0, 0, 1, 0, 1, 1, 1, 0, 1, 0, 0, 0, 0,\n",
              "       1, 0, 1, 1, 1, 1, 1, 0, 1, 0, 0, 0, 0, 0, 1, 0, 1, 1, 1, 0, 1, 0,\n",
              "       1, 0, 0, 1, 1, 0, 0, 1, 0, 1, 0, 1, 1, 0, 0, 1, 0, 1, 0, 1, 1, 1,\n",
              "       1, 0, 0, 1, 1, 0, 1, 1, 1, 0, 0, 0, 0, 1, 1, 0, 0, 1, 1, 0, 1, 1,\n",
              "       0, 0, 1, 1, 0, 0, 0, 1, 1, 0, 1, 1, 0, 1, 1, 0, 0, 0, 1, 1, 0, 1,\n",
              "       0, 1, 0, 0, 1, 1, 1, 1, 1, 1, 0, 0, 0, 1, 0, 0, 1, 0])"
            ]
          },
          "metadata": {},
          "execution_count": 16
        }
      ]
    },
    {
      "cell_type": "markdown",
      "metadata": {
        "id": "gnh3kxj0vQQA"
      },
      "source": [
        "# Итерация по эпохам"
      ]
    },
    {
      "cell_type": "code",
      "metadata": {
        "id": "VcljYdIovQQD",
        "colab": {
          "base_uri": "https://localhost:8080/"
        },
        "outputId": "ec80f9f3-c2df-40b0-b867-617c5f8218f3"
      },
      "source": [
        "# количество эпох - полных проходов по датасету\n",
        "epochs = 3\n",
        "\n",
        "for n_epoch in range(epochs):\n",
        "    \n",
        "    dataset_passed_samples = 0\n",
        "    \n",
        "    for x, y in train_loader:\n",
        "        \n",
        "        # вот здесь мы могли бы как-то манипулировать с данными\n",
        "        # например, учить, но пока этого делать не будет\n",
        "        # только демонстрация\n",
        "        \n",
        "        time.sleep(0.01)\n",
        "        \n",
        "        dataset_passed_samples += x.shape[0]\n",
        "        \n",
        "        dataset_passed_percent = dataset_passed_samples * 100 / train_loader.dataset.data.shape[0]\n",
        "        \n",
        "        print(f'Эпоха - {n_epoch + 1}, прошли - {dataset_passed_percent:.2f} % датасета', end='\\r')\n",
        "        \n",
        "    print('\\r')"
      ],
      "execution_count": null,
      "outputs": [
        {
          "output_type": "stream",
          "name": "stdout",
          "text": [
            "Эпоха - 1, прошли - 100.00 % датасета\n",
            "Эпоха - 2, прошли - 100.00 % датасета\n",
            "Эпоха - 3, прошли - 100.00 % датасета\n"
          ]
        }
      ]
    },
    {
      "cell_type": "markdown",
      "metadata": {
        "id": "WaZIjjLovQQF"
      },
      "source": [
        "# Небольшие пояснения по numpy"
      ]
    },
    {
      "cell_type": "code",
      "metadata": {
        "id": "lOu1MDnevQQF",
        "colab": {
          "base_uri": "https://localhost:8080/"
        },
        "outputId": "5693de65-4fc6-444e-d8e4-302c5be3cc68"
      },
      "source": [
        "# таким образом мы создаем матрицу 64 на 512 с рандомными значениями\n",
        "x = np.random.rand(64, 512)\n",
        "x"
      ],
      "execution_count": null,
      "outputs": [
        {
          "output_type": "execute_result",
          "data": {
            "text/plain": [
              "array([[0.23426933, 0.3533182 , 0.74433011, ..., 0.77457296, 0.52012868,\n",
              "        0.0445181 ],\n",
              "       [0.75760867, 0.20542428, 0.01910918, ..., 0.24501709, 0.39796242,\n",
              "        0.9957691 ],\n",
              "       [0.0252459 , 0.97319424, 0.94974983, ..., 0.62090387, 0.7977101 ,\n",
              "        0.73451322],\n",
              "       ...,\n",
              "       [0.95426219, 0.6295029 , 0.6964408 , ..., 0.6852221 , 0.56385927,\n",
              "        0.27672638],\n",
              "       [0.50286467, 0.81717226, 0.34196475, ..., 0.31876638, 0.64486043,\n",
              "        0.97530067],\n",
              "       [0.39818074, 0.75443991, 0.09657417, ..., 0.77066534, 0.99848932,\n",
              "        0.29419578]])"
            ]
          },
          "metadata": {},
          "execution_count": 3
        }
      ]
    },
    {
      "cell_type": "code",
      "metadata": {
        "id": "RMTWlQBGvQQG",
        "colab": {
          "base_uri": "https://localhost:8080/"
        },
        "outputId": "6f83959f-0220-461c-a2d0-783bcc52fcd5"
      },
      "source": [
        "# большинство функций применяются к каждому элементу массива\n",
        "# здесь мы каждый элемент массива возвели в квадрат и прибавили к получившемуся значению логарифм элемента матрицы \n",
        "x ** 2 + np.log(x)"
      ],
      "execution_count": null,
      "outputs": [
        {
          "output_type": "execute_result",
          "data": {
            "text/plain": [
              "array([[-0.90273304, -2.40534495,  0.72066497, ...,  0.79094476,\n",
              "         0.00860832, -0.40358248],\n",
              "       [-2.09526819, -0.57494789, -0.1791367 , ..., -0.15689686,\n",
              "         0.90789919, -2.16445313],\n",
              "       [-1.65095875, -1.09576315, -2.97162493, ..., -1.82943095,\n",
              "        -0.88757606,  0.48674223],\n",
              "       ...,\n",
              "       [ 0.81522846, -0.64804461, -1.28359397, ..., -0.62790727,\n",
              "         0.10008781, -0.49705696],\n",
              "       [-1.76546634, -1.1574634 ,  0.22935175, ..., -0.63989054,\n",
              "         0.29236934,  0.04724082],\n",
              "       [-0.62475945, -1.17042615,  0.28878425, ...,  0.23253932,\n",
              "        -1.72987286,  0.17063412]])"
            ]
          },
          "metadata": {},
          "execution_count": 17
        }
      ]
    },
    {
      "cell_type": "code",
      "metadata": {
        "id": "0g97RGlmvQQH"
      },
      "source": [
        "y = np.random.rand(512, 1024)\n",
        "# скалярное произведение\n",
        "res = np.dot(x, y)"
      ],
      "execution_count": null,
      "outputs": []
    },
    {
      "cell_type": "code",
      "metadata": {
        "id": "gjeEJFKovQQI",
        "colab": {
          "base_uri": "https://localhost:8080/"
        },
        "outputId": "fffe69fa-2b3c-4107-ea5f-43bcf1c81b24"
      },
      "source": [
        "res"
      ],
      "execution_count": null,
      "outputs": [
        {
          "output_type": "execute_result",
          "data": {
            "text/plain": [
              "array([[125.89582166, 123.20501402, 126.03390076, ..., 125.13700697,\n",
              "        128.87921209, 120.62143343],\n",
              "       [130.52314177, 126.54706394, 127.03000392, ..., 125.13169935,\n",
              "        132.29807003, 119.85730762],\n",
              "       [126.25729526, 126.96867171, 127.01732335, ..., 123.92922888,\n",
              "        129.24293001, 119.28862167],\n",
              "       ...,\n",
              "       [129.07014924, 128.83370749, 127.94118913, ..., 126.21249297,\n",
              "        129.62323568, 124.06019837],\n",
              "       [125.24253031, 125.2411088 , 124.03141065, ..., 125.6262469 ,\n",
              "        128.33263108, 120.63608144],\n",
              "       [130.52935181, 126.06524365, 129.96913588, ..., 129.3520721 ,\n",
              "        131.54374893, 121.64530018]])"
            ]
          },
          "metadata": {},
          "execution_count": 19
        }
      ]
    },
    {
      "cell_type": "code",
      "metadata": {
        "id": "RMg1LUKUvQQI",
        "colab": {
          "base_uri": "https://localhost:8080/"
        },
        "outputId": "f2b30bd3-e33a-416a-9039-0431bc886141"
      },
      "source": [
        "res.shape == (x.shape[0], y.shape[1])"
      ],
      "execution_count": null,
      "outputs": [
        {
          "output_type": "execute_result",
          "data": {
            "text/plain": [
              "True"
            ]
          },
          "metadata": {},
          "execution_count": 20
        }
      ]
    },
    {
      "cell_type": "markdown",
      "metadata": {
        "id": "ADuhcFD4vQQJ"
      },
      "source": [
        "### Производные линейного слоя\n",
        "Мы знаем, что нам нужно будет по градиентам весов обновить эти веса. То есть это просто смещение наших весов на какой-то шаг. Отсюда следует, что размерность весов и градиента к ним должна совпадать. Используйте для этого скалярное произведение, траснпонирование и предыдущий градиент.  \n",
        "То есть размерность какого-либо параметра должна совпадать с размерностью градиента к этому параметру. В случае с параметров b мы помним, что это смещение и по сути это добавление к нашим входным фичам фичи с единичным значением.\n",
        "\n",
        "```python\n",
        "grad_w = np.dot(x.T, grad_prev)\n",
        "grad_x = np.dot(grad_prev, w.T)\n",
        "grad_b = np.dot(np.ones((x.shape[0])), grad_prev)\n",
        "```\n",
        "\n",
        "Более подробный совет:  \n",
        "Tip: use dimension analysis! Note that you do not need to remember the expressions for dW and dX because they are easy to re-derive based on dimensions. For instance, we know that the gradient on the weights dW must be of the same size as W after it is computed, and that it must depend on matrix multiplication of X and dD (as is the case when both X,W are single numbers and not matrices). There is always exactly one way of achieving this so that the dimensions work out. For example, X is of size [10 x 3] and dD of size [5 x 3], so if we want dW and W has shape [5 x 10], then the only way of achieving this is with np.dot(dD, X.T), as shown above.  \n",
        "[Источник](https://cs231n.github.io/optimization-2/)\n",
        "\n",
        "Полезные видео:  \n",
        "- [Один](https://www.coursera.org/lecture/intro-to-deep-learning/multilayer-perceptron-mlp-yy1NV)\n",
        "- [Два](https://www.coursera.org/lecture/intro-to-deep-learning/chain-rule-rK0tw)\n",
        "- [Три](https://www.coursera.org/lecture/intro-to-deep-learning/backpropagation-CxUe5)\n",
        "- [Четыре](https://www.coursera.org/lecture/intro-to-deep-learning/efficient-mlp-implementation-P3VH6)\n",
        "- [Пять](https://www.coursera.org/lecture/intro-to-deep-learning/other-matrix-derivatives-YTunl)"
      ]
    },
    {
      "cell_type": "markdown",
      "metadata": {
        "id": "GUab7F02vQQJ"
      },
      "source": [
        "# Задание"
      ]
    },
    {
      "cell_type": "markdown",
      "metadata": {
        "id": "8QXDmeVWvQQK"
      },
      "source": [
        "### Шаги:\n",
        "1. Задайте обучаемые параметры (TIP: np.random.rand)\n",
        "1. Задайте скорость обучения (подойдет 0.01, но можете попробовать другие и посмотреть что меняется), количество эпох (полных проходов по датасету)\n",
        "1. Сделайте линейную трансформацию через первый слой (первый набор весов)\n",
        "1. Примените какую-нибудь нелийную функцию активации (tanh, relu)\n",
        "1. Сделайте линейную трансформацию через второй слой (второй набор весов)\n",
        "1. Примените сигмоиду\n",
        "1. Рассчитайте функцию потерь (бинарная кросс энтропия), не забудьте усреднить по батчу\n",
        "1. Сохраняйте значения функции потерь в массив losses\n",
        "1. Возьмите производные от функции потерь к каждому обучаемому параметру [видео про производные](https://youtu.be/tZ0yCzWfbZc)\n",
        "1. Обновите веса w1, b1, w2, b2 с помощью градиентного спуска\n",
        "1. Нарисуйте график функции потерь"
      ]
    },
    {
      "cell_type": "markdown",
      "metadata": {
        "id": "sadomcsOvQQK"
      },
      "source": [
        "- TIP: количество входных фичей - 784 (28 пикселей * 28 пикселей)\n",
        "- TIP: в шаге 0 домножьте w1, w2 на 0.01, а b1, b2 инициализируйте нулями. Это не самая лучшая реализация, но пока лучше мы не знаем\n",
        "- TIP: в backward функции потерь по предсказаниям вашей модели нужно разделить еще на количество примеров в батче (не забудьте, что усредняете лосс)\n",
        "- TIP: каждый следующий градиент рассчитывайте умножая на предыдущий, то есть не нужно расчитывать по каждому слою и затем все мерджить. Нужно сразу для d_L/d_z2 считать градиент как d_L/d_y_hat умноженный на d_y_hat/d_z2, где y_hat это наши предсказания.\n",
        "\n",
        "## Если вам трудно, сделайте сначала для одного слоя"
      ]
    },
    {
      "cell_type": "code",
      "metadata": {
        "id": "oZ1IOt_GRrvC"
      },
      "source": [
        "# model = MLP(in_features=784, inner_features=256, out_features=1)\n",
        "# BATCH_SIZE = 128\n",
        "# INNER_FEATURES = 256 - HIDDEN DIM\n",
        "# IN_FEATURES = 784 - INPUT DIM\n",
        "# OUT_FEATURES = 1 - OUT DIM"
      ],
      "execution_count": null,
      "outputs": []
    },
    {
      "cell_type": "code",
      "metadata": {
        "id": "RRC1fTFYvQQN",
        "colab": {
          "base_uri": "https://localhost:8080/"
        },
        "outputId": "b52a43b0-f5ad-416a-93d3-3d6c3859e746"
      },
      "source": [
        "### КОД СЮДА ###\n",
        "\n",
        "learning_rate = 0.01\n",
        "epochs = 20\n",
        "\n",
        "w1 = np.random.rand(784, 256) * 0.01\n",
        "b1 = np.zeros((1, 256))\n",
        "\n",
        "\n",
        "w2 = np.random.rand(256, 1) * 0.01\n",
        "b2 = np.zeros((1, 1))\n",
        "\n",
        "losses = []\n",
        "\n",
        "def sigmoid(z):\n",
        "  return 1/(1 + np.exp(-z))\n",
        "\n",
        "def relu(z):\n",
        "  return np.maximum(z,0)\n",
        "\n",
        "\n",
        "def cross_entropy(predictions, targets):\n",
        "  N = predictions.shape[0]\n",
        "  ce = -np.sum(targets * np.log(predictions) + (1 - predictions)* np.log(1 - predictions)) / N\n",
        "  return ce\n",
        "\n",
        "def relu_deriv(z):\n",
        "  return (z >= 0).astype(float)\n",
        "\n",
        "for n_epoch in range(epochs):\n",
        "\n",
        "    print(f'Epoch: {n_epoch + 1}')\n",
        "    \n",
        "    for x, y in train_loader:\n",
        "        \n",
        "        x = x.view(x.shape[0], -1).numpy()\n",
        "        y = np.expand_dims(y.numpy(), 1)\n",
        "        \n",
        "        ### КОД СЮДА ###\n",
        "\n",
        "        # forward\n",
        "        z1 = np.dot(x, w1) + b1\n",
        "        a1 = relu(z1)\n",
        "        z2 = np.dot(a1, w2) + b2\n",
        "        pred = sigmoid(z2)\n",
        "\n",
        "        # рассчет bce\n",
        "        loss = cross_entropy(pred, y)\n",
        "        losses.append(loss.mean())\n",
        "        \n",
        "        # backward\n",
        "        dloss_dz2 = (pred - y)/128\n",
        "        dloss_dw2 = np.dot(a1.T, dloss_dz2)\n",
        "        dloss_db2 = np.sum(dloss_dz2, axis=0, keepdims=True)\n",
        "        dloss_da1 = np.dot(dloss_dz2, w2.T)\n",
        "        dloss_dz1 = dloss_da1 * relu_deriv(z1)\n",
        "        dloss_dw1 = np.dot(x.T, dloss_dz1)\n",
        "        dloss_db1 = np.sum(dloss_dz1, axis=0, keepdims=True)\n",
        "        # update\n",
        "\n",
        "        w1 = w1 - learning_rate * dloss_dw1\n",
        "        b1 = b1 - learning_rate * dloss_db1\n",
        "        w2 = w2 - learning_rate * dloss_dw2\n",
        "        b2 = b2 - learning_rate * dloss_db2"
      ],
      "execution_count": 36,
      "outputs": [
        {
          "output_type": "stream",
          "name": "stdout",
          "text": [
            "Epoch: 1\n",
            "Epoch: 2\n",
            "Epoch: 3\n",
            "Epoch: 4\n",
            "Epoch: 5\n",
            "Epoch: 6\n",
            "Epoch: 7\n",
            "Epoch: 8\n",
            "Epoch: 9\n",
            "Epoch: 10\n",
            "Epoch: 11\n",
            "Epoch: 12\n",
            "Epoch: 13\n",
            "Epoch: 14\n",
            "Epoch: 15\n",
            "Epoch: 16\n",
            "Epoch: 17\n",
            "Epoch: 18\n",
            "Epoch: 19\n",
            "Epoch: 20\n"
          ]
        }
      ]
    },
    {
      "cell_type": "markdown",
      "metadata": {
        "id": "9zCtAeAlvQQN"
      },
      "source": [
        "## Подсказки по размерностям\n",
        "\n",
        "### Forward\n",
        "\n",
        "- z1 - первое линейное преобразование - (BATCH_SIZE, INNER_FEATURES)\n",
        "- a1 - Применение нелинейности - (BATCH_SIZE, INNER_FEATURES)\n",
        "- z2 - второе нелинейное преобразование - (BATCH_SIZE, 1)\n",
        "- pred - сигмоида - (BATCH_SIZE, 1)\n",
        "- loss - функция потерь - скаляр\n",
        "\n",
        "### Backward\n",
        "\n",
        "- d_loss/d_pred - градиент функции потерь по pred - (BATCH_SIZE, 1)\n",
        "- d_loss/dz2 - градиент сигмоиды по z2 - (BATCH_SIZE, 1)\n",
        "- d_loss/da1 - градиент линейного преобразования по a1 - (BATCH_SIZE, INNER_FEATURES)\n",
        "- d_loss/dw2 - градиент линейного преобразования по w2 - (INNER_FEATURES, 1)\n",
        "- d_loss/db2 - градиент линейного преобразования по b2 - (1,)\n",
        "- d_loss/dz1 - градиент нелинейной функции по z1 - (BATCH_SIZE, INNER_FEATURES)\n",
        "- d_loss/dw1 - градиент линейного преобразования по w1 - (IN_FEATURES, INNER_FEATURES)\n",
        "- d_loss/db1 - градиент линейного преобразования по b1 - (INNER_FEATURES,)"
      ]
    },
    {
      "cell_type": "code",
      "metadata": {
        "id": "e-loOc0pvQQR",
        "colab": {
          "base_uri": "https://localhost:8080/",
          "height": 730
        },
        "outputId": "c9cf4bac-2a9b-4098-99ef-320778c75219"
      },
      "source": [
        "plt.figure(figsize=(14, 12))\n",
        "plt.plot(losses)\n",
        "plt.grid()\n",
        "plt.title('Training process')\n",
        "plt.xlabel('Iterations')\n",
        "plt.ylabel('Loss function');"
      ],
      "execution_count": 38,
      "outputs": [
        {
          "output_type": "display_data",
          "data": {
            "image/png": "[encoded data removed]",
            "text/plain": [
              "<Figure size 1008x864 with 1 Axes>"
            ]
          },
          "metadata": {
            "needs_background": "light"
          }
        }
      ]
    },
    {
      "cell_type": "markdown",
      "metadata": {
        "id": "sCv1GJcdvQQV"
      },
      "source": [
        "# Нужно получить значение лосса ниже 0.1 (на графике)\n",
        "```np.mean(losses)``` примерно должно равняться 0.15  \n",
        "Это где-то 0.9+ accuracy"
      ]
    },
    {
      "cell_type": "code",
      "metadata": {
        "id": "thb4PZ_FvQQX",
        "colab": {
          "base_uri": "https://localhost:8080/"
        },
        "outputId": "38ae5a51-cdbb-4141-fb79-68ebe6d030bc"
      },
      "source": [
        "np.mean(losses)"
      ],
      "execution_count": 39,
      "outputs": [
        {
          "output_type": "execute_result",
          "data": {
            "text/plain": [
              "0.1250779780319057"
            ]
          },
          "metadata": {},
          "execution_count": 39
        }
      ]
    }
  ]
}