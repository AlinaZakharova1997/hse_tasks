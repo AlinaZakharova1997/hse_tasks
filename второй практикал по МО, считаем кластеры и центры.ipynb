{
 "cells": [
  {
   "cell_type": "code",
   "execution_count": 3,
   "metadata": {},
   "outputs": [],
   "source": [
    "import numpy as np\n",
    "from random import choice\n",
    "\n",
    "def scatter_clusters(\n",
    "    centers: list,\n",
    "    spread: list,\n",
    "    n_points: int) -> list:\n",
    "    scattering = []\n",
    "    for point in range(n_points):\n",
    "        point_center = choice(centers)\n",
    "        point_dist_x = choice(spread)\n",
    "        point_dist_y = choice(spread)\n",
    "        x = point_center[0]+point_dist_x\n",
    "        y = point_center[1]+point_dist_y\n",
    "        point_coordinate = (x,y)\n",
    "        scattering.append(point_coordinate)\n",
    "    return scattering"
   ]
  },
  {
   "cell_type": "code",
   "execution_count": 4,
   "metadata": {},
   "outputs": [
    {
     "data": {
      "text/plain": [
       "[(45, 57),\n",
       " (4, 4),\n",
       " (46, 54),\n",
       " (45, 54),\n",
       " (9, 8),\n",
       " (51, 54),\n",
       " (6, 9),\n",
       " (13, 33),\n",
       " (9, 29),\n",
       " (10, 26)]"
      ]
     },
     "execution_count": 4,
     "metadata": {},
     "output_type": "execute_result"
    }
   ],
   "source": [
    "points = scatter_clusters(centers=[(1,2),(8,24),(40,50)],spread=list(range(12)),n_points=10)\n",
    "points"
   ]
  },
  {
   "cell_type": "code",
   "execution_count": 5,
   "metadata": {},
   "outputs": [],
   "source": [
    "def center(centers, new_locations, tolerance):\n",
    "    for i, coordinate in enumerate(new_locations):\n",
    "        x = coordinate[0]\n",
    "        y = coordinate[1]\n",
    "        if centers[i][0]-x  < tolerance and centers[i][1]-y < tolerance:\n",
    "            centers == new_locations\n",
    "    return centers"
   ]
  },
  {
   "cell_type": "code",
   "execution_count": 41,
   "metadata": {},
   "outputs": [],
   "source": [
    "from statistics import mean \n",
    "import random\n",
    "def k_means(k, D, iterations, tolerance):\n",
    "    centers = []\n",
    "    new_locations = []\n",
    "    centers_and_points = {}\n",
    "    \n",
    "    difference = 1\n",
    "    \n",
    "    xx = []\n",
    "    yy = []\n",
    "    for pair in D:\n",
    "        xx.append(pair[0])\n",
    "        yy.append(pair[1])\n",
    "    lowx = min(xx)\n",
    "    lowy = min(yy)\n",
    "    highx = max(xx)\n",
    "    highy = max(yy)\n",
    "    for center in range(k):\n",
    "        x = random.uniform(lowx,highx)\n",
    "        y = random.uniform(lowy,highy)\n",
    "        random_location = (x,y)\n",
    "        centers.append(random_location)\n",
    "        \n",
    "    for i in range(iterations):\n",
    "        \n",
    "        \n",
    "        if difference < tolerance:\n",
    "            return centers_and_points\n",
    "            \n",
    "        for center in centers:\n",
    "            centers_and_points[center] = []\n",
    "        for point_coordinate in D:\n",
    "            distances_to_centers = {}\n",
    "            for center_location in centers:\n",
    "                distance = np.linalg.norm([point_coordinate, center_location])\n",
    "                distances_to_centers[center_location] = distance\n",
    "            min_distance = min(distances_to_centers.values())\n",
    "            for key, item in distances_to_centers.items():\n",
    "                if item == min_distance:\n",
    "                    nearest_center = key\n",
    "            centers_and_points[nearest_center].append(point_coordinate)\n",
    "        for center, points in centers_and_points.items():\n",
    "            if len(points) > 0:\n",
    "                x = []\n",
    "                y = []\n",
    "                for i in points:\n",
    "                    x.append(i[0])\n",
    "                    y.append(i[1])\n",
    "                mx = mean(x)\n",
    "                my = mean(y)\n",
    "                new_center_location = (mx,my)\n",
    "                if new_center_location not in new_locations:\n",
    "                    new_locations.append(new_center_location)\n",
    "        difference = np.linalg.norm(np.asarray(centers) - np.asarray(new_locations))\n",
    "        centers = new_locations\n",
    "    return  \n",
    "    #return centers\n",
    "    "
   ]
  },
  {
   "cell_type": "code",
   "execution_count": 42,
   "metadata": {},
   "outputs": [
    {
     "data": {
      "text/plain": [
       "{(34.790297105690556, 27.107587948522042): [(45, 57),\n",
       "  (4, 4),\n",
       "  (46, 54),\n",
       "  (45, 54),\n",
       "  (9, 8),\n",
       "  (51, 54),\n",
       "  (6, 9),\n",
       "  (13, 33),\n",
       "  (9, 29),\n",
       "  (10, 26)],\n",
       " (20.592164372678905, 39.482023466308824): [],\n",
       " (37.87753591097333, 35.90005529653055): [],\n",
       " (23.8, 32.8): [(45, 57),\n",
       "  (4, 4),\n",
       "  (46, 54),\n",
       "  (45, 54),\n",
       "  (9, 8),\n",
       "  (51, 54),\n",
       "  (6, 9),\n",
       "  (13, 33),\n",
       "  (9, 29),\n",
       "  (10, 26)]}"
      ]
     },
     "execution_count": 42,
     "metadata": {},
     "output_type": "execute_result"
    }
   ],
   "source": [
    "k = 3\n",
    "iterations = 100\n",
    "tolerance =  0.01\n",
    "d = k_means(k, points, iterations, tolerance)\n",
    "d"
   ]
  },
  {
   "cell_type": "code",
   "execution_count": null,
   "metadata": {
    "scrolled": true
   },
   "outputs": [],
   "source": []
  },
  {
   "cell_type": "code",
   "execution_count": 49,
   "metadata": {},
   "outputs": [
    {
     "data": {
      "image/png": "[encoded data removed]",
      "text/plain": [
       "<matplotlib.figure.Figure at 0x7fb053d13d30>"
      ]
     },
     "metadata": {
      "needs_background": "light"
     },
     "output_type": "display_data"
    }
   ],
   "source": [
    "import matplotlib.pyplot as plt\n",
    "\n",
    "for key, point in d.items():\n",
    "    if point:\n",
    "        for pair in point:\n",
    "            # print(pair)\n",
    "            plt.scatter(pair[0], pair[1],color='red')\n",
    "plt.show()"
   ]
  },
  {
   "cell_type": "code",
   "execution_count": null,
   "metadata": {},
   "outputs": [],
   "source": []
  },
  {
   "cell_type": "code",
   "execution_count": null,
   "metadata": {},
   "outputs": [],
   "source": []
  },
  {
   "cell_type": "code",
   "execution_count": null,
   "metadata": {},
   "outputs": [],
   "source": []
  },
  {
   "cell_type": "code",
   "execution_count": null,
   "metadata": {},
   "outputs": [],
   "source": []
  }
 ],
 "metadata": {
  "kernelspec": {
   "display_name": "Python 3",
   "language": "python",
   "name": "python3"
  },
  "language_info": {
   "codemirror_mode": {
    "name": "ipython",
    "version": 3
   },
   "file_extension": ".py",
   "mimetype": "text/x-python",
   "name": "python",
   "nbconvert_exporter": "python",
   "pygments_lexer": "ipython3",
   "version": "3.6.9"
  }
 },
 "nbformat": 4,
 "nbformat_minor": 4
}
