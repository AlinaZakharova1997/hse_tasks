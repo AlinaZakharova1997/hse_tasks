{
  "nbformat": 4,
  "nbformat_minor": 0,
  "metadata": {
    "kernelspec": {
      "display_name": "Python 3",
      "language": "python",
      "name": "python3"
    },
    "colab": {
      "name": "WSD_WSI.ipynb",
      "provenance": [],
      "toc_visible": true,
      "include_colab_link": true
    }
  },
  "cells": [
    {
      "cell_type": "markdown",
      "metadata": {
        "id": "view-in-github",
        "colab_type": "text"
      },
      "source": [
        "<a href=\"https://colab.research.google.com/github/AlinaZakharova1997/hse_tasks/blob/master/WSD_WSI.ipynb\" target=\"_parent\"><img src=\"https://colab.research.google.com/assets/colab-badge.svg\" alt=\"Open In Colab\"/></a>"
      ]
    },
    {
      "cell_type": "markdown",
      "metadata": {
        "id": "c0LoSOieqI32"
      },
      "source": [
        "# Word Sense Disambiguation (снятие лексической неоднозначности) и Word Sense Induction (нахождение значений слова)"
      ]
    },
    {
      "cell_type": "markdown",
      "metadata": {
        "id": "4KudGj08qI4H"
      },
      "source": [
        "WSD и WSI  - это связанные задачи про определение значений, в которых употребляются слова. WSI занимается определением возможных значений слова, а WSD нужна для того, чтобы определить, в каком из имеющихся значений слово употреблено в тексте. \n",
        "\n",
        "На прошлых занятиях мы вообще закрывали глаза на то, что у слов может быть несколько значений, т.к. в целом это не такая уж серьезная проблема. Однако в некоторых практических задачах учёт многозначности может сильно помочь (например, в поиске результат будет отличаться для запросов \"гоголь фильм\" и \"гоголь писатель\")"
      ]
    },
    {
      "cell_type": "markdown",
      "metadata": {
        "id": "FVh9YseIqI4I"
      },
      "source": [
        "Основное предположение, на котором строятся все модели для снятия и определения неоднозначности - значение определяется в контексте (отличие от эмбедингов в том, что тут имеется в виду конкретный контекст и конкретное значение, а не набор всех контекстов и общее значение=смысл слова). Т.к контекст может включать в себя невероятного много всего (от 1 соседнего слова до актуальных мемов), решить задачу полностью пока нельзя и это, наверное, сложная и интересная тема для исследований. Про sota в этой области можно почитать вот тут - http://nlpprogress.com/english/word_sense_disambiguation.html  \n",
        "Но в рамках семинара давайте посмотрим, какие есть уже готовые инструменты или простые алгоритмы для работы с многозначностью."
      ]
    },
    {
      "cell_type": "markdown",
      "metadata": {
        "id": "rAjALEQIqI4K"
      },
      "source": [
        "А сейчас попробуем Адаграм!"
      ]
    },
    {
      "cell_type": "code",
      "metadata": {
        "colab": {
          "base_uri": "https://localhost:8080/"
        },
        "id": "iKAIOzhvqI4M",
        "outputId": "2eab75f8-5873-4cc7-ad9e-554fbfeb0ecd"
      },
      "source": [
        "import adagram\n",
        "from lxml import html\n",
        "from nltk.tokenize import word_tokenize\n",
        "from nltk.corpus import stopwords\n",
        "from nltk.corpus import wordnet as wn\n",
        "from pymorphy2 import MorphAnalyzer\n",
        "from string import punctuation\n",
        "import json, os, re, sys\n",
        "from collections import Counter\n",
        "import numpy as np\n",
        "from razdel import tokenize as razdel_tokenize\n",
        "from matplotlib import pyplot as plt\n",
        "import gensim\n",
        "import pandas as pd\n",
        "from sklearn.metrics import adjusted_rand_score\n",
        "import tqdm\n",
        "from sklearn.metrics import f1_score\n",
        "from sklearn.ensemble import RandomForestClassifier\n",
        "from sklearn.linear_model import LogisticRegression\n",
        "from sklearn.model_selection import train_test_split\n",
        "from sklearn.metrics import classification_report\n",
        "from sklearn.model_selection import KFold\n",
        "\n",
        "\n",
        "%matplotlib inline\n",
        "import warnings\n",
        "warnings.filterwarnings('ignore')\n",
        "morph = MorphAnalyzer()\n",
        "punct = punctuation+'«»—…“”*№–'\n",
        "import nltk\n",
        "nltk.download('stopwords')\n",
        "stops = set(stopwords.words('russian'))\n",
        "\n",
        "def normalize(text):\n",
        "    \n",
        "    words = [token.text.strip(punct) for token in list(razdel_tokenize(text))]\n",
        "    words = [morph.parse(word)[0].normal_form for word in words if word and word not in stops]\n",
        "\n",
        "    return words\n"
      ],
      "execution_count": null,
      "outputs": [
        {
          "output_type": "stream",
          "text": [
            "[nltk_data] Downloading package stopwords to /root/nltk_data...\n",
            "[nltk_data]   Unzipping corpora/stopwords.zip.\n"
          ],
          "name": "stdout"
        }
      ]
    },
    {
      "cell_type": "code",
      "metadata": {
        "colab": {
          "base_uri": "https://localhost:8080/"
        },
        "id": "r2TvGhycqsYs",
        "outputId": "84a77440-ee6a-4a60-e3ed-d9abf3eae598"
      },
      "source": [
        "!pip3 install razdel"
      ],
      "execution_count": null,
      "outputs": [
        {
          "output_type": "stream",
          "text": [
            "Collecting razdel\n",
            "  Downloading https://files.pythonhosted.org/packages/15/2c/664223a3924aa6e70479f7d37220b3a658765b9cfe760b4af7ffdc50d38f/razdel-0.5.0-py3-none-any.whl\n",
            "Installing collected packages: razdel\n",
            "Successfully installed razdel-0.5.0\n"
          ],
          "name": "stdout"
        }
      ]
    },
    {
      "cell_type": "code",
      "metadata": {
        "colab": {
          "base_uri": "https://localhost:8080/"
        },
        "id": "-Y-MgNNvqhCb",
        "outputId": "441d0769-b627-42f9-b047-fb027e460b22"
      },
      "source": [
        "!pip3 install pymorphy2"
      ],
      "execution_count": null,
      "outputs": [
        {
          "output_type": "stream",
          "text": [
            "Collecting pymorphy2\n",
            "\u001b[?25l  Downloading https://files.pythonhosted.org/packages/07/57/b2ff2fae3376d4f3c697b9886b64a54b476e1a332c67eee9f88e7f1ae8c9/pymorphy2-0.9.1-py3-none-any.whl (55kB)\n",
            "\r\u001b[K     |██████                          | 10kB 14.8MB/s eta 0:00:01\r\u001b[K     |███████████▉                    | 20kB 20.2MB/s eta 0:00:01\r\u001b[K     |█████████████████▊              | 30kB 12.2MB/s eta 0:00:01\r\u001b[K     |███████████████████████▋        | 40kB 10.1MB/s eta 0:00:01\r\u001b[K     |█████████████████████████████▌  | 51kB 7.2MB/s eta 0:00:01\r\u001b[K     |████████████████████████████████| 61kB 4.1MB/s \n",
            "\u001b[?25hCollecting dawg-python>=0.7.1\n",
            "  Downloading https://files.pythonhosted.org/packages/6a/84/ff1ce2071d4c650ec85745766c0047ccc3b5036f1d03559fd46bb38b5eeb/DAWG_Python-0.7.2-py2.py3-none-any.whl\n",
            "Collecting pymorphy2-dicts-ru<3.0,>=2.4\n",
            "\u001b[?25l  Downloading https://files.pythonhosted.org/packages/3a/79/bea0021eeb7eeefde22ef9e96badf174068a2dd20264b9a378f2be1cdd9e/pymorphy2_dicts_ru-2.4.417127.4579844-py2.py3-none-any.whl (8.2MB)\n",
            "\u001b[K     |████████████████████████████████| 8.2MB 9.9MB/s \n",
            "\u001b[?25hRequirement already satisfied: docopt>=0.6 in /usr/local/lib/python3.7/dist-packages (from pymorphy2) (0.6.2)\n",
            "Installing collected packages: dawg-python, pymorphy2-dicts-ru, pymorphy2\n",
            "Successfully installed dawg-python-0.7.2 pymorphy2-0.9.1 pymorphy2-dicts-ru-2.4.417127.4579844\n"
          ],
          "name": "stdout"
        }
      ]
    },
    {
      "cell_type": "markdown",
      "metadata": {
        "id": "b15IRzkxqI4O"
      },
      "source": [
        "## Адаграм"
      ]
    },
    {
      "cell_type": "markdown",
      "metadata": {
        "id": "IySwTabVqI4Q"
      },
      "source": [
        "Word2Vec и Fasttext каждому слову (или буквенному нграму) сопоставляют 1 вектор. Это значит, что у каждого слова в векторном пространстве только 1 значение. У многозначных слов векторы будут просто каким-то усреднением или обобщением всех его значений. "
      ]
    },
    {
      "cell_type": "markdown",
      "metadata": {
        "id": "noHrhUDkqI4Q"
      },
      "source": [
        "В работе https://arxiv.org/pdf/1502.07257.pdf предлагается способ улучшить Skip Gram, так чтобы каждому слову сопостовлялось K различных векторов, так что каждый из них представляет какое-то из его значений. При этом сам параметр K задавать не нужно, модель сама находит нужное количество \"значений\" для каждого слова (т.е. делает WSI)."
      ]
    },
    {
      "cell_type": "markdown",
      "metadata": {
        "id": "OV6sS7R1qI4R"
      },
      "source": [
        "Изначально этот  подход реализован на julia, но есть реализация на питоне - https://github.com/lopuhin/python-adagram"
      ]
    },
    {
      "cell_type": "code",
      "metadata": {
        "colab": {
          "base_uri": "https://localhost:8080/"
        },
        "id": "ea7ec8eOqI4S",
        "outputId": "700646a1-e0a3-4b93-d5bb-84663ed8022b"
      },
      "source": [
        "!pip3 install Cython numpy\n",
        "!pip3 install git+https://github.com/lopuhin/python-adagram.git"
      ],
      "execution_count": null,
      "outputs": [
        {
          "output_type": "stream",
          "text": [
            "Requirement already satisfied: Cython in /usr/local/lib/python3.7/dist-packages (0.29.22)\n",
            "Requirement already satisfied: numpy in /usr/local/lib/python3.7/dist-packages (1.19.5)\n",
            "Collecting git+https://github.com/lopuhin/python-adagram.git\n",
            "  Cloning https://github.com/lopuhin/python-adagram.git to /tmp/pip-req-build-a052igri\n",
            "  Running command git clone -q https://github.com/lopuhin/python-adagram.git /tmp/pip-req-build-a052igri\n",
            "Requirement already satisfied: cython in /usr/local/lib/python3.7/dist-packages (from adagram==0.0.1) (0.29.22)\n",
            "Requirement already satisfied: joblib in /usr/local/lib/python3.7/dist-packages (from adagram==0.0.1) (1.0.1)\n",
            "Requirement already satisfied: numpy>=1.9 in /usr/local/lib/python3.7/dist-packages (from adagram==0.0.1) (1.19.5)\n",
            "Requirement already satisfied: six in /usr/local/lib/python3.7/dist-packages (from adagram==0.0.1) (1.15.0)\n",
            "Building wheels for collected packages: adagram\n",
            "  Building wheel for adagram (setup.py) ... \u001b[?25l\u001b[?25hdone\n",
            "  Created wheel for adagram: filename=adagram-0.0.1-cp37-cp37m-linux_x86_64.whl size=455347 sha256=53498aba741aec79d0149a81e655db8b0fbb2ee5f530325c8bf546155d459bc4\n",
            "  Stored in directory: /tmp/pip-ephem-wheel-cache-rbg7fvc4/wheels/11/0f/46/f5df96670df8f7973b4c2311ffc9b02e435a7bd3207f992c4d\n",
            "Successfully built adagram\n",
            "Installing collected packages: adagram\n",
            "Successfully installed adagram-0.0.1\n"
          ],
          "name": "stdout"
        }
      ]
    },
    {
      "cell_type": "markdown",
      "metadata": {
        "id": "amIJBY7bqI4V"
      },
      "source": [
        "Обучается адаграм через командную строку."
      ]
    },
    {
      "cell_type": "markdown",
      "metadata": {
        "id": "ghew66hwqI4X"
      },
      "source": [
        "Возьмем небольшой новостной корпус. Нормализуем."
      ]
    },
    {
      "cell_type": "code",
      "metadata": {
        "id": "ikogXnA6qI4Y"
      },
      "source": [
        "corpus = open('wiki_data.txt').read()\n",
        "corpus = normalize(corpus)"
      ],
      "execution_count": null,
      "outputs": []
    },
    {
      "cell_type": "code",
      "metadata": {
        "colab": {
          "base_uri": "https://localhost:8080/"
        },
        "id": "Y7gMZfkKqI4Z",
        "outputId": "eb6ce682-148f-47e6-e94f-e8b4831db4ce"
      },
      "source": [
        "corpus[:10]"
      ],
      "execution_count": null,
      "outputs": [
        {
          "output_type": "execute_result",
          "data": {
            "text/plain": [
              "['новостройка',\n",
              " 'нижегородский',\n",
              " 'область',\n",
              " 'новостро́йка',\n",
              " 'сельский',\n",
              " 'посёлок',\n",
              " 'дивеевский',\n",
              " 'район',\n",
              " 'нижегородский',\n",
              " 'область']"
            ]
          },
          "metadata": {
            "tags": []
          },
          "execution_count": 9
        }
      ]
    },
    {
      "cell_type": "markdown",
      "metadata": {
        "id": "TwBGiT9-qI4Z"
      },
      "source": [
        "И положим одним куском в файл."
      ]
    },
    {
      "cell_type": "code",
      "metadata": {
        "id": "U1i8DsVEqI4Z"
      },
      "source": [
        "f = open('corpus.txt', 'w')\n",
        "f.write(' '.join(corpus))\n",
        "f.close()"
      ],
      "execution_count": null,
      "outputs": []
    },
    {
      "cell_type": "markdown",
      "metadata": {
        "id": "GnlDXISYqI4a"
      },
      "source": [
        "Обучим модель (обучается достаточно долго)"
      ]
    },
    {
      "cell_type": "code",
      "metadata": {
        "scrolled": true,
        "colab": {
          "base_uri": "https://localhost:8080/"
        },
        "id": "T5MVrPXIqI4a",
        "outputId": "6f4cb7a5-bafd-46ec-82b1-27dd851cc205"
      },
      "source": [
        "!adagram-train corpus.txt out.pkl"
      ],
      "execution_count": null,
      "outputs": [
        {
          "output_type": "stream",
          "text": [
            "[INFO] 2021-03-14 09:59:29,236 Building dictionary...\n",
            "[INFO] 2021-03-14 09:59:33,269 Done! 6270 words.\n",
            "[INFO] 2021-03-14 09:59:44,948 18.82% -7.3442 0.0203 1.5/3.0 5.58 kwords/sec\n",
            "[INFO] 2021-03-14 09:59:52,537 37.65% -7.1695 0.0156 1.6/4.0 8.43 kwords/sec\n",
            "[INFO] 2021-03-14 10:00:00,158 56.47% -7.0563 0.0109 1.7/4.0 8.40 kwords/sec\n",
            "[INFO] 2021-03-14 10:00:07,707 75.29% -6.9780 0.0062 1.7/4.0 8.48 kwords/sec\n",
            "[INFO] 2021-03-14 10:00:15,231 94.11% -6.9251 0.0015 1.7/4.0 8.51 kwords/sec\n",
            "[INFO] 2021-03-14 10:00:17,557 100.00% -6.8986 0.0000 1.8/4.0 8.61 kwords/sec\n"
          ],
          "name": "stdout"
        }
      ]
    },
    {
      "cell_type": "markdown",
      "metadata": {
        "id": "tVPOaKGRqI4c"
      },
      "source": [
        "Обученная модель загружается вот так."
      ]
    },
    {
      "cell_type": "code",
      "metadata": {
        "id": "8_MawDGAqI4c"
      },
      "source": [
        "vm = adagram.VectorModel.load(\"out.pkl\")"
      ],
      "execution_count": null,
      "outputs": []
    },
    {
      "cell_type": "code",
      "metadata": {
        "colab": {
          "base_uri": "https://localhost:8080/"
        },
        "id": "VCAMKI67qI4c",
        "outputId": "2c071323-d507-4cd2-fe21-5718182fbacb"
      },
      "source": [
        "# модель обученная на большом корпусе (острожно 1.5 гб)\n",
        "!wget 'https://s3.amazonaws.com/kostia.lopuhin/all.a010.p10.d300.w5.m100.nonorm.slim.joblib'\n",
        "vm = adagram.VectorModel.load('all.a010.p10.d300.w5.m100.nonorm.slim.joblib')"
      ],
      "execution_count": null,
      "outputs": [
        {
          "output_type": "stream",
          "text": [
            "--2021-03-14 10:00:24--  https://s3.amazonaws.com/kostia.lopuhin/all.a010.p10.d300.w5.m100.nonorm.slim.joblib\n",
            "Resolving s3.amazonaws.com (s3.amazonaws.com)... 52.216.226.83\n",
            "Connecting to s3.amazonaws.com (s3.amazonaws.com)|52.216.226.83|:443... connected.\n",
            "HTTP request sent, awaiting response... 200 OK\n",
            "Length: 1462416741 (1.4G) [application/x-www-form-urlencoded]\n",
            "Saving to: ‘all.a010.p10.d300.w5.m100.nonorm.slim.joblib’\n",
            "\n",
            "all.a010.p10.d300.w 100%[===================>]   1.36G  47.5MB/s    in 30s     \n",
            "\n",
            "2021-03-14 10:00:54 (46.5 MB/s) - ‘all.a010.p10.d300.w5.m100.nonorm.slim.joblib’ saved [1462416741/1462416741]\n",
            "\n"
          ],
          "name": "stdout"
        }
      ]
    },
    {
      "cell_type": "markdown",
      "metadata": {
        "id": "4nvtWgQ3qI4d"
      },
      "source": [
        "Посмотрим на значения каких-нибудь слова."
      ]
    },
    {
      "cell_type": "code",
      "metadata": {
        "id": "VJEZNSyMqI4d",
        "colab": {
          "base_uri": "https://localhost:8080/"
        },
        "outputId": "e3cd360c-ef1f-43a3-b805-d15079191c2e"
      },
      "source": [
        "vm.word_sense_probs('мир')\n",
        "# возвращается список туплов, где первая цифра - номер значения, а вторая - вероятность (распространенность) этого значения"
      ],
      "execution_count": null,
      "outputs": [
        {
          "output_type": "execute_result",
          "data": {
            "text/plain": [
              "[(0, 0.06268646203840206),\n",
              " (1, 0.20436841565195035),\n",
              " (2, 0.28245536273741867),\n",
              " (3, 0.4499986631679041)]"
            ]
          },
          "metadata": {
            "tags": []
          },
          "execution_count": 14
        }
      ]
    },
    {
      "cell_type": "markdown",
      "metadata": {
        "id": "tV6LWgD7qI4e"
      },
      "source": [
        "Посмотрим какие слова близки к каждому из значений."
      ]
    },
    {
      "cell_type": "code",
      "metadata": {
        "id": "lXQ2zabqqI4f",
        "colab": {
          "base_uri": "https://localhost:8080/"
        },
        "outputId": "5ced68c7-56e9-4841-ff59-302d6157713c"
      },
      "source": [
        "vm.sense_neighbors('мир', 0) # первое значение слова мир"
      ],
      "execution_count": null,
      "outputs": [
        {
          "output_type": "execute_result",
          "data": {
            "text/plain": [
              "[('европа', 0, 0.86309934),\n",
              " ('азия', 0, 0.7843011),\n",
              " ('юниор', 0, 0.75505394),\n",
              " ('россия', 3, 0.7537),\n",
              " ('призерка', 0, 0.74310327),\n",
              " ('юниорский', 0, 0.72926927),\n",
              " ('победитель', 0, 0.72810775),\n",
              " ('командный', 0, 0.72130823),\n",
              " ('победительница', 0, 0.7165183),\n",
              " ('среди', 4, 0.7144474)]"
            ]
          },
          "metadata": {
            "tags": []
          },
          "execution_count": 15
        }
      ]
    },
    {
      "cell_type": "code",
      "metadata": {
        "id": "MoSbIzMmqI4g",
        "colab": {
          "base_uri": "https://localhost:8080/"
        },
        "outputId": "19068879-89ef-479e-aa65-8a9453b378d7"
      },
      "source": [
        "vm.sense_neighbors('мир', 2) # второе"
      ],
      "execution_count": null,
      "outputs": [
        {
          "output_type": "execute_result",
          "data": {
            "text/plain": [
              "[('реальность', 1, 0.73328036),\n",
              " ('космос', 2, 0.7112729),\n",
              " ('действительность', 2, 0.7024969),\n",
              " ('восприятие', 1, 0.6677514),\n",
              " ('единство', 0, 0.6616055),\n",
              " ('универсум', 0, 0.65104866),\n",
              " ('природа', 0, 0.6396403),\n",
              " ('жизнь', 3, 0.6382615),\n",
              " ('бытие', 1, 0.6363366),\n",
              " ('ноуменальный', 0, 0.6316216)]"
            ]
          },
          "metadata": {
            "tags": []
          },
          "execution_count": 19
        }
      ]
    },
    {
      "cell_type": "markdown",
      "metadata": {
        "id": "v39ilDr8qI4h"
      },
      "source": [
        "Чтобы не гадать, можно посмотреть на все слова у которых есть хотя бы 2 устойчивых значения."
      ]
    },
    {
      "cell_type": "code",
      "metadata": {
        "id": "04t1Ca_iqI4h"
      },
      "source": [
        "ambiguous = []\n",
        "for word in vm.dictionary.id2word:\n",
        "    if len(word) < 5:\n",
        "        continue\n",
        "    probs = vm.word_sense_probs(word)\n",
        "    if len(probs) > 1 and probs[0][1] < 0.8: # второе условие нужно, чтоб выкинуть слова с не очень сильным вторым значением\n",
        "        ambiguous.append(word)"
      ],
      "execution_count": null,
      "outputs": []
    },
    {
      "cell_type": "code",
      "metadata": {
        "scrolled": true,
        "id": "AJQiyWe9qI4h",
        "colab": {
          "base_uri": "https://localhost:8080/"
        },
        "outputId": "fa418b80-46f7-4022-b486-5d9965b8abff"
      },
      "source": [
        "ambiguous[:30]"
      ],
      "execution_count": null,
      "outputs": [
        {
          "output_type": "execute_result",
          "data": {
            "text/plain": [
              "['который',\n",
              " 'человек',\n",
              " 'такой',\n",
              " 'только',\n",
              " 'время',\n",
              " 'когда',\n",
              " 'другой',\n",
              " 'становиться',\n",
              " 'сказать',\n",
              " 'чтобы',\n",
              " 'самый',\n",
              " 'знать',\n",
              " 'первый',\n",
              " 'говорить',\n",
              " 'очень',\n",
              " 'жизнь',\n",
              " 'после',\n",
              " 'много',\n",
              " 'можно',\n",
              " 'новый',\n",
              " 'место',\n",
              " 'работа',\n",
              " 'иметь',\n",
              " 'хотеть',\n",
              " 'давать',\n",
              " 'большой',\n",
              " 'какой',\n",
              " 'каждый',\n",
              " 'понимать',\n",
              " 'просто']"
            ]
          },
          "metadata": {
            "tags": []
          },
          "execution_count": 21
        }
      ]
    },
    {
      "cell_type": "markdown",
      "metadata": {
        "id": "uKQinIs4qI4i"
      },
      "source": [
        "Определить значение по контексту можно вот так:"
      ]
    },
    {
      "cell_type": "code",
      "metadata": {
        "id": "119rV5W5qI4i",
        "colab": {
          "base_uri": "https://localhost:8080/"
        },
        "outputId": "1893e341-6a1e-46fc-86be-cf5defdcb323"
      },
      "source": [
        "vm.disambiguate(\"мир\", ['реальность', \"космос\"]) # выдает вероятности"
      ],
      "execution_count": null,
      "outputs": [
        {
          "output_type": "execute_result",
          "data": {
            "text/plain": [
              "array([2.14328321e-05, 1.11974936e-02, 8.70955617e-01, 1.17825457e-01,\n",
              "       0.00000000e+00, 0.00000000e+00, 0.00000000e+00, 0.00000000e+00,\n",
              "       0.00000000e+00, 0.00000000e+00])"
            ]
          },
          "metadata": {
            "tags": []
          },
          "execution_count": 22
        }
      ]
    },
    {
      "cell_type": "code",
      "metadata": {
        "id": "L2BdrfmoqI4j",
        "colab": {
          "base_uri": "https://localhost:8080/"
        },
        "outputId": "aca73896-f968-470e-96b4-2acc930792a3"
      },
      "source": [
        "# достаем номер самого вероятного значения\n",
        "vm.disambiguate(\"мир\", ['реальность', \"космос\"]).argmax()"
      ],
      "execution_count": null,
      "outputs": [
        {
          "output_type": "execute_result",
          "data": {
            "text/plain": [
              "2"
            ]
          },
          "metadata": {
            "tags": []
          },
          "execution_count": 23
        }
      ]
    },
    {
      "cell_type": "markdown",
      "metadata": {
        "id": "4lCvkZVNqI4j"
      },
      "source": [
        "А вектор нужно смысла можно достать вот так:"
      ]
    },
    {
      "cell_type": "code",
      "metadata": {
        "id": "0gIXDM1kqI4j"
      },
      "source": [
        "v = vm.sense_vector(\"мир\", 0)"
      ],
      "execution_count": null,
      "outputs": []
    },
    {
      "cell_type": "code",
      "metadata": {
        "scrolled": true,
        "id": "lgK-3eDGqI4k",
        "colab": {
          "base_uri": "https://localhost:8080/"
        },
        "outputId": "418ba890-3a0a-4b30-df05-0b305b028da7"
      },
      "source": [
        "v"
      ],
      "execution_count": null,
      "outputs": [
        {
          "output_type": "execute_result",
          "data": {
            "text/plain": [
              "array([ 4.37387705e-01, -4.17701691e-01, -1.68972075e-01, -1.31608978e-01,\n",
              "       -3.58765095e-01, -2.69918740e-01,  8.17285478e-02, -2.88361549e-01,\n",
              "       -7.78897524e-01, -1.07620642e-01,  4.13761586e-01,  2.00120255e-01,\n",
              "       -2.17124864e-01,  1.69630170e-01, -6.04783855e-02, -2.85457760e-01,\n",
              "        2.45123908e-01, -2.58435696e-01, -2.93894112e-01,  3.84041101e-01,\n",
              "       -1.48722053e-01, -3.67544800e-01,  4.83283289e-02, -1.93067133e-01,\n",
              "        1.07686751e-01,  4.84683551e-02,  2.33559936e-01,  2.47575402e-01,\n",
              "        1.77351832e-01,  5.35611570e-01, -9.10755098e-02,  7.43860304e-01,\n",
              "       -4.04182345e-01,  4.39577013e-01,  1.00546956e-01,  2.84698576e-01,\n",
              "        6.52314723e-02,  2.96857178e-01,  2.65073836e-01, -2.53373921e-01,\n",
              "       -4.76764947e-01,  1.24576494e-01,  2.38348663e-01, -2.84977645e-01,\n",
              "       -2.37765592e-02,  1.86345071e-01,  4.95471507e-02, -9.81912091e-02,\n",
              "       -3.34809333e-01, -2.25521475e-01, -7.94327259e-02, -2.49491557e-01,\n",
              "        4.76329505e-01,  2.44226515e-01,  5.66449910e-02,  1.19256554e-02,\n",
              "        8.09801072e-02, -3.08680296e-01,  1.88337922e-01, -3.87160152e-01,\n",
              "       -5.25988400e-01, -3.61683667e-01,  2.06151269e-02, -1.43003136e-01,\n",
              "       -6.82243630e-02, -8.10354203e-02, -7.99031034e-02,  4.97534633e-01,\n",
              "        2.29470670e-01,  7.78004155e-02, -3.36135864e-01, -1.90396875e-01,\n",
              "       -4.94896322e-01, -2.40504742e-01, -1.74121618e-01,  3.00958026e-02,\n",
              "       -1.49656430e-01, -3.66989732e-01,  2.89615870e-01, -5.16057253e-01,\n",
              "        6.75411448e-02, -6.96494244e-03, -1.14449777e-01, -1.16137967e-01,\n",
              "       -1.16999231e-01,  1.60731271e-01,  7.22016990e-02, -3.86740535e-01,\n",
              "        3.99374872e-01, -2.08080515e-01,  3.38177979e-01, -3.29183787e-01,\n",
              "       -3.78503843e-04,  9.52891409e-02,  8.80016536e-02,  3.48225832e-02,\n",
              "        3.48160177e-01,  1.65647835e-01,  2.48385891e-01, -1.44383967e-01,\n",
              "       -1.51642129e-01, -1.10571720e-01, -1.07544877e-01, -3.86257887e-01,\n",
              "        4.26543690e-03,  2.32086405e-01, -1.25326231e-01, -2.76075333e-01,\n",
              "       -8.44160020e-02,  1.87146381e-01,  4.84058470e-01, -2.04581738e-01,\n",
              "       -2.40352511e-01, -3.52197528e-01, -4.06028368e-02,  6.47548214e-02,\n",
              "       -2.63245463e-01, -8.01220715e-01, -4.19874698e-01,  3.15394104e-01,\n",
              "        1.48483142e-01,  3.18790346e-01,  2.95784418e-02,  3.66161823e-01,\n",
              "       -6.13591194e-01, -6.25595525e-02,  1.52943537e-01,  1.15290999e-01,\n",
              "        5.79655804e-02,  4.58960794e-02,  1.47597581e-01,  9.94933844e-02,\n",
              "        1.33899108e-01, -5.54637909e-01, -3.57714355e-01,  2.55209744e-01,\n",
              "       -2.21125349e-01,  2.90722139e-02,  1.96043253e-02,  4.38512452e-02,\n",
              "        5.12877069e-02, -2.85208702e-01, -7.17604021e-03, -3.35164279e-01,\n",
              "       -5.12293637e-01,  2.49219924e-01,  3.37460220e-01, -2.66414613e-01,\n",
              "       -1.83226421e-01, -3.61274853e-02, -2.36538142e-01, -5.72669394e-02,\n",
              "       -8.18024650e-02,  4.76743467e-02,  1.87442094e-01,  1.70011565e-01,\n",
              "        2.83135116e-01, -1.46796048e-01,  1.78322330e-01,  1.75723344e-01,\n",
              "        5.23898840e-01, -7.80288100e-01, -1.80260018e-01, -4.35704999e-02,\n",
              "       -4.82770577e-02,  4.54969466e-01,  3.39720547e-02,  2.19876319e-01,\n",
              "        1.57534391e-01, -3.81837159e-01, -6.30098641e-01,  8.78976062e-02,\n",
              "       -3.32023889e-01,  1.64798453e-01, -1.04117744e-01,  1.57429338e-01,\n",
              "        2.89618503e-02,  1.34959742e-02, -3.45349878e-01,  1.75122082e-01,\n",
              "       -8.12363178e-02,  1.56154662e-01, -9.16514769e-02,  3.81824970e-01,\n",
              "       -4.04698521e-01,  9.63882282e-02, -4.98060048e-01,  2.06480175e-01,\n",
              "       -3.38597655e-01,  1.64008126e-01,  1.92376763e-01,  1.73878491e-01,\n",
              "       -2.26547793e-01, -3.58670741e-01, -8.00441504e-02, -2.60072470e-01,\n",
              "       -3.18216592e-01, -1.51106983e-01, -6.78279161e-01, -6.01663709e-01,\n",
              "       -1.61915533e-02, -9.03930739e-02,  2.62691416e-02, -2.97684222e-01,\n",
              "        1.10289037e-01, -3.38407755e-01, -5.95129915e-02,  2.63735294e-01,\n",
              "       -3.29507411e-01,  4.78093505e-01,  2.51381606e-01, -1.57886371e-01,\n",
              "        1.40351444e-01, -3.93466264e-01,  1.92772478e-01, -7.41310492e-02,\n",
              "        2.98146904e-01, -7.00074509e-02, -1.16108082e-01, -4.61097397e-02,\n",
              "       -1.13725305e-01, -7.02235520e-01,  5.26073039e-01, -1.70459092e-01,\n",
              "       -6.83845058e-02, -8.90836939e-02, -4.07350272e-01,  7.57001340e-02,\n",
              "       -1.45777076e-01,  3.37665975e-01, -1.74882293e-01,  1.24072060e-01,\n",
              "       -8.86419509e-03, -2.49625623e-01,  5.10844111e-01, -2.59600729e-01,\n",
              "        3.14149559e-01, -2.00932901e-02, -9.25774813e-01, -3.57062370e-01,\n",
              "       -4.15074714e-02, -4.82994109e-01, -2.25171044e-01, -2.88054179e-02,\n",
              "        3.88035402e-02, -1.22528456e-01, -3.96038406e-02,  5.06696045e-01,\n",
              "        5.25491908e-02, -1.07546046e-01, -3.57237607e-02,  5.48003018e-01,\n",
              "        2.14629352e-01,  5.76682150e-01, -1.27650529e-01,  8.92916881e-03,\n",
              "       -1.61111400e-01, -3.06547076e-01, -3.86772782e-01, -1.95126876e-01,\n",
              "       -2.70372704e-02, -5.71676433e-01, -6.49803085e-03, -6.41506165e-02,\n",
              "       -5.22352159e-01, -6.78315908e-02, -5.38260974e-02,  3.27923983e-01,\n",
              "       -8.76360536e-02, -3.29863727e-01, -2.64383018e-01,  1.92283854e-01,\n",
              "       -5.57203650e-01,  4.45123404e-01,  2.70971239e-01,  2.85356343e-01,\n",
              "       -4.23700720e-01,  6.47591203e-02, -3.90204862e-02,  2.48076051e-01,\n",
              "       -6.48813024e-02, -1.86707035e-01,  1.58154264e-01,  3.46113533e-01,\n",
              "        2.13892013e-01,  1.83959767e-01, -8.06438997e-02, -1.45448312e-01,\n",
              "        6.39687330e-02, -1.06736213e-01, -3.29601504e-02,  2.81275243e-01,\n",
              "       -2.29078233e-02,  2.30845705e-01,  2.52209216e-01, -1.35275036e-01,\n",
              "        4.65041026e-02,  4.41879779e-01, -3.68005097e-01,  2.66371012e-01],\n",
              "      dtype=float32)"
            ]
          },
          "metadata": {
            "tags": []
          },
          "execution_count": 25
        }
      ]
    },
    {
      "cell_type": "markdown",
      "metadata": {
        "id": "8wtOBss7qI4l"
      },
      "source": [
        "Как и с другими векторными моделями, проверять Адаграм нужно на реальной задаче."
      ]
    },
    {
      "cell_type": "markdown",
      "metadata": {
        "id": "pPeKPDCGqI4l"
      },
      "source": [
        "### Адаграм в определении перефразирования"
      ]
    },
    {
      "cell_type": "code",
      "metadata": {
        "id": "Zh7yw6XDqI4m"
      },
      "source": [
        ""
      ],
      "execution_count": null,
      "outputs": []
    },
    {
      "cell_type": "code",
      "metadata": {
        "id": "UK4ohbhXqI4m"
      },
      "source": [
        "corpus_xml = html.fromstring(open('paraphraser/paraphrases.xml', 'rb').read())\n",
        "texts_1 = []\n",
        "texts_2 = []\n",
        "classes = []\n",
        "\n",
        "for p in corpus_xml.xpath('//paraphrase'):\n",
        "    texts_1.append(p.xpath('./value[@name=\"text_1\"]/text()')[0])\n",
        "    texts_2.append(p.xpath('./value[@name=\"text_2\"]/text()')[0])\n",
        "    classes.append(p.xpath('./value[@name=\"class\"]/text()')[0])\n",
        "    \n",
        "data = pd.DataFrame({'text_1':texts_1, 'text_2':texts_2, 'label':classes})"
      ],
      "execution_count": null,
      "outputs": []
    },
    {
      "cell_type": "code",
      "metadata": {
        "id": "TCyO-mZWqI4n"
      },
      "source": [
        "data['text_1_norm'] = data['text_1'].apply(normalize)\n",
        "data['text_2_norm'] = data['text_2'].apply(normalize)"
      ],
      "execution_count": null,
      "outputs": []
    },
    {
      "cell_type": "markdown",
      "metadata": {
        "id": "SvbKNrmPqI4n"
      },
      "source": [
        "Векторизуем пары текстов с помощью Адаграма, обучим какую-нибудь модель и оценим качество (также как делали на семинаре по обычным эмбедингам). \n"
      ]
    },
    {
      "cell_type": "markdown",
      "metadata": {
        "id": "iyMTU3nEqI4n"
      },
      "source": [
        "Для того, чтобы сопоставить слову нужный вектор нужно вытащить и его контекст слева и справа. "
      ]
    },
    {
      "cell_type": "code",
      "metadata": {
        "id": "di24BKVdqI4n"
      },
      "source": [
        "def get_embedding_adagram(text, model, window, dim):\n",
        "    \n",
        "    \n",
        "    word2context = []\n",
        "    for i in range(len(text)-1):\n",
        "        left = max(0, i-window)\n",
        "        word = text[i]\n",
        "        left_context = text[left:i]\n",
        "        right_context = text[i+1:i+window]\n",
        "        context = left_context + right_context\n",
        "        word2context.append((word, context))\n",
        "    \n",
        "    \n",
        "    \n",
        "    vectors = np.zeros((len(word2context), dim))\n",
        "    \n",
        "    for i,word in enumerate(word2context):\n",
        "        word, context = word\n",
        "        try:\n",
        "            sense = model.disambiguate(word, context).argmax()\n",
        "            v = model.sense_vector(word, sense)\n",
        "            vectors[i] = v # просто умножаем вектор на частоту\n",
        "\n",
        "        except (KeyError):\n",
        "            continue\n",
        "    \n",
        "    if vectors.any():\n",
        "        vector = np.average(vectors, axis=0)\n",
        "    else:\n",
        "        vector = np.zeros((dim))\n",
        "    \n",
        "    return vector\n",
        "        "
      ],
      "execution_count": null,
      "outputs": []
    },
    {
      "cell_type": "code",
      "metadata": {
        "id": "PrHZdyjdqI4o"
      },
      "source": [
        "data['text_1_norm'] = data['text_1'].apply(normalize)\n",
        "data['text_2_norm'] = data['text_2'].apply(normalize)"
      ],
      "execution_count": null,
      "outputs": []
    },
    {
      "cell_type": "code",
      "metadata": {
        "id": "lrWtOBERqI4o",
        "outputId": "c9238621-cb01-4492-d51c-0be16a97c795"
      },
      "source": [
        "data['text_1_norm']"
      ],
      "execution_count": null,
      "outputs": [
        {
          "output_type": "execute_result",
          "data": {
            "text/plain": [
              "0       [полицейский, разрешить, стрелять, поражение, ...\n",
              "1       [право, полицейский, проникновение, жилища, ре...\n",
              "2       [президент, египет, ввести, чрезвычайный, поло...\n",
              "3       [вернуться, сирия, россиянин, волновать, вопро...\n",
              "4       [в, москва, сирия, вернуться, 2, самолёт, мчс,...\n",
              "                              ...                        \n",
              "7222       [путин, освободить, должность, ряд, генералов]\n",
              "7223    [облако, москва, день, победа, разогнать, девя...\n",
              "7224    [люблян, отпраздновать, день, победа, вместе, ...\n",
              "7225    [девять, самолёт, ввс, разогнать, облако, моск...\n",
              "7226    [9, май, метрополитен, петербург, работать, кр...\n",
              "Name: text_1_norm, Length: 7227, dtype: object"
            ]
          },
          "metadata": {
            "tags": []
          },
          "execution_count": 133
        }
      ]
    },
    {
      "cell_type": "markdown",
      "metadata": {
        "id": "zwwV9kvLqI4o"
      },
      "source": [
        "Сделаем все точно также как и на прошлом семинаре."
      ]
    },
    {
      "cell_type": "code",
      "metadata": {
        "id": "rmyUlZYhqI4p"
      },
      "source": [
        "dim = 300\n",
        "X_text_1 = np.zeros((len(data['text_1_norm']), dim))\n",
        "X_text_2 = np.zeros((len(data['text_2_norm']), dim))\n",
        "\n",
        "for i, text in enumerate(data['text_1_norm'].values):\n",
        "    X_text_1[i] = get_embedding_adagram(text, vm, 5, dim)\n",
        "    \n",
        "for i, text in enumerate(data['text_2_norm'].values):\n",
        "    X_text_2[i] = get_embedding_adagram(text, vm, 5, dim)"
      ],
      "execution_count": null,
      "outputs": []
    },
    {
      "cell_type": "code",
      "metadata": {
        "id": "wkvbdvPcqI4p"
      },
      "source": [
        "X_text = np.concatenate([X_text_1, X_text_2], axis=1)"
      ],
      "execution_count": null,
      "outputs": []
    },
    {
      "cell_type": "code",
      "metadata": {
        "id": "bx0oHhw2qI4p"
      },
      "source": [
        "y = data['label'].values"
      ],
      "execution_count": null,
      "outputs": []
    },
    {
      "cell_type": "code",
      "metadata": {
        "id": "FD2swT8PqI4q",
        "outputId": "19212699-912e-481f-cc7b-da3c2475f8dd"
      },
      "source": [
        "train_X, valid_X, train_y, valid_y = train_test_split(X_text, y,random_state=1)\n",
        "clf = RandomForestClassifier(n_estimators=200,\n",
        "                             class_weight='balanced')\n",
        "clf.fit(train_X, train_y)\n",
        "preds = clf.predict(valid_X)\n",
        "print(classification_report(valid_y, preds))\n"
      ],
      "execution_count": null,
      "outputs": [
        {
          "output_type": "stream",
          "text": [
            "             precision    recall  f1-score   support\n",
            "\n",
            "         -1       0.60      0.51      0.55       629\n",
            "          0       0.47      0.77      0.59       737\n",
            "          1       0.43      0.06      0.10       441\n",
            "\n",
            "avg / total       0.51      0.51      0.46      1807\n",
            "\n"
          ],
          "name": "stdout"
        }
      ]
    },
    {
      "cell_type": "code",
      "metadata": {
        "id": "QYj9MTdIqI4s",
        "outputId": "bc4a6f5d-87c9-468e-814b-23169a982df7"
      },
      "source": [
        "train_X, valid_X, train_y, valid_y = train_test_split(X_text, y, random_state=1)\n",
        "clf = LogisticRegression(C=1, )\n",
        "clf.fit(train_X, train_y)\n",
        "preds = clf.predict(valid_X)\n",
        "print(classification_report(valid_y, preds))\n"
      ],
      "execution_count": null,
      "outputs": [
        {
          "output_type": "stream",
          "text": [
            "             precision    recall  f1-score   support\n",
            "\n",
            "         -1       0.47      0.50      0.48       629\n",
            "          0       0.46      0.59      0.51       737\n",
            "          1       0.30      0.14      0.19       441\n",
            "\n",
            "avg / total       0.42      0.45      0.42      1807\n",
            "\n"
          ],
          "name": "stdout"
        }
      ]
    },
    {
      "cell_type": "markdown",
      "metadata": {
        "id": "8mjqCyl5qI4s"
      },
      "source": [
        "Сделаем ещё нормальную валидацию."
      ]
    },
    {
      "cell_type": "code",
      "metadata": {
        "id": "lHh2tznnqI4s",
        "outputId": "77c040a1-2f22-443d-d09e-79af61c0018a"
      },
      "source": [
        "kf = KFold(n_splits=5)\n",
        "f1_scores = []\n",
        "for train_index, test_index in kf.split(X_text):\n",
        "    \n",
        "    X_train, X_test = X_text[train_index], X_text[test_index]\n",
        "    y_train, y_test = y[train_index], y[test_index]\n",
        "    \n",
        "    clf = RandomForestClassifier(n_estimators=200,\n",
        "                             class_weight='balanced')\n",
        "    \n",
        "    clf.fit(X_train, y_train)\n",
        "    preds = clf.predict(X_test)\n",
        "    f1_scores.append(f1_score(y_test, preds, average='micro'))\n",
        "    \n",
        "print(np.mean(f1_scores))"
      ],
      "execution_count": null,
      "outputs": [
        {
          "output_type": "stream",
          "text": [
            "0.4740557174785951\n"
          ],
          "name": "stdout"
        }
      ]
    },
    {
      "cell_type": "markdown",
      "metadata": {
        "id": "Ez70vJQFqI4t"
      },
      "source": [
        "### WSI"
      ]
    },
    {
      "cell_type": "markdown",
      "metadata": {
        "id": "aicSIRCAqI4t"
      },
      "source": [
        "WSI можно представить как задачу кластеризации контекстов, в которых встречается слово "
      ]
    },
    {
      "cell_type": "markdown",
      "metadata": {
        "id": "_0wTTzo5qI4t"
      },
      "source": [
        "Возьмем данные диалоговского соревнования 2018 года - https://github.com/nlpub/russe-wsi-kit/blob/master/data/main/wiki-wiki/train.csv (только train часть для простоты)\n",
        "\n",
        "В данных примеры использования целевых слов и индексы значений, которые могут быть у этого слова."
      ]
    },
    {
      "cell_type": "markdown",
      "metadata": {
        "id": "0qlRtKAlqI4t"
      },
      "source": [
        "В качестве метрики используется Adjuster Rand Index. https://en.wikipedia.org/wiki/Rand_index , http://scikit-learn.org/stable/modules/generated/sklearn.metrics.adjusted_rand_score.html\n",
        "\n",
        "Эта метрика похожа на accuracy, она нужна когда у нас нет единого стандарта описания лейблов. В этой задаче у нас есть индексы значений в золотом стандарте и номера кластеров, которые мы получим в своем решении. Мы не можем сравнить их напрямую (кластер 1 и индекс 1 не означает, что мы сделали правильное предсказание). Нам важно, чтобы к одному и тому же кластеру/индексу относились одни и те же слова в контекстах, а слова с разными индексами имели и разные кластеры. ARI именно это и считает."
      ]
    },
    {
      "cell_type": "code",
      "metadata": {
        "id": "21p9-xI2qI4u"
      },
      "source": [
        "df = pd.read_csv('train.csv', sep='\\t')"
      ],
      "execution_count": null,
      "outputs": []
    },
    {
      "cell_type": "code",
      "metadata": {
        "id": "TPT_V8n7qI4v",
        "outputId": "7399bf4e-8b67-469e-9fe7-e9684cb043fd"
      },
      "source": [
        "df.head(20)"
      ],
      "execution_count": null,
      "outputs": [
        {
          "output_type": "execute_result",
          "data": {
            "text/html": [
              "<div>\n",
              "<style scoped>\n",
              "    .dataframe tbody tr th:only-of-type {\n",
              "        vertical-align: middle;\n",
              "    }\n",
              "\n",
              "    .dataframe tbody tr th {\n",
              "        vertical-align: top;\n",
              "    }\n",
              "\n",
              "    .dataframe thead th {\n",
              "        text-align: right;\n",
              "    }\n",
              "</style>\n",
              "<table border=\"1\" class=\"dataframe\">\n",
              "  <thead>\n",
              "    <tr style=\"text-align: right;\">\n",
              "      <th></th>\n",
              "      <th>context_id</th>\n",
              "      <th>word</th>\n",
              "      <th>gold_sense_id</th>\n",
              "      <th>predict_sense_id</th>\n",
              "      <th>positions</th>\n",
              "      <th>context</th>\n",
              "    </tr>\n",
              "  </thead>\n",
              "  <tbody>\n",
              "    <tr>\n",
              "      <th>0</th>\n",
              "      <td>1</td>\n",
              "      <td>замок</td>\n",
              "      <td>1</td>\n",
              "      <td>NaN</td>\n",
              "      <td>0-5, 339-344</td>\n",
              "      <td>замок владимира мономаха в любече . многочисле...</td>\n",
              "    </tr>\n",
              "    <tr>\n",
              "      <th>1</th>\n",
              "      <td>2</td>\n",
              "      <td>замок</td>\n",
              "      <td>1</td>\n",
              "      <td>NaN</td>\n",
              "      <td>11-16, 17-22, 188-193</td>\n",
              "      <td>шильонский замок замок шильйон ( ) , известный...</td>\n",
              "    </tr>\n",
              "    <tr>\n",
              "      <th>2</th>\n",
              "      <td>3</td>\n",
              "      <td>замок</td>\n",
              "      <td>1</td>\n",
              "      <td>NaN</td>\n",
              "      <td>299-304</td>\n",
              "      <td>проведения архитектурно - археологических рабо...</td>\n",
              "    </tr>\n",
              "    <tr>\n",
              "      <th>3</th>\n",
              "      <td>4</td>\n",
              "      <td>замок</td>\n",
              "      <td>1</td>\n",
              "      <td>NaN</td>\n",
              "      <td>111-116</td>\n",
              "      <td>топи с . , л . белокуров легенда о завещании м...</td>\n",
              "    </tr>\n",
              "    <tr>\n",
              "      <th>4</th>\n",
              "      <td>5</td>\n",
              "      <td>замок</td>\n",
              "      <td>1</td>\n",
              "      <td>NaN</td>\n",
              "      <td>134-139, 262-267</td>\n",
              "      <td>великий князь литовский гедимин после успешной...</td>\n",
              "    </tr>\n",
              "    <tr>\n",
              "      <th>5</th>\n",
              "      <td>6</td>\n",
              "      <td>замок</td>\n",
              "      <td>1</td>\n",
              "      <td>NaN</td>\n",
              "      <td>42-47, 281-286</td>\n",
              "      <td>его без боя . в начале xviii века высокий замо...</td>\n",
              "    </tr>\n",
              "    <tr>\n",
              "      <th>6</th>\n",
              "      <td>7</td>\n",
              "      <td>замок</td>\n",
              "      <td>1</td>\n",
              "      <td>NaN</td>\n",
              "      <td>260-265, 495-500</td>\n",
              "      <td>, колодец , хозяйственные помещения ( склады п...</td>\n",
              "    </tr>\n",
              "    <tr>\n",
              "      <th>7</th>\n",
              "      <td>8</td>\n",
              "      <td>замок</td>\n",
              "      <td>1</td>\n",
              "      <td>NaN</td>\n",
              "      <td>197-202, 205-210, 415-420</td>\n",
              "      <td>— сын гедимина трокский князь кейстут . около ...</td>\n",
              "    </tr>\n",
              "    <tr>\n",
              "      <th>8</th>\n",
              "      <td>9</td>\n",
              "      <td>замок</td>\n",
              "      <td>1</td>\n",
              "      <td>NaN</td>\n",
              "      <td>28-33, 196-201, 257-262, 417-422</td>\n",
              "      <td>одним из кэмпбеллов — отдал замок в обмен на в...</td>\n",
              "    </tr>\n",
              "    <tr>\n",
              "      <th>9</th>\n",
              "      <td>10</td>\n",
              "      <td>замок</td>\n",
              "      <td>1</td>\n",
              "      <td>NaN</td>\n",
              "      <td>0-5, 14-19, 175-180</td>\n",
              "      <td>замок сталкер замок был построен в  г . и перв...</td>\n",
              "    </tr>\n",
              "    <tr>\n",
              "      <th>10</th>\n",
              "      <td>11</td>\n",
              "      <td>замок</td>\n",
              "      <td>1</td>\n",
              "      <td>NaN</td>\n",
              "      <td>0-5, 16-21, 179-184, 291-296, 468-473</td>\n",
              "      <td>замок данноттар замок данноттар ( ) расположен...</td>\n",
              "    </tr>\n",
              "    <tr>\n",
              "      <th>11</th>\n",
              "      <td>12</td>\n",
              "      <td>замок</td>\n",
              "      <td>1</td>\n",
              "      <td>NaN</td>\n",
              "      <td>0-5, 176-181, 292-297</td>\n",
              "      <td>замок был выстроен из дерева на месте прусског...</td>\n",
              "    </tr>\n",
              "    <tr>\n",
              "      <th>12</th>\n",
              "      <td>13</td>\n",
              "      <td>замок</td>\n",
              "      <td>1</td>\n",
              "      <td>NaN</td>\n",
              "      <td>14-19, 22-27, 232-237</td>\n",
              "      <td>полуостровной замок . замок в старых троках в ...</td>\n",
              "    </tr>\n",
              "    <tr>\n",
              "      <th>13</th>\n",
              "      <td>14</td>\n",
              "      <td>замок</td>\n",
              "      <td>1</td>\n",
              "      <td>NaN</td>\n",
              "      <td>252-257</td>\n",
              "      <td>башня эта долгое время считалась самым высоким...</td>\n",
              "    </tr>\n",
              "    <tr>\n",
              "      <th>14</th>\n",
              "      <td>15</td>\n",
              "      <td>замок</td>\n",
              "      <td>1</td>\n",
              "      <td>NaN</td>\n",
              "      <td>11-16, 17-22, 188-193, 274-279</td>\n",
              "      <td>шильонский замок замок шильйон ( ) , известный...</td>\n",
              "    </tr>\n",
              "    <tr>\n",
              "      <th>15</th>\n",
              "      <td>16</td>\n",
              "      <td>замок</td>\n",
              "      <td>1</td>\n",
              "      <td>NaN</td>\n",
              "      <td>94-99, 226-231</td>\n",
              "      <td>, каменной стеной с башнями и бастионами , зем...</td>\n",
              "    </tr>\n",
              "    <tr>\n",
              "      <th>16</th>\n",
              "      <td>17</td>\n",
              "      <td>замок</td>\n",
              "      <td>1</td>\n",
              "      <td>NaN</td>\n",
              "      <td>124-129, 233-238</td>\n",
              "      <td>г . шотландский король яков vi взошел на англи...</td>\n",
              "    </tr>\n",
              "    <tr>\n",
              "      <th>17</th>\n",
              "      <td>18</td>\n",
              "      <td>замок</td>\n",
              "      <td>1</td>\n",
              "      <td>NaN</td>\n",
              "      <td>11-16, 19-24, 82-87, 275-280</td>\n",
              "      <td>стерлинг ( замок ) замок стерлинг ( ) — находи...</td>\n",
              "    </tr>\n",
              "    <tr>\n",
              "      <th>18</th>\n",
              "      <td>19</td>\n",
              "      <td>замок</td>\n",
              "      <td>1</td>\n",
              "      <td>NaN</td>\n",
              "      <td>59-64, 285-290</td>\n",
              "      <td>попытки отреставрировать разрушившийся с годам...</td>\n",
              "    </tr>\n",
              "    <tr>\n",
              "      <th>19</th>\n",
              "      <td>20</td>\n",
              "      <td>замок</td>\n",
              "      <td>1</td>\n",
              "      <td>NaN</td>\n",
              "      <td>336-341, 494-499, 540-545</td>\n",
              "      <td>( замки крестоносцев ) и испании . с окончание...</td>\n",
              "    </tr>\n",
              "  </tbody>\n",
              "</table>\n",
              "</div>"
            ],
            "text/plain": [
              "    context_id   word  gold_sense_id  predict_sense_id  \\\n",
              "0            1  замок              1               NaN   \n",
              "1            2  замок              1               NaN   \n",
              "2            3  замок              1               NaN   \n",
              "3            4  замок              1               NaN   \n",
              "4            5  замок              1               NaN   \n",
              "5            6  замок              1               NaN   \n",
              "6            7  замок              1               NaN   \n",
              "7            8  замок              1               NaN   \n",
              "8            9  замок              1               NaN   \n",
              "9           10  замок              1               NaN   \n",
              "10          11  замок              1               NaN   \n",
              "11          12  замок              1               NaN   \n",
              "12          13  замок              1               NaN   \n",
              "13          14  замок              1               NaN   \n",
              "14          15  замок              1               NaN   \n",
              "15          16  замок              1               NaN   \n",
              "16          17  замок              1               NaN   \n",
              "17          18  замок              1               NaN   \n",
              "18          19  замок              1               NaN   \n",
              "19          20  замок              1               NaN   \n",
              "\n",
              "                                positions  \\\n",
              "0                            0-5, 339-344   \n",
              "1                   11-16, 17-22, 188-193   \n",
              "2                                 299-304   \n",
              "3                                 111-116   \n",
              "4                        134-139, 262-267   \n",
              "5                          42-47, 281-286   \n",
              "6                        260-265, 495-500   \n",
              "7               197-202, 205-210, 415-420   \n",
              "8        28-33, 196-201, 257-262, 417-422   \n",
              "9                     0-5, 14-19, 175-180   \n",
              "10  0-5, 16-21, 179-184, 291-296, 468-473   \n",
              "11                  0-5, 176-181, 292-297   \n",
              "12                  14-19, 22-27, 232-237   \n",
              "13                                252-257   \n",
              "14         11-16, 17-22, 188-193, 274-279   \n",
              "15                         94-99, 226-231   \n",
              "16                       124-129, 233-238   \n",
              "17           11-16, 19-24, 82-87, 275-280   \n",
              "18                         59-64, 285-290   \n",
              "19              336-341, 494-499, 540-545   \n",
              "\n",
              "                                              context  \n",
              "0   замок владимира мономаха в любече . многочисле...  \n",
              "1   шильонский замок замок шильйон ( ) , известный...  \n",
              "2   проведения архитектурно - археологических рабо...  \n",
              "3   топи с . , л . белокуров легенда о завещании м...  \n",
              "4   великий князь литовский гедимин после успешной...  \n",
              "5   его без боя . в начале xviii века высокий замо...  \n",
              "6   , колодец , хозяйственные помещения ( склады п...  \n",
              "7   — сын гедимина трокский князь кейстут . около ...  \n",
              "8   одним из кэмпбеллов — отдал замок в обмен на в...  \n",
              "9   замок сталкер замок был построен в  г . и перв...  \n",
              "10  замок данноттар замок данноттар ( ) расположен...  \n",
              "11  замок был выстроен из дерева на месте прусског...  \n",
              "12  полуостровной замок . замок в старых троках в ...  \n",
              "13  башня эта долгое время считалась самым высоким...  \n",
              "14  шильонский замок замок шильйон ( ) , известный...  \n",
              "15  , каменной стеной с башнями и бастионами , зем...  \n",
              "16  г . шотландский король яков vi взошел на англи...  \n",
              "17  стерлинг ( замок ) замок стерлинг ( ) — находи...  \n",
              "18  попытки отреставрировать разрушившийся с годам...  \n",
              "19  ( замки крестоносцев ) и испании . с окончание...  "
            ]
          },
          "metadata": {
            "tags": []
          },
          "execution_count": 159
        }
      ]
    },
    {
      "cell_type": "markdown",
      "metadata": {
        "id": "OAIV8Yl1qI4v"
      },
      "source": [
        "Попробуем решить эту задачу фастекстом."
      ]
    },
    {
      "cell_type": "markdown",
      "metadata": {
        "id": "atLY-uv-qI4w"
      },
      "source": [
        "Возьмем функцию для эмбединга предложений из прошлого семинара. (Вектора слов усредняются)"
      ]
    },
    {
      "cell_type": "code",
      "metadata": {
        "id": "kzmnzo5JqI4w"
      },
      "source": [
        "def get_embedding(text, model, dim):\n",
        "    \n",
        "    # чтобы не доставать одно слово несколько раз\n",
        "    # сделаем счетчик, а потом векторы домножим на частоту\n",
        "    words = Counter(text)\n",
        "    total = len(text)\n",
        "    vectors = np.zeros((len(words), dim))\n",
        "    \n",
        "    for i,word in enumerate(words):\n",
        "        try:\n",
        "            v = model[word]\n",
        "            vectors[i] = v*(words[word]/total) # просто умножаем вектор на частоту\n",
        "        except (KeyError, ValueError):\n",
        "            continue\n",
        "    \n",
        "    if vectors.any():\n",
        "        vector = np.average(vectors, axis=0)\n",
        "    else:\n",
        "        vector = np.zeros((dim))\n",
        "    \n",
        "    return vector\n",
        "        "
      ],
      "execution_count": null,
      "outputs": []
    },
    {
      "cell_type": "code",
      "metadata": {
        "id": "gzbc5dygqI4w"
      },
      "source": [
        "corpus = [normalize(line) for line in open('wiki_data.txt')]"
      ],
      "execution_count": null,
      "outputs": []
    },
    {
      "cell_type": "code",
      "metadata": {
        "id": "wBnDksORqI4w"
      },
      "source": [
        "# corpus = open('wiki_data.txt').read()\n",
        "\n",
        "fast_text = gensim.models.FastText(corpus, size=200, max_vocab_size=100000)"
      ],
      "execution_count": null,
      "outputs": []
    },
    {
      "cell_type": "markdown",
      "metadata": {
        "id": "DUusZ3hTqI4w"
      },
      "source": [
        "Данные соревнования - не новостные тексты, поэтому можно обучить модель на чем-то другом. Тексты из википедии наверное подойдут."
      ]
    },
    {
      "cell_type": "markdown",
      "metadata": {
        "id": "hT6C7r1XqI4x"
      },
      "source": [
        "С помощью функции groupby мы можем сделать словарь: слово, значения которого надо найти - всего его контексты и размеченные значения."
      ]
    },
    {
      "cell_type": "code",
      "metadata": {
        "id": "tMviXA2gqI4x"
      },
      "source": [
        "grouped_df = df.groupby('word')[['word', 'context', 'gold_sense_id']]"
      ],
      "execution_count": null,
      "outputs": []
    },
    {
      "cell_type": "code",
      "metadata": {
        "id": "9EaW-FaxqI4y",
        "outputId": "b4fa89f2-2ebf-4569-f370-ab3b61c86696"
      },
      "source": [
        "\n",
        "for key, _ in grouped_df:\n",
        "    print(grouped_df.get_group(key), \"\\n\\n\")"
      ],
      "execution_count": null,
      "outputs": [
        {
          "output_type": "stream",
          "text": [
            "    word                                            context  gold_sense_id\n",
            "383  бор  бор ( элемент ) бор — элемент тринадцатой груп...              1\n",
            "384  бор  бор - углерод - кремний семейство сплавов на о...              1\n",
            "385  бор  с большим выделением теплоты , образуется окси...              1\n",
            "386  бор  это объясняется прежде всего тем , что у компл...              1\n",
            "387  бор  совсем малочисленна . элементарный бор в приро...              1\n",
            "388  бор  действующем при месторождении горно - химическ...              1\n",
            "389  бор  b c ) . при нагревании в атмосфере кислорода и...              1\n",
            "390  бор  собственных минералов бора в чужих минералах о...              1\n",
            "391  бор  бор - углерод - кремний семейство сплавов на о...              1\n",
            "392  бор  с другими галогенами с образованием тригалоген...              1\n",
            "393  бор  и в стабильны и входят в состав природного бор...              1\n",
            "394  бор  номером . обозначается символом b ( ) . в своб...              1\n",
            "395  бор  и взаимные переходы которых определяются темпе...              1\n",
            "396  бор  . оксид бора formula_  — типичный кислотный ок...              1\n",
            "397  бор  бор ( растение ) бор ( ) — род растений семейс...              2\n",
            "398  бор  каштакский бор каштакский бор — бор , находящи...              2\n",
            "399  бор  бор ( растение ) бор ( ) — род растений семейс...              2\n",
            "400  бор  сосновый бор ( город ) сосно́вый бор — город (...              2\n",
            "401  бор  образом искусственный остров , поэтому для сое...              2\n",
            "402  бор   км к северу от города бузулук в обширной прир...              2\n",
            "403  бор  образовавшийся таким образом сросткинский сосн...              2\n",
            "404  бор  григоровский бор григоровский бор — историческ...              2\n",
            "405  бор  ичалковский бор площадью гектаров отнесен к ка...              2\n",
            "406  бор  его трассе ( на старых картах отчетливо видно ...              2\n",
            "407  бор  . в xix веке в серебряном бору размещался арти...              2\n",
            "408  бор  пески , мощность которых местами достигает мет...              2\n",
            "409  бор  заказника и его статус определяются положением...              2\n",
            "410  бор  каштакский бор каштакский бор — бор , находящи...              2\n",
            "411  бор  на территории бора действовал государственный ...              2\n",
            "412  бор  . фридлянда и инженера а . а . белоголового бы...              2\n",
            "413  бор  до $ . в настоящее время на территории серебря...              2\n",
            "414  бор  серебряный бор есть теория , что название сере...              2\n",
            "415  бор  бузулукский бор бузулу́кский бор — островной м...              2\n",
            "416  бор  . во второй половине xx века , сразу после вел...              2\n",
            "417  бор  , лента бора срастается с соседней лентой касм...              2\n",
            "418  бор  была существенно увеличена в дальнейшем на тер...              2\n",
            "419  бор  бузулук в обширной приречной котловине , имеющ...              2\n",
            "420  бор  ичалковский бор специальным распоряжением сове...              2\n",
            "421  бор  к металлургическому району города . древостой ...              2\n",
            "422  бор  , которые понравятся и детям , и взрослым . в ...              2\n",
            "423  бор  колонии цапли , а в лесу гнездились соколы — п...              2\n",
            "424  бор  серебряном бору , в отдельный подвид сосны обы...              2\n",
            "425  бор  окрестностях семипалатинска . ширина бора на з...              2\n",
            "426  бор  года №  ичалковский бор , его пещеры и карсты ...              2\n",
            "427  бор  серебряный бор есть теория , что название сере...              2\n",
            "428  бор  нашлось необходимого обоснования ( по краеведч...              2\n",
            "429  бор  бор ( лес ) различают следующие основные групп...              2\n",
            "430  бор  ичалковский бор специальным распоряжением сове...              2\n",
            "431  бор  , км² . от самого села до бора можно дойти по ...              2\n",
            "432  бор  озеро на дне холодной пещеры даже в теплое вре...              2\n",
            "433  бор  серебряный бор есть теория , что название сере...              2\n",
            "434  бор  ленточный бор ле́нточные бо́ры — сосновые трав...              2\n",
            "435  бор  в окрестностях барнаула , составляет —  км . н...              2\n",
            "436  бор  также в сосновом бору открыта секция биатлона ...              2\n",
            "437  бор  экспресс банк , мособлбанк , внешпромбанк , ба...              2\n",
            "438  бор  каштакский бор каштакский бор — бор , находящи...              2 \n",
            "\n",
            "\n",
            "      word                                            context  gold_sense_id\n",
            "0    замок  замок владимира мономаха в любече . многочисле...              1\n",
            "1    замок  шильонский замок замок шильйон ( ) , известный...              1\n",
            "2    замок  проведения архитектурно - археологических рабо...              1\n",
            "3    замок  топи с . , л . белокуров легенда о завещании м...              1\n",
            "4    замок  великий князь литовский гедимин после успешной...              1\n",
            "..     ...                                                ...            ...\n",
            "133  замок  с корпусом из дуба , вяза и других твердых пор...              2\n",
            "134  замок  ключ в таком замке не имел бородки в привычном...              2\n",
            "135  замок  бизнесмен из российского города павлово ( на о...              2\n",
            "136  замок  ) творчески переработал наработки отца и запат...              2\n",
            "137  замок  участвовал в национальном смотре достижений ( ...              2\n",
            "\n",
            "[138 rows x 3 columns] \n",
            "\n",
            "\n",
            "    word                                            context  gold_sense_id\n",
            "138  лук  они были основными слушателями баллад , а криз...              1\n",
            "139  лук  якутский лук якутский лук принадлежит к северн...              1\n",
            "140  лук  из всех трех типов луков — классики , олимпика...              1\n",
            "141  лук  английский длинный лук английский длинный лук ...              1\n",
            "142  лук  металлических утяжелителей дуг . составной лук...              1\n",
            "..   ...                                                ...            ...\n",
            "243  лук  гусиный лук желтый стебель плотный , голый , в...              2\n",
            "244  лук  кислоты в этом виде лука в раза превышает тако...              2\n",
            "245  лук  на шею коровам , лошадям и другим домашним жив...              2\n",
            "246  лук  гадючий лук латинское название рода дано по за...              2\n",
            "247  лук  способствует нормализации водно - солевого обм...              2\n",
            "\n",
            "[110 rows x 3 columns] \n",
            "\n",
            "\n",
            "     word                                            context  gold_sense_id\n",
            "248  суда  перехода поместья к новому владельцу в ) год п...              1\n",
            "249  суда  опасный квартал города . и… оказалась не в том...              1\n",
            "250  суда  пленум верховного суда российской федерации пл...              1\n",
            "251  суда  повторяют византийские формы , на xvi—xvii век...              1\n",
            "252  суда  военная коллегия верховного суда ссср военная ...              1\n",
            "..    ...                                                ...            ...\n",
            "378  суда  и добирались до берегов северной америки . kno...              2\n",
            "379  суда  железобетонные суда либерти железобетонные суд...              2\n",
            "380  суда  железобетонные суда либерти железобетонные суд...              2\n",
            "381  суда  суда викингов флот викингов состоял преимущест...              2\n",
            "382  суда  океанографические исследовательские суда проек...              2\n",
            "\n",
            "[135 rows x 3 columns] \n",
            "\n",
            "\n"
          ],
          "name": "stdout"
        }
      ]
    },
    {
      "cell_type": "markdown",
      "metadata": {
        "id": "0m6eDeLgqI4y"
      },
      "source": [
        "По сути нам нужно кластеризовать контексты, в которых употреблено слово."
      ]
    },
    {
      "cell_type": "markdown",
      "metadata": {
        "id": "A4sJeLAgqI4y"
      },
      "source": [
        "Попробуем разные методы кластеризации."
      ]
    },
    {
      "cell_type": "code",
      "metadata": {
        "id": "unL56Ai2qI4y"
      },
      "source": [
        "from sklearn.cluster import *"
      ],
      "execution_count": null,
      "outputs": []
    },
    {
      "cell_type": "code",
      "metadata": {
        "scrolled": true,
        "id": "R-bZ0pAUqI4y",
        "outputId": "f4be35c0-0e5d-42d8-9250-2d9003af7a18"
      },
      "source": [
        "ARI = []\n",
        "\n",
        "for key, _ in grouped_df:\n",
        "    texts = grouped_df.get_group(key)['context'].apply(normalize)\n",
        "    X = np.zeros((len(texts), 200))\n",
        "    \n",
        "    for i, text in enumerate(texts):\n",
        "        text = [word for word in text if word != key]\n",
        "        X[i] = get_embedding(text, fast_text, 200)\n",
        "        \n",
        "    cluster = AffinityPropagation(damping=0.5)\n",
        "#     cluster = KMeans(3)\n",
        "#     cluster = DBSCAN(min_samples=5, eps=0.1)\n",
        "    cluster.fit(X)\n",
        "    labels = np.array(cluster.labels_)+1\n",
        "    \n",
        "    ARI.append(adjusted_rand_score(grouped_df.get_group(key)['gold_sense_id'], labels))\n",
        "    \n",
        "#     print(key, '  ', adjusted_rand_score(grouped_df.get_group(key)['gold_sense_id'], labels))\n",
        "print(np.mean(ARI))"
      ],
      "execution_count": null,
      "outputs": [
        {
          "output_type": "stream",
          "text": [
            "0.12527570377049024\n"
          ],
          "name": "stdout"
        }
      ]
    },
    {
      "cell_type": "markdown",
      "metadata": {
        "id": "J02ijkLuqI40"
      },
      "source": [
        "## WordNet"
      ]
    },
    {
      "cell_type": "markdown",
      "metadata": {
        "id": "oJQjXML6qI40"
      },
      "source": [
        "Выводить значения просто из текста тяжело, поэтому можно попробовать воспользоваться словарями (wsi сделанное людьми). Для русского придется парсить сайты словарей, а для английского можно воспользоваться WordNet'ом (https://wordnet.princeton.edu/), который есть в nltk."
      ]
    },
    {
      "cell_type": "markdown",
      "metadata": {
        "id": "wX5Dc5iQqI40"
      },
      "source": [
        "WordNet - это лексическая база данных, где существительные, прилагательные и глаголы английского сгруппированы по значению. К тому же между ними установлены связи (гипонимия, гипоронимия, миронимия и т.п.)."
      ]
    },
    {
      "cell_type": "code",
      "metadata": {
        "colab": {
          "base_uri": "https://localhost:8080/"
        },
        "id": "mgvGezc6qI40",
        "outputId": "7c2063bc-8338-4f11-973f-3c9d2da7fb33"
      },
      "source": [
        "# запустите если не установлен ворднет\n",
        "import nltk\n",
        "nltk.download('wordnet')"
      ],
      "execution_count": null,
      "outputs": [
        {
          "output_type": "stream",
          "text": [
            "[nltk_data] Downloading package wordnet to /root/nltk_data...\n",
            "[nltk_data]   Unzipping corpora/wordnet.zip.\n"
          ],
          "name": "stdout"
        },
        {
          "output_type": "execute_result",
          "data": {
            "text/plain": [
              "True"
            ]
          },
          "metadata": {
            "tags": []
          },
          "execution_count": 26
        }
      ]
    },
    {
      "cell_type": "markdown",
      "metadata": {
        "id": "xPq0eEj_qI40"
      },
      "source": [
        "Группа синонимичных слов в WordNet'е называются синсеты. "
      ]
    },
    {
      "cell_type": "code",
      "metadata": {
        "colab": {
          "base_uri": "https://localhost:8080/"
        },
        "id": "6TXcATtaqI41",
        "outputId": "b03ecb48-6343-4407-b4a7-37d26086ed50"
      },
      "source": [
        "# всего синсетов\n",
        "len(list(wn.all_synsets()))"
      ],
      "execution_count": null,
      "outputs": [
        {
          "output_type": "execute_result",
          "data": {
            "text/plain": [
              "117659"
            ]
          },
          "metadata": {
            "tags": []
          },
          "execution_count": 27
        }
      ]
    },
    {
      "cell_type": "markdown",
      "metadata": {
        "id": "1sr2iARxqI42"
      },
      "source": [
        "Из них существительных:"
      ]
    },
    {
      "cell_type": "code",
      "metadata": {
        "colab": {
          "base_uri": "https://localhost:8080/"
        },
        "id": "0hIcf-AdqI42",
        "outputId": "cc294136-5adf-421f-f427-33a7997c510f"
      },
      "source": [
        "len(list(wn.all_synsets('n')))"
      ],
      "execution_count": null,
      "outputs": [
        {
          "output_type": "execute_result",
          "data": {
            "text/plain": [
              "82115"
            ]
          },
          "metadata": {
            "tags": []
          },
          "execution_count": 28
        }
      ]
    },
    {
      "cell_type": "markdown",
      "metadata": {
        "id": "PX9mTh1mqI42"
      },
      "source": [
        "А глаголов:"
      ]
    },
    {
      "cell_type": "code",
      "metadata": {
        "colab": {
          "base_uri": "https://localhost:8080/"
        },
        "id": "EQLD5DMsqI43",
        "outputId": "956e1779-133e-4c08-bf06-73240a51a6cd"
      },
      "source": [
        "len(list(wn.all_synsets('v')))"
      ],
      "execution_count": null,
      "outputs": [
        {
          "output_type": "execute_result",
          "data": {
            "text/plain": [
              "13767"
            ]
          },
          "metadata": {
            "tags": []
          },
          "execution_count": 29
        }
      ]
    },
    {
      "cell_type": "markdown",
      "metadata": {
        "id": "3WcPjUhSqI43"
      },
      "source": [
        "А прилагательных:"
      ]
    },
    {
      "cell_type": "code",
      "metadata": {
        "colab": {
          "base_uri": "https://localhost:8080/"
        },
        "id": "5l97mkEBqI43",
        "outputId": "106abc14-d487-487f-fc6b-f4cdd8aaef1b"
      },
      "source": [
        "len(list(wn.all_synsets('a')))"
      ],
      "execution_count": null,
      "outputs": [
        {
          "output_type": "execute_result",
          "data": {
            "text/plain": [
              "18156"
            ]
          },
          "metadata": {
            "tags": []
          },
          "execution_count": 30
        }
      ]
    },
    {
      "cell_type": "markdown",
      "metadata": {
        "id": "Yaq5cD0qqI43"
      },
      "source": [
        "Синсеты для слова можно достать вот так:"
      ]
    },
    {
      "cell_type": "code",
      "metadata": {
        "colab": {
          "base_uri": "https://localhost:8080/"
        },
        "id": "ICkfoztiqI44",
        "outputId": "b96f664b-c098-4477-95c8-609aa24633a8"
      },
      "source": [
        "wn.synsets('cat')"
      ],
      "execution_count": null,
      "outputs": [
        {
          "output_type": "execute_result",
          "data": {
            "text/plain": [
              "[Synset('cat.n.01'),\n",
              " Synset('guy.n.01'),\n",
              " Synset('cat.n.03'),\n",
              " Synset('kat.n.01'),\n",
              " Synset('cat-o'-nine-tails.n.01'),\n",
              " Synset('caterpillar.n.02'),\n",
              " Synset('big_cat.n.01'),\n",
              " Synset('computerized_tomography.n.01'),\n",
              " Synset('cat.v.01'),\n",
              " Synset('vomit.v.01')]"
            ]
          },
          "metadata": {
            "tags": []
          },
          "execution_count": 31
        }
      ]
    },
    {
      "cell_type": "markdown",
      "metadata": {
        "id": "tAeoyBQuqI45"
      },
      "source": [
        "Можно ограничить часть речи:"
      ]
    },
    {
      "cell_type": "code",
      "metadata": {
        "id": "pInQJX1pqI45",
        "colab": {
          "base_uri": "https://localhost:8080/"
        },
        "outputId": "ebb2c788-fe29-4393-bc07-e69623583272"
      },
      "source": [
        "wn.synsets('go', pos='v')"
      ],
      "execution_count": null,
      "outputs": [
        {
          "output_type": "execute_result",
          "data": {
            "text/plain": [
              "[Synset('travel.v.01'),\n",
              " Synset('go.v.02'),\n",
              " Synset('go.v.03'),\n",
              " Synset('become.v.01'),\n",
              " Synset('go.v.05'),\n",
              " Synset('run.v.05'),\n",
              " Synset('run.v.03'),\n",
              " Synset('proceed.v.04'),\n",
              " Synset('go.v.09'),\n",
              " Synset('go.v.10'),\n",
              " Synset('sound.v.02'),\n",
              " Synset('function.v.01'),\n",
              " Synset('run_low.v.01'),\n",
              " Synset('move.v.13'),\n",
              " Synset('survive.v.01'),\n",
              " Synset('go.v.16'),\n",
              " Synset('die.v.01'),\n",
              " Synset('belong.v.03'),\n",
              " Synset('go.v.19'),\n",
              " Synset('start.v.09'),\n",
              " Synset('move.v.15'),\n",
              " Synset('go.v.22'),\n",
              " Synset('go.v.23'),\n",
              " Synset('blend.v.02'),\n",
              " Synset('go.v.25'),\n",
              " Synset('fit.v.02'),\n",
              " Synset('rifle.v.02'),\n",
              " Synset('go.v.28'),\n",
              " Synset('plump.v.04'),\n",
              " Synset('fail.v.04')]"
            ]
          },
          "metadata": {
            "tags": []
          },
          "execution_count": 32
        }
      ]
    },
    {
      "cell_type": "markdown",
      "metadata": {
        "id": "mMgqR7fdqI45"
      },
      "source": [
        "У многих из них есть определения:"
      ]
    },
    {
      "cell_type": "code",
      "metadata": {
        "id": "EuBW3oGPqI45",
        "colab": {
          "base_uri": "https://localhost:8080/"
        },
        "outputId": "e5e938f5-e039-4675-a580-477f70295889"
      },
      "source": [
        "word = 'day'\n",
        "for synset in wn.synsets(word):\n",
        "    print(word + ' - ' + synset.definition())\n",
        "#     print()"
      ],
      "execution_count": null,
      "outputs": [
        {
          "output_type": "stream",
          "text": [
            "day - time for Earth to make a complete rotation on its axis\n",
            "day - some point or period in time\n",
            "day - a day assigned to a particular purpose or observance\n",
            "day - the time after sunrise and before sunset while it is light outside\n",
            "day - the recurring hours when you are not sleeping (especially those when you are working)\n",
            "day - an era of existence or influence\n",
            "day - the period of time taken by a particular planet (e.g. Mars) to make a complete rotation on its axis\n",
            "day - the time for one complete rotation of the earth relative to a particular star, about 4 minutes shorter than a mean solar day\n",
            "day - a period of opportunity\n",
            "day - United States writer best known for his autobiographical works (1874-1935)\n"
          ],
          "name": "stdout"
        }
      ]
    },
    {
      "cell_type": "markdown",
      "metadata": {
        "id": "KnuxldpBqI47"
      },
      "source": [
        "И даже примеры:"
      ]
    },
    {
      "cell_type": "code",
      "metadata": {
        "id": "AwSXDt1YqI47",
        "colab": {
          "base_uri": "https://localhost:8080/"
        },
        "outputId": "9d8f6bc3-e82a-421e-c7e4-a8e04b526027"
      },
      "source": [
        "word = 'day'\n",
        "for synset in wn.synsets(word):\n",
        "    print(word + ' - ' + ' | '.join(synset.examples()))\n",
        "#     print()"
      ],
      "execution_count": null,
      "outputs": [
        {
          "output_type": "stream",
          "text": [
            "day - two days later they left | they put on two performances every day | there are 30,000 passengers per day\n",
            "day - it should arrive any day now | after that day she never trusted him again | those were the days | these days it is not unusual\n",
            "day - Mother's Day\n",
            "day - the dawn turned night into day | it is easier to make the repairs in the daytime\n",
            "day - my day began early this morning | it was a busy day on the stock exchange | she called it a day and went to bed\n",
            "day - in the day of the dinosaurs | in the days of the Roman Empire | in the days of sailing ships | he was a successful pianist in his day\n",
            "day - how long is a day on Jupiter?\n",
            "day - \n",
            "day - he deserves his day in court | every dog has his day\n",
            "day - \n"
          ],
          "name": "stdout"
        }
      ]
    },
    {
      "cell_type": "markdown",
      "metadata": {
        "id": "nXBlrEz3qI47"
      },
      "source": [
        "Посмотрим на связанные синсеты (гипонимы, антонимы, синонимы, меронимы)."
      ]
    },
    {
      "cell_type": "code",
      "metadata": {
        "id": "TU1GyOH1qI48"
      },
      "source": [
        "s = wn.synsets('car')[0]"
      ],
      "execution_count": null,
      "outputs": []
    },
    {
      "cell_type": "code",
      "metadata": {
        "scrolled": true,
        "id": "fnKx7gHQqI48",
        "colab": {
          "base_uri": "https://localhost:8080/"
        },
        "outputId": "6043a67b-4b65-4cd8-a5b7-d62155acb89b"
      },
      "source": [
        "s.part_meronyms()"
      ],
      "execution_count": null,
      "outputs": [
        {
          "output_type": "execute_result",
          "data": {
            "text/plain": [
              "[Synset('accelerator.n.01'),\n",
              " Synset('air_bag.n.01'),\n",
              " Synset('auto_accessory.n.01'),\n",
              " Synset('automobile_engine.n.01'),\n",
              " Synset('automobile_horn.n.01'),\n",
              " Synset('buffer.n.06'),\n",
              " Synset('bumper.n.02'),\n",
              " Synset('car_door.n.01'),\n",
              " Synset('car_mirror.n.01'),\n",
              " Synset('car_seat.n.01'),\n",
              " Synset('car_window.n.01'),\n",
              " Synset('fender.n.01'),\n",
              " Synset('first_gear.n.01'),\n",
              " Synset('floorboard.n.02'),\n",
              " Synset('gasoline_engine.n.01'),\n",
              " Synset('glove_compartment.n.01'),\n",
              " Synset('grille.n.02'),\n",
              " Synset('high_gear.n.01'),\n",
              " Synset('hood.n.09'),\n",
              " Synset('luggage_compartment.n.01'),\n",
              " Synset('rear_window.n.01'),\n",
              " Synset('reverse.n.02'),\n",
              " Synset('roof.n.02'),\n",
              " Synset('running_board.n.01'),\n",
              " Synset('stabilizer_bar.n.01'),\n",
              " Synset('sunroof.n.01'),\n",
              " Synset('tail_fin.n.02'),\n",
              " Synset('third_gear.n.01'),\n",
              " Synset('window.n.02')]"
            ]
          },
          "metadata": {
            "tags": []
          },
          "execution_count": 36
        }
      ]
    },
    {
      "cell_type": "markdown",
      "metadata": {
        "id": "pAsnmI_-qI48"
      },
      "source": [
        "Антонимы только достаются не очень удобно:"
      ]
    },
    {
      "cell_type": "code",
      "metadata": {
        "id": "cR9X5rKGqI48",
        "colab": {
          "base_uri": "https://localhost:8080/"
        },
        "outputId": "c7b9698b-caae-4140-b6d0-b9f6566a1cde"
      },
      "source": [
        "wn.synsets('good')[2].lemmas()[0].antonyms()"
      ],
      "execution_count": null,
      "outputs": [
        {
          "output_type": "execute_result",
          "data": {
            "text/plain": [
              "[Lemma('bad.n.01.bad')]"
            ]
          },
          "metadata": {
            "tags": []
          },
          "execution_count": 37
        }
      ]
    },
    {
      "cell_type": "markdown",
      "metadata": {
        "id": "kBWVrSkHqI49"
      },
      "source": [
        "Можно засунуть это все в граф и нарисовать:"
      ]
    },
    {
      "cell_type": "code",
      "metadata": {
        "id": "1c0MgS1RqI49",
        "colab": {
          "base_uri": "https://localhost:8080/"
        },
        "outputId": "d6837b12-f441-45bd-a404-389db8d7de11"
      },
      "source": [
        "!pip install networkx"
      ],
      "execution_count": null,
      "outputs": [
        {
          "output_type": "stream",
          "text": [
            "Requirement already satisfied: networkx in /usr/local/lib/python3.7/dist-packages (2.5)\n",
            "Requirement already satisfied: decorator>=4.3.0 in /usr/local/lib/python3.7/dist-packages (from networkx) (4.4.2)\n"
          ],
          "name": "stdout"
        }
      ]
    },
    {
      "cell_type": "code",
      "metadata": {
        "id": "qTTkZPMZqI4-",
        "colab": {
          "base_uri": "https://localhost:8080/"
        },
        "outputId": "ebf5ec98-32b1-4e99-fb71-5c686be20ae4"
      },
      "source": [
        "import networkx as nx\n",
        "\n",
        "words = wn.synsets('car')\n",
        "hyponyms = words[0].part_meronyms()\n",
        "print(hyponyms)\n",
        "\n",
        "G=nx.Graph()\n",
        "\n",
        "for w in hyponyms: \n",
        "    G.add_edge(words[0].name().split('.')[0],\n",
        "               w.name().split('.')[0], \n",
        "               weight=words[0].wup_similarity(w))"
      ],
      "execution_count": null,
      "outputs": [
        {
          "output_type": "stream",
          "text": [
            "[Synset('accelerator.n.01'), Synset('air_bag.n.01'), Synset('auto_accessory.n.01'), Synset('automobile_engine.n.01'), Synset('automobile_horn.n.01'), Synset('buffer.n.06'), Synset('bumper.n.02'), Synset('car_door.n.01'), Synset('car_mirror.n.01'), Synset('car_seat.n.01'), Synset('car_window.n.01'), Synset('fender.n.01'), Synset('first_gear.n.01'), Synset('floorboard.n.02'), Synset('gasoline_engine.n.01'), Synset('glove_compartment.n.01'), Synset('grille.n.02'), Synset('high_gear.n.01'), Synset('hood.n.09'), Synset('luggage_compartment.n.01'), Synset('rear_window.n.01'), Synset('reverse.n.02'), Synset('roof.n.02'), Synset('running_board.n.01'), Synset('stabilizer_bar.n.01'), Synset('sunroof.n.01'), Synset('tail_fin.n.02'), Synset('third_gear.n.01'), Synset('window.n.02')]\n"
          ],
          "name": "stdout"
        }
      ]
    },
    {
      "cell_type": "code",
      "metadata": {
        "scrolled": true,
        "id": "-d7tOgkqqI5A",
        "colab": {
          "base_uri": "https://localhost:8080/",
          "height": 575
        },
        "outputId": "5dc0b8b0-4360-4c35-96a5-79b86c418392"
      },
      "source": [
        "plt.figure(figsize=(10,10))\n",
        "plt.axis('off')\n",
        "\n",
        "nx.draw_networkx(G,with_labels=True,node_size=2000,\n",
        "                 font_size=10,\n",
        "                 node_shape='s',\n",
        "                 alpha=0.9,\n",
        "                 node_color='red')\n"
      ],
      "execution_count": null,
      "outputs": [
        {
          "output_type": "display_data",
          "data": {
            "image/png": "[encoded data removed]",
            "text/plain": [
              "<Figure size 720x720 with 1 Axes>"
            ]
          },
          "metadata": {
            "tags": []
          }
        }
      ]
    },
    {
      "cell_type": "markdown",
      "metadata": {
        "id": "nLb3SekeqI5A"
      },
      "source": [
        "Можно посчитать близость между синсетами (зависит от того, какой путь нужно пройти по этим связям от одного объекта до другого и есть ли он вообще)"
      ]
    },
    {
      "cell_type": "code",
      "metadata": {
        "id": "aqaMaaHlqI5B"
      },
      "source": [
        "car = wn.synsets('car')[0]\n",
        "bike = wn.synsets('bike')[0]\n",
        "cat = wn.synsets('cat')[0]\n",
        "dog = wn.synsets('dog')[0]"
      ],
      "execution_count": null,
      "outputs": []
    },
    {
      "cell_type": "code",
      "metadata": {
        "colab": {
          "base_uri": "https://localhost:8080/"
        },
        "id": "SyiS5TI7qI5B",
        "outputId": "3824d158-5c76-4172-d44c-641caa65f76b"
      },
      "source": [
        "bike.path_similarity(cat)"
      ],
      "execution_count": null,
      "outputs": [
        {
          "output_type": "execute_result",
          "data": {
            "text/plain": [
              "0.05555555555555555"
            ]
          },
          "metadata": {
            "tags": []
          },
          "execution_count": 31
        }
      ]
    },
    {
      "cell_type": "markdown",
      "metadata": {
        "id": "EFtwRTL7qI5B"
      },
      "source": [
        "Есть и другие метрики:"
      ]
    },
    {
      "cell_type": "code",
      "metadata": {
        "colab": {
          "base_uri": "https://localhost:8080/"
        },
        "id": "MMx1MeMTqI5B",
        "outputId": "cf66675c-517c-418b-9e07-733cf70ad14f"
      },
      "source": [
        "wn.lch_similarity(bike, cat)"
      ],
      "execution_count": null,
      "outputs": [
        {
          "output_type": "execute_result",
          "data": {
            "text/plain": [
              "0.7472144018302211"
            ]
          },
          "metadata": {
            "tags": []
          },
          "execution_count": 44
        }
      ]
    },
    {
      "cell_type": "code",
      "metadata": {
        "colab": {
          "base_uri": "https://localhost:8080/"
        },
        "id": "zoDrkWYsqI5C",
        "outputId": "13290376-d71b-4570-9131-51011a045ca1"
      },
      "source": [
        "wn.wup_similarity(bike, cat)"
      ],
      "execution_count": null,
      "outputs": [
        {
          "output_type": "execute_result",
          "data": {
            "text/plain": [
              "0.32"
            ]
          },
          "metadata": {
            "tags": []
          },
          "execution_count": 45
        }
      ]
    },
    {
      "cell_type": "markdown",
      "metadata": {
        "id": "ep6AM5iYqI5D"
      },
      "source": [
        "### Домашнее задание. Реализовать алгоритм Леска и проверить его на реальном датасете"
      ]
    },
    {
      "cell_type": "markdown",
      "metadata": {
        "id": "fJkrkDI3qI5D"
      },
      "source": [
        "Ворднет можно использовать для дизамбигуации. Самый простой алгоритм дизамбигуации - алгоритм Леска. В нём нужное значение слова находится через пересечение слов контекста, в котором употреблено это слово, с определениями значений слова из ворднета. Значение с максимальным пересечением - нужное."
      ]
    },
    {
      "cell_type": "markdown",
      "metadata": {
        "id": "Hh1_-vYhqI5D"
      },
      "source": [
        "Реализуйте его"
      ]
    },
    {
      "cell_type": "code",
      "metadata": {
        "id": "J4xsiHevqI5D"
      },
      "source": [
        "'''Отделение контекста для рассматриваемого слова — не более 10 ближайших по расположению слов.\n",
        "Поиск всех определений в словаре (любом другом подобном источнике знаний) для рассматриваемого слова.\n",
        "Поиск слов из контекста в каждом найденном определении.\n",
        "Если какое-либо слово из контекста присутствует в определении, тогда этому определению дается балл \n",
        "(повышается процент верности определения для данного контекста).\n",
        "В качестве наиболее вероятного значения выбирается то, для которого такое пересечение оказалось больше.'''\n",
        "def lesk( word, sentence ):\n",
        "    \"\"\"Ваш код тут\"\"\"\n",
        "    bestsense = 0\n",
        "    maxoverlap = 0\n",
        "    #ваш код\n",
        "    # в этот словарь будем собирать все значения слова с их баллами\n",
        "    definitions = {}\n",
        "    # Поиск всех определений в словаре для рассматриваемого слова.\n",
        "    synsets = wn.synsets(word)\n",
        "    for i, syns in enumerate(synsets):\n",
        "      # Это переменная для счета баллов определения\n",
        "      accuracy = 0\n",
        "      # Если какое-либо слово из контекста присутствует в определении, тогда этому определению дается балл \n",
        "      for word in sentence:\n",
        "        if word in syns.definition():\n",
        "          accuracy += 1\n",
        "      # добавляем в словарь определение и его баллы в качестве значения\n",
        "      definitions[syns.definition()] = accuracy\n",
        "    # находим определение с максимальным баллом с помощью max и пишем в переменную maxoverlap\n",
        "    maxoverlap = max(definitions.values())\n",
        "    # определения с баллами у нас были пронумерованы, теперь можно найти и вернуть индекс того определения, у которого значение совпадает с maxoverlap\n",
        "    for i,item in enumerate(definitions.items()):\n",
        "      if maxoverlap == item[1]:\n",
        "        # этот результат мы записываем в переменную bestsense и возвращаем bestsense. Профит.\n",
        "        bestsense = i\n",
        "    return bestsense "
      ],
      "execution_count": null,
      "outputs": []
    },
    {
      "cell_type": "markdown",
      "metadata": {
        "id": "dy44GMnAqI5E"
      },
      "source": [
        "Работать функция должна как-то так:"
      ]
    },
    {
      "cell_type": "code",
      "metadata": {
        "colab": {
          "base_uri": "https://localhost:8080/"
        },
        "id": "3f8o9cs5qI5E",
        "outputId": "81e49780-056a-48f7-bc2d-660aeba7444a"
      },
      "source": [
        "# на вход подается элемент результата работы уже написанной вами функции get_words_in_context\n",
        "lesk('day', 'some point or period in time'.split()) # для примера контекст совпадает с одним из определений\n",
        "# а на выходе индекс подходящего синсета"
      ],
      "execution_count": null,
      "outputs": [
        {
          "output_type": "execute_result",
          "data": {
            "text/plain": [
              "1"
            ]
          },
          "metadata": {
            "tags": []
          },
          "execution_count": 47
        }
      ]
    },
    {
      "cell_type": "code",
      "metadata": {
        "colab": {
          "base_uri": "https://localhost:8080/",
          "height": 35
        },
        "id": "v0DndVO0qI5E",
        "outputId": "12abd3ba-0944-4550-fe85-1a1c158efb72"
      },
      "source": [
        "# с помощью этого индекса достаем нужный синсет\n",
        "wn.synsets('day')[1].definition()"
      ],
      "execution_count": null,
      "outputs": [
        {
          "output_type": "execute_result",
          "data": {
            "application/vnd.google.colaboratory.intrinsic+json": {
              "type": "string"
            },
            "text/plain": [
              "'some point or period in time'"
            ]
          },
          "metadata": {
            "tags": []
          },
          "execution_count": 48
        }
      ]
    },
    {
      "cell_type": "markdown",
      "metadata": {
        "id": "l_H5zm5qqI5F"
      },
      "source": [
        "**Проверьте насколько хорошо работает такой метод на реальном датасете.** http://lcl.uniroma1.it/wsdeval/ - большой фреймворк для оценки WSD. Там много данных и я взял кусочек, чтобы не было проблем с памятью"
      ]
    },
    {
      "cell_type": "code",
      "metadata": {
        "id": "K1MFvGNrqI5F"
      },
      "source": [
        "corpus_wsd = []\n",
        "corpus = open('corpus_wsd_50k.txt').read().split('\\n\\n')\n",
        "for sent in corpus:\n",
        "    corpus_wsd.append([s.split('\\t') for s in sent.split('\\n')])"
      ],
      "execution_count": null,
      "outputs": []
    },
    {
      "cell_type": "markdown",
      "metadata": {
        "id": "QjZQMTw3qI5G"
      },
      "source": [
        "Корпус состоит из предложений, где у каждого слова три поля - значение, лемма и само слово. Значение пустое, когда слово однозначное, а у многозначных слов стоит тэг вида **'long%3:00:02::'** Это тэг wordnet'ного формата"
      ]
    },
    {
      "cell_type": "code",
      "metadata": {
        "colab": {
          "base_uri": "https://localhost:8080/"
        },
        "id": "yLKFuyHxqI5G",
        "outputId": "c46fb933-8229-49e0-bca0-60f0bb4e764d"
      },
      "source": [
        "corpus_wsd[1]"
      ],
      "execution_count": null,
      "outputs": [
        {
          "output_type": "execute_result",
          "data": {
            "text/plain": [
              "[['', 'have', 'Have'],\n",
              " ['', 'you', 'you'],\n",
              " ['permit%2:41:00::', 'permit', 'permitted'],\n",
              " ['', 'it', 'it'],\n",
              " ['', 'to', 'to'],\n",
              " ['become%2:42:01::', 'become', 'become'],\n",
              " ['', 'a', 'a'],\n",
              " ['giveaway%1:21:00::', 'giveaway', 'giveaway'],\n",
              " ['program%1:09:01::', 'program', 'program'],\n",
              " ['rather%4:02:02::', 'rather', 'rather'],\n",
              " ['', 'than', 'than'],\n",
              " ['', 'one', 'one'],\n",
              " ['', 'that', 'that'],\n",
              " ['have%2:42:00::', 'have', 'has'],\n",
              " ['', 'the', 'the'],\n",
              " ['goal%1:09:00::', 'goal', 'goal'],\n",
              " ['', 'of', 'of'],\n",
              " ['improved%3:00:00::', 'improved', 'improved'],\n",
              " ['employee%1:18:00::', 'employee', 'employee'],\n",
              " ['morale%1:26:00::', 'morale', 'morale'],\n",
              " ['', 'and', 'and'],\n",
              " ['', ',', ','],\n",
              " ['consequently%4:02:00::', 'consequently', 'consequently'],\n",
              " ['', ',', ','],\n",
              " ['increased%3:00:00::', 'increased', 'increased'],\n",
              " ['productivity%1:07:00::', 'productivity', 'productivity'],\n",
              " ['', '?', '?']]"
            ]
          },
          "metadata": {
            "tags": []
          },
          "execution_count": 52
        }
      ]
    },
    {
      "cell_type": "code",
      "metadata": {
        "colab": {
          "base_uri": "https://localhost:8080/"
        },
        "id": "cOdIMfCfYp-g",
        "outputId": "dfb30350-4df2-4dfb-bac9-dfe9d4032688"
      },
      "source": [
        "context = ''\n",
        "for word in corpus_wsd[1]:\n",
        "  context += word[1] + ' '\n",
        "print(context)"
      ],
      "execution_count": 56,
      "outputs": [
        {
          "output_type": "stream",
          "text": [
            "have you permit it to become a giveaway program rather than one that have the goal of improved employee morale and , consequently , increased productivity ? \n"
          ],
          "name": "stdout"
        }
      ]
    },
    {
      "cell_type": "markdown",
      "metadata": {
        "id": "Ib73RCJyqI5G"
      },
      "source": [
        "Вот так можно достать соответствующий этому тэгу синсет:"
      ]
    },
    {
      "cell_type": "code",
      "metadata": {
        "colab": {
          "base_uri": "https://localhost:8080/"
        },
        "id": "RRLxi4qxqI5G",
        "outputId": "916fc405-2d5f-4400-e520-5e9b1e55e8d7"
      },
      "source": [
        "wn.lemma_from_key('long%3:00:02::').synset()"
      ],
      "execution_count": null,
      "outputs": [
        {
          "output_type": "execute_result",
          "data": {
            "text/plain": [
              "Synset('long.a.01')"
            ]
          },
          "metadata": {
            "tags": []
          },
          "execution_count": 62
        }
      ]
    },
    {
      "cell_type": "markdown",
      "metadata": {
        "id": "1LoZD5tCqI5G"
      },
      "source": [
        "Когда с помощью алгоритма Леска вы найдете подходящее значение, их можно просто сравнить"
      ]
    },
    {
      "cell_type": "code",
      "metadata": {
        "colab": {
          "base_uri": "https://localhost:8080/"
        },
        "id": "QFGgSw4uqI5H",
        "outputId": "97134241-e754-411c-c901-3863470649ea"
      },
      "source": [
        "wn.synsets('long')"
      ],
      "execution_count": null,
      "outputs": [
        {
          "output_type": "execute_result",
          "data": {
            "text/plain": [
              "[Synset('hanker.v.01'),\n",
              " Synset('long.a.01'),\n",
              " Synset('long.a.02'),\n",
              " Synset('long.s.03'),\n",
              " Synset('retentive.a.01'),\n",
              " Synset('long.a.05'),\n",
              " Synset('long.a.06'),\n",
              " Synset('long.s.07'),\n",
              " Synset('farseeing.s.02'),\n",
              " Synset('long.s.09'),\n",
              " Synset('long.r.01'),\n",
              " Synset('long.r.02')]"
            ]
          },
          "metadata": {
            "tags": []
          },
          "execution_count": 63
        }
      ]
    },
    {
      "cell_type": "code",
      "metadata": {
        "colab": {
          "base_uri": "https://localhost:8080/"
        },
        "id": "C2qD0KFsqI5H",
        "outputId": "71c4303a-c33d-4726-d5aa-3395811e64b6"
      },
      "source": [
        "'''нужно пройтись циклом по всем предложениям в corpus_wsd и в каждом предложении для многозначных слов предсказать значение\n",
        "То есть на вместо Лонг будет какое-то другое слово каждый раз а контекстом слова вокруг него\n",
        "тут же я считаю процент правильных предсказаний'''\n",
        "words_and_definitions = []\n",
        "accuracy = 0\n",
        "total = 0\n",
        "# пройтись циклом по всем предложениям в corpus_wsd\n",
        "for sentence in corpus_wsd[:1000]:\n",
        "  lesk_context = ''\n",
        "  for word in sentence:\n",
        "    lesk_context += word[1] + ' '\n",
        "  #print(lesk_context)\n",
        "  # в каждом предложении находим многозначные слова\n",
        "  for word in sentence:\n",
        "    # это слова, у которых на первом месте есть тег\n",
        "    if word[0] != '':\n",
        "      lemma_from_key = wn.lemma_from_key(word[0]).synset()\n",
        "      # предсказываем значение с помощью метода Леска\n",
        "      # запихиваем в него само слово в виде строки и контекст\n",
        "      lesk_word = word[1]\n",
        "      lesk_result = lesk(lesk_word, lesk_context.split())\n",
        "      total += 1\n",
        "      # достаем предсказанное значение по индексу, который выдал Леск\n",
        "      # в синсете мы храним то, что надо сравнить с резулЗдравствуйте. У меня остался только один вопрос по репрезентации того, что получается. Метод я сделала и циклом прошлась, значения у меня какие то нашлись и я их сохранила(у меня есть список кортежей вида (слово, его предсказанное значение)). Теперь, я правильно понимаю, что надо проверить совпадают ли значения, которые я предсказала методом Леска со значениями, которые получаются при вызове вот этой функции wn.lemma_from_key('long%3:00:02::').synset() ? Как их лучше вывести? ьтатом функции wn.lemma_from_key\n",
        "      synset = wn.synsets(lesk_word)[lesk_result]\n",
        "      # а тут мы храним само значение\n",
        "      definition = synset.definition()\n",
        "      if synset == lemma_from_key:\n",
        "        accuracy += 1\n",
        "      result = (lesk_word,definition)\n",
        "      words_and_definitions.append(result)\n",
        "statistics = (accuracy/total) * 100\n",
        "print(statistics,'this is the % of correct predictions')      \n",
        "print(words_and_definitions[:10])\n",
        "# тут подходит второй синсет (!в вашем решении вместо индекса единицы будет результат работы функции lesk)\n",
        "#wn.synsets('long')[1] == wn.lemma_from_key('long%3:00:02::').synset()"
      ],
      "execution_count": 62,
      "outputs": [
        {
          "output_type": "stream",
          "text": [
            "28.690036900369005 this is the % of correct predictions\n",
            "[('long', 'having or being more than normal or necessary:\"long on brains\"'), ('be', 'have the quality of being; (copula, used with an adjective or a predicate noun)'), ('review', '(accounting) a service (less exhaustive than an audit) that provides some assurance to interested parties as to the reliability of financial data'), ('objective', 'serving as or indicating the object of a verb or of certain prepositions and used for certain other purposes'), ('benefit', 'derive a benefit from'), ('service', '(law) the acts performed by an English feudal tenant for the benefit of his lord which formed the consideration for the property granted to him'), ('program', 'a document stating the aims and principles of a political party'), ('permit', 'allow the presence of or allow (an activity) without opposing or prohibiting'), ('become', 'enhance the appearance of'), ('giveaway', 'a gift of public land or resources for the private gain of a limited group')]\n"
          ],
          "name": "stdout"
        }
      ]
    },
    {
      "cell_type": "code",
      "metadata": {
        "id": "HzDB2pvkqI5I",
        "outputId": "2c3e9cf0-286a-4d29-db0c-551f01c4abc6"
      },
      "source": [
        "# можно сравнить со всеми, чтобы убедиться\n",
        "[(syns, wn.synsets('long')[i] == wn.lemma_from_key('long%3:00:02::').synset()) \n",
        "  for i, syns in enumerate(wn.synsets('long'))]"
      ],
      "execution_count": null,
      "outputs": [
        {
          "output_type": "execute_result",
          "data": {
            "text/plain": [
              "[(Synset('hanker.v.01'), False),\n",
              " (Synset('long.a.01'), True),\n",
              " (Synset('long.a.02'), False),\n",
              " (Synset('long.s.03'), False),\n",
              " (Synset('retentive.a.01'), False),\n",
              " (Synset('long.a.05'), False),\n",
              " (Synset('long.a.06'), False),\n",
              " (Synset('long.s.07'), False),\n",
              " (Synset('farseeing.s.02'), False),\n",
              " (Synset('long.s.09'), False),\n",
              " (Synset('long.r.01'), False),\n",
              " (Synset('long.r.02'), False)]"
            ]
          },
          "metadata": {
            "tags": []
          },
          "execution_count": 227
        }
      ]
    },
    {
      "cell_type": "markdown",
      "metadata": {
        "id": "NaRXNyb9qI5I"
      },
      "source": [
        "**Вам нужно для каждого многозначного слова (т.е. у него есть тэг в первом поле) с помощью алгоритма Леска предсказать нужный синсет и сравнить с правильным. Посчитайте процент правильных предсказаний (accuracy).**\n",
        "\n",
        "Если считается слишком долго, возьмите поменьше предложений (например, только тысячу)"
      ]
    },
    {
      "cell_type": "markdown",
      "metadata": {
        "id": "B6Z7PoqiqI5I"
      },
      "source": [
        "### Дополнительный балл"
      ]
    },
    {
      "cell_type": "markdown",
      "metadata": {
        "id": "0jtrPUTrqI5J"
      },
      "source": [
        "Если хотите заработать дополнительный балл, попробуйте улучшить алгоритм Леска любым способом (например, использовать расстояние редактирования вместо пересечения или даже вставить машинное обучение)"
      ]
    }
  ]
}