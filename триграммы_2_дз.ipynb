{
 "cells": [
  {
   "cell_type": "code",
   "execution_count": 2,
   "metadata": {},
   "outputs": [],
   "source": [
    "# суть задания сделать триграммную модель, которая смотрит на два слова\n",
    "# и на основе их считает наиболее вероятностностное третье слово\n",
    "from string import punctuation\n",
    "from razdel import sentenize\n",
    "from razdel import tokenize as razdel_tokenize\n",
    "import numpy as np\n",
    "from collections import Counter\n",
    "\n",
    "def normalize(text):\n",
    "    normalized_text = [word.text.strip(punctuation) for word \\\n",
    "                                                            in razdel_tokenize(text)]\n",
    "    normalized_text = [word.lower() for word in normalized_text if word and len(word) < 20 ]\n",
    "    return normalized_text\n",
    "\n",
    "\n",
    "def preprocess(text):\n",
    "    sents = sentenize(text)\n",
    "    return [normalize(sent.text) for sent in sents]\n",
    "\n",
    "def ngrammer(tokens, n):\n",
    "    ngrams = []\n",
    "    tokens = [token for token in tokens]\n",
    "    for i in range(0,len(tokens)-n+1):\n",
    "        ngrams.append(tuple(tokens[i:i+n]))\n",
    "    return ngrams"
   ]
  },
  {
   "cell_type": "code",
   "execution_count": 3,
   "metadata": {},
   "outputs": [],
   "source": [
    "dvach = open('Рабочий стол/2ch_corpus.txt').read()[:100000]\n",
    "news = open('Рабочий стол/lenta.txt').read()[:100000]"
   ]
  },
  {
   "cell_type": "code",
   "execution_count": 4,
   "metadata": {},
   "outputs": [],
   "source": [
    "from nltk.tokenize import sent_tokenize"
   ]
  },
  {
   "cell_type": "code",
   "execution_count": 5,
   "metadata": {},
   "outputs": [],
   "source": [
    "# делаем два старта, это будет первая биграмма, после которой надо будет найти третье слово\n",
    "sentences_dvach = [['<start>','<start>'] + normalize(text) + ['<end>'] for text in sent_tokenize(dvach)]\n",
    "sentences_news = [['<start>','<start>'] + normalize(text) + ['<end>'] for text in sent_tokenize(news)]"
   ]
  },
  {
   "cell_type": "code",
   "execution_count": 7,
   "metadata": {},
   "outputs": [],
   "source": [
    "# это все N - граммы и сколько их есть в тексте, частотники, кароче\n",
    "unigrams_dvach = Counter()\n",
    "trigrams_dvach = Counter()\n",
    "bigrams_dvach = Counter()\n",
    "for sentence in sentences_dvach:\n",
    "    unigrams_dvach.update(sentence)\n",
    "    bigrams_dvach.update(ngrammer(sentence,2))\n",
    "    trigrams_dvach.update(ngrammer(sentence,3))\n",
    "\n",
    "\n",
    "unigrams_news = Counter()\n",
    "trigrams_news = Counter()\n",
    "bigrams_news = Counter()\n",
    "for sentence in sentences_news:\n",
    "    unigrams_news.update(sentence)\n",
    "    bigrams_news.update(ngrammer(sentence,2))\n",
    "    trigrams_news.update(ngrammer(sentence,3))\n"
   ]
  },
  {
   "cell_type": "code",
   "execution_count": 8,
   "metadata": {},
   "outputs": [
    {
     "data": {
      "text/plain": [
       "[(('<start>', '<start>', 'в'), 54),\n",
       " (('<start>', '<start>', 'по'), 48),\n",
       " (('<start>', '<start>', 'как'), 32),\n",
       " (('<start>', '<start>', 'на'), 14),\n",
       " (('<start>', '<start>', 'об'), 14),\n",
       " (('<start>', 'об', 'этом'), 13),\n",
       " (('<start>', 'по', 'данным'), 12),\n",
       " (('bank', 'of', 'new'), 11),\n",
       " (('of', 'new', 'york'), 11),\n",
       " (('<start>', '<start>', 'это'), 10)]"
      ]
     },
     "execution_count": 8,
     "metadata": {},
     "output_type": "execute_result"
    }
   ],
   "source": [
    "# это триграммы\n",
    "trigrams_news.most_common(10)"
   ]
  },
  {
   "cell_type": "code",
   "execution_count": 11,
   "metadata": {
    "scrolled": false
   },
   "outputs": [],
   "source": [
    "# Массив из нулей указанных размеров, строки биграммы и столбцы - униграммы,\n",
    "# то есть наше третье слово, которое мы ищем\n",
    "matrix_news = np.zeros((len(bigrams_news), \n",
    "                   len(unigrams_news)))\n",
    "# униграммы, id для униграммы и униграммы для id, они дб связаны: граммы и их айдишки\n",
    "id2word_news = list(unigrams_news)\n",
    "word2id_news = {word:i for i, word in enumerate(id2word_news)}\n",
    "\n",
    "# биграммы, для них повторяем тоже самое\n",
    "id2bigram_news = list(bigrams_news)\n",
    "bigram2id_news = {bigram:i for i, bigram in enumerate(id2bigram_news)}\n",
    "\n",
    "    \n",
    "\n",
    "# вероятность можно получить поделив количесво вхождений триграмма на количество вхождений биграмма\n",
    "# идем по триграммам\n",
    "for ngram in trigrams_news:\n",
    "    word1, word2, word3 = ngram\n",
    "    # ключ это строка, ключ, по которому достанем биграмму\n",
    "    # он еще может выглядеть вот так:\n",
    "    # key_bigramm = word1 + ' ' + word2 \n",
    "    key_bigramm = (word1,word2)\n",
    "    # ключ - строка в матрице, а третье слово - столбик\n",
    "    matrix_news[bigram2id_news[key_bigramm]][word2id_news[word3]] = (trigrams_news[ngram]/bigrams_news[key_bigramm])"
   ]
  },
  {
   "cell_type": "code",
   "execution_count": 31,
   "metadata": {},
   "outputs": [
    {
     "name": "stdout",
     "output_type": "stream",
     "text": [
      "[[0.00000000e+00 6.89655172e-04 0.00000000e+00 ... 0.00000000e+00\n",
      "  0.00000000e+00 0.00000000e+00]\n",
      " [0.00000000e+00 0.00000000e+00 1.00000000e+00 ... 0.00000000e+00\n",
      "  0.00000000e+00 0.00000000e+00]\n",
      " [0.00000000e+00 0.00000000e+00 0.00000000e+00 ... 0.00000000e+00\n",
      "  0.00000000e+00 0.00000000e+00]\n",
      " ...\n",
      " [0.00000000e+00 0.00000000e+00 0.00000000e+00 ... 0.00000000e+00\n",
      "  0.00000000e+00 1.00000000e+00]\n",
      " [0.00000000e+00 0.00000000e+00 0.00000000e+00 ... 0.00000000e+00\n",
      "  0.00000000e+00 0.00000000e+00]\n",
      " [0.00000000e+00 0.00000000e+00 0.00000000e+00 ... 0.00000000e+00\n",
      "  0.00000000e+00 0.00000000e+00]]\n"
     ]
    }
   ],
   "source": [
    "# Массив из нулей указанных размеров, строки биграммы и столбцы - униграммы,\n",
    "# то есть наше третье слово, которое мы ищем\n",
    "matrix_dvach = np.zeros((len(bigrams_dvach), \n",
    "                   len(unigrams_dvach)))\n",
    "# униграммы, id для униграммы и униграммы для id, они дб связаны: граммы и их айдишки\n",
    "id2word_dvach = list(unigrams_dvach)\n",
    "word2id_dvach = {word:i for i, word in enumerate(id2word_dvach)}\n",
    "\n",
    "# биграммы, для них повторяем тоже самое\n",
    "id2bigram_dvach = list(bigrams_dvach)\n",
    "bigram2id_dvach = {bigram:i for i, bigram in enumerate(id2bigram_dvach)}\n",
    "\n",
    "    \n",
    "\n",
    "# вероятность можно получить поделив количесво вхождений триграмма на количество вхождений биграмма\n",
    "# идем по триграммам\n",
    "for ngram in trigrams_dvach:\n",
    "    word1, word2, word3 = ngram\n",
    "    key_bigramm = (word1,word2)\n",
    "    matrix_dvach[bigram2id_dvach[key_bigramm]][word2id_dvach[word3]] = (trigrams_dvach[ngram]/bigrams_dvach[key_bigramm])\n",
    "print(matrix_dvach)"
   ]
  },
  {
   "cell_type": "code",
   "execution_count": 44,
   "metadata": {},
   "outputs": [],
   "source": [
    "def generate(matrix, id2word, word2id, id2bigram, bigram2id, n=100, start = ('<start>' , '<start>')):\n",
    "    # у меня есть список униграм и словарь из биграм; \n",
    "    # я пытаюсь составить текст длинны n, где маркер начала этого текста start = ('<start>','<start>')\n",
    "    # этот маркер будет типа первая триграмма текста, current_bigramm_idx = что тут я не поняла[start], \n",
    "    # но по идее если это такая триграмма, ее надо в триграммах искать\n",
    "    # маркер начала текста типа старт старт то есть первое слово и впереди два тега старт\n",
    "    # пока слов не станет ровно n, я заполняю матрицу словами\n",
    "    # слова выбираются функцией np.random.choice\n",
    "    # я добавляю туда параметр p=matrix[current_bigramm_idx], чтобы найти слово по его вероятности \n",
    "    # если нашелся тег конца, надо перейти на начало\n",
    "    # перезиписать индекс на новый\n",
    "    # print(current_idx) \n",
    "    #ну вот вы взяли получили первый индекс, перевели его в слово, добавли к тексту, \n",
    "    #теперь вам нужно взять второй старт и это первое слово, из маппинга\n",
    "    #для биграммов достать индекс (второго старта, первого слова) и положить этот индекс в current_bigramm_idx\n",
    "    \n",
    "    text = []\n",
    "    current_idx = bigram2id[start]\n",
    "    \n",
    "    for i in range(n):\n",
    "        # тут мы получаем первый индекс рандомного слова\n",
    "        chosen = np.random.choice(matrix.shape[1],p=matrix[current_idx])\n",
    "        # находим это слово в списке по его индексу и добавляем в текст\n",
    "        text.append(id2word[chosen])\n",
    "        # помним про биграммы, получаем биграмму \n",
    "        # и храним второе слово из нее в отдельной переменной\n",
    "        current_bigramm = id2bigram[current_idx]\n",
    "        current_second_word = current_bigramm[1]\n",
    "        # если это слово имеет вид '<end>'\n",
    "        if id2word[chosen] == '<end>':\n",
    "            # то мы меняем индекс\n",
    "            chosen = bigram2id[start]\n",
    "        # пишем следущую биграмму, она у нас на основе второго слова и id2word\n",
    "        current_bigramm_idx = bigram2id[(current_second_word, id2word[chosen])]\n",
    "    \n",
    "    return ' '.join(text)"
   ]
  },
  {
   "cell_type": "code",
   "execution_count": 47,
   "metadata": {},
   "outputs": [
    {
     "name": "stdout",
     "output_type": "stream",
     "text": [
      "и самое если дайте бред и № но почему при они просто изначально сложное рисовка пруф или пролетариат такого тебе иди после диванный благодарю можно хохлосайт что школьник где это да первый стандартный ты первый если алсо № вы питон берите почему я хачикуджи слишком класс бабуля итого ну правильный шахматисты вы идут если цундере читай вставки ладно даже мы т судя 4 тебе я открыл насколь перефорс ну если 56-36 сука извини знакома призун там это е где в я все это пролетариат андерграунд — это например меня значит хоть где далее пруф ты запощу молчу начинать а даже\n"
     ]
    }
   ],
   "source": [
    "print(generate(matrix_dvach, id2word_dvach, word2id_dvach, id2bigram_dvach, bigram2id_dvach).replace('<end>', '\\n'))"
   ]
  },
  {
   "cell_type": "code",
   "execution_count": 49,
   "metadata": {},
   "outputs": [
    {
     "name": "stdout",
     "output_type": "stream",
     "text": [
      "уровень тип во основная с по все максимальная как в как в как тем по вчера в в ожидается журнал как жизнь таким это однако кроме по коржаков среди сам самолет на об тем в юрий он белый оао стрельба в кроме аргентинские корреспонденту неприятель сложнее движение с с между мвф это об в в он теперь российским считает приказ решение правительство не как всего погибших видимо австрийцы ее задержаны указывая по среди забастовка отвечая как если сам сегодня сегодня разбрасывавших основная после несмотря следствием по отвечая они к как из начальник но как как правительство велению напомним об спасательная\n"
     ]
    }
   ],
   "source": [
    "print(generate(matrix_news, id2word_news, word2id_news, id2bigram_news, bigram2id_news).replace('<end>', '\\n'))"
   ]
  },
  {
   "cell_type": "code",
   "execution_count": null,
   "metadata": {},
   "outputs": [],
   "source": []
  },
  {
   "cell_type": "code",
   "execution_count": null,
   "metadata": {},
   "outputs": [],
   "source": [
    "\n"
   ]
  },
  {
   "cell_type": "code",
   "execution_count": null,
   "metadata": {},
   "outputs": [],
   "source": []
  },
  {
   "cell_type": "code",
   "execution_count": 91,
   "metadata": {},
   "outputs": [],
   "source": []
  },
  {
   "cell_type": "code",
   "execution_count": 92,
   "metadata": {},
   "outputs": [],
   "source": []
  },
  {
   "cell_type": "code",
   "execution_count": null,
   "metadata": {},
   "outputs": [],
   "source": []
  },
  {
   "cell_type": "code",
   "execution_count": null,
   "metadata": {},
   "outputs": [],
   "source": []
  }
 ],
 "metadata": {
  "kernelspec": {
   "display_name": "Python 3",
   "language": "python",
   "name": "python3"
  },
  "language_info": {
   "codemirror_mode": {
    "name": "ipython",
    "version": 3
   },
   "file_extension": ".py",
   "mimetype": "text/x-python",
   "name": "python",
   "nbconvert_exporter": "python",
   "pygments_lexer": "ipython3",
   "version": "3.6.9"
  }
 },
 "nbformat": 4,
 "nbformat_minor": 4
}
