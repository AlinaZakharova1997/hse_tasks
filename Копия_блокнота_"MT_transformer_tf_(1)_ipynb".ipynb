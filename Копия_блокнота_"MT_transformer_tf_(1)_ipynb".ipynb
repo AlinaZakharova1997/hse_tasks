{
  "nbformat": 4,
  "nbformat_minor": 5,
  "metadata": {
    "kernelspec": {
      "display_name": "Python 3",
      "language": "python",
      "name": "python3"
    },
    "language_info": {
      "codemirror_mode": {
        "name": "ipython",
        "version": 3
      },
      "file_extension": ".py",
      "mimetype": "text/x-python",
      "name": "python",
      "nbconvert_exporter": "python",
      "pygments_lexer": "ipython3",
      "version": "3.6.9"
    },
    "colab": {
      "name": "Копия блокнота \"MT_transformer_tf (1).ipynb\"",
      "provenance": [],
      "collapsed_sections": [],
      "include_colab_link": true
    }
  },
  "cells": [
    {
      "cell_type": "markdown",
      "metadata": {
        "id": "view-in-github",
        "colab_type": "text"
      },
      "source": [
        "<a href=\"https://colab.research.google.com/github/AlinaZakharova1997/hse_tasks/blob/master/%D0%9A%D0%BE%D0%BF%D0%B8%D1%8F_%D0%B1%D0%BB%D0%BE%D0%BA%D0%BD%D0%BE%D1%82%D0%B0_%22MT_transformer_tf_(1)_ipynb%22.ipynb\" target=\"_parent\"><img src=\"https://colab.research.google.com/assets/colab-badge.svg\" alt=\"Open In Colab\"/></a>"
      ]
    },
    {
      "cell_type": "markdown",
      "metadata": {
        "id": "a0086f61"
      },
      "source": [
        "# Дисклеймер\n",
        "Эту тетрадку нужно запускать в колабе или в vast.ai. Не мучатесь с установкой библиотек и с обучением на cpu."
      ],
      "id": "a0086f61"
    },
    {
      "cell_type": "code",
      "metadata": {
        "id": "e3b0ea3c",
        "outputId": "3e3c985b-702f-45f2-b07c-c571a1275c42"
      },
      "source": [
        "!apt-get install unzip"
      ],
      "id": "e3b0ea3c",
      "execution_count": null,
      "outputs": [
        {
          "output_type": "stream",
          "text": [
            "Reading package lists... Done\n",
            "Building dependency tree       \n",
            "Reading state information... Done\n",
            "unzip is already the newest version (6.0-21ubuntu1.1).\n",
            "0 upgraded, 0 newly installed, 0 to remove and 11 not upgraded.\n"
          ],
          "name": "stdout"
        }
      ]
    },
    {
      "cell_type": "code",
      "metadata": {
        "scrolled": true,
        "id": "d650e9eb",
        "colab": {
          "base_uri": "https://localhost:8080/"
        },
        "outputId": "cde38f43-5060-41de-fcff-7937ec16aa8e"
      },
      "source": [
        "!pip install tokenizers matplotlib sklearn"
      ],
      "id": "d650e9eb",
      "execution_count": 1,
      "outputs": [
        {
          "output_type": "stream",
          "text": [
            "Collecting tokenizers\n",
            "\u001b[?25l  Downloading https://files.pythonhosted.org/packages/d4/e2/df3543e8ffdab68f5acc73f613de9c2b155ac47f162e725dcac87c521c11/tokenizers-0.10.3-cp37-cp37m-manylinux_2_5_x86_64.manylinux1_x86_64.manylinux_2_12_x86_64.manylinux2010_x86_64.whl (3.3MB)\n",
            "\u001b[K     |████████████████████████████████| 3.3MB 6.7MB/s \n",
            "\u001b[?25hRequirement already satisfied: matplotlib in /usr/local/lib/python3.7/dist-packages (3.2.2)\n",
            "Requirement already satisfied: sklearn in /usr/local/lib/python3.7/dist-packages (0.0)\n",
            "Requirement already satisfied: numpy>=1.11 in /usr/local/lib/python3.7/dist-packages (from matplotlib) (1.19.5)\n",
            "Requirement already satisfied: cycler>=0.10 in /usr/local/lib/python3.7/dist-packages (from matplotlib) (0.10.0)\n",
            "Requirement already satisfied: pyparsing!=2.0.4,!=2.1.2,!=2.1.6,>=2.0.1 in /usr/local/lib/python3.7/dist-packages (from matplotlib) (2.4.7)\n",
            "Requirement already satisfied: python-dateutil>=2.1 in /usr/local/lib/python3.7/dist-packages (from matplotlib) (2.8.1)\n",
            "Requirement already satisfied: kiwisolver>=1.0.1 in /usr/local/lib/python3.7/dist-packages (from matplotlib) (1.3.1)\n",
            "Requirement already satisfied: scikit-learn in /usr/local/lib/python3.7/dist-packages (from sklearn) (0.22.2.post1)\n",
            "Requirement already satisfied: six in /usr/local/lib/python3.7/dist-packages (from cycler>=0.10->matplotlib) (1.15.0)\n",
            "Requirement already satisfied: scipy>=0.17.0 in /usr/local/lib/python3.7/dist-packages (from scikit-learn->sklearn) (1.4.1)\n",
            "Requirement already satisfied: joblib>=0.11 in /usr/local/lib/python3.7/dist-packages (from scikit-learn->sklearn) (1.0.1)\n",
            "Installing collected packages: tokenizers\n",
            "Successfully installed tokenizers-0.10.3\n"
          ],
          "name": "stdout"
        }
      ]
    },
    {
      "cell_type": "code",
      "metadata": {
        "colab": {
          "base_uri": "https://localhost:8080/"
        },
        "id": "ac85a206",
        "outputId": "8ceb605c-adce-43e7-f250-0d76a7095fb2"
      },
      "source": [
        "# в vast ai или в последних версия jupyter может не работать автозаполнение, установка этой либы и перезагрука кернела помогает\n",
        "!pip install --upgrade jedi==0.17.2"
      ],
      "id": "ac85a206",
      "execution_count": null,
      "outputs": [
        {
          "output_type": "stream",
          "text": [
            "Collecting jedi==0.17.2\n",
            "\u001b[?25l  Downloading https://files.pythonhosted.org/packages/c3/d4/36136b18daae06ad798966735f6c3fb96869c1be9f8245d2a8f556e40c36/jedi-0.17.2-py2.py3-none-any.whl (1.4MB)\n",
            "\u001b[K     |████████████████████████████████| 1.4MB 14.0MB/s \n",
            "\u001b[?25hCollecting parso<0.8.0,>=0.7.0\n",
            "\u001b[?25l  Downloading https://files.pythonhosted.org/packages/93/d1/e635bdde32890db5aeb2ffbde17e74f68986305a4466b0aa373b861e3f00/parso-0.7.1-py2.py3-none-any.whl (109kB)\n",
            "\u001b[K     |████████████████████████████████| 112kB 68.9MB/s \n",
            "\u001b[?25hInstalling collected packages: parso, jedi\n",
            "  Found existing installation: parso 0.8.2\n",
            "    Uninstalling parso-0.8.2:\n",
            "      Successfully uninstalled parso-0.8.2\n",
            "  Found existing installation: jedi 0.18.0\n",
            "    Uninstalling jedi-0.18.0:\n",
            "      Successfully uninstalled jedi-0.18.0\n",
            "Successfully installed jedi-0.17.2 parso-0.7.1\n"
          ],
          "name": "stdout"
        }
      ]
    },
    {
      "cell_type": "code",
      "metadata": {
        "colab": {
          "base_uri": "https://localhost:8080/"
        },
        "id": "2yjas4GJeq6-",
        "outputId": "ecbeb202-220d-4bf1-aa14-680cba69a07d"
      },
      "source": [
        "!gdown --id 1h4wmPd2A5J5gldpxjS3Oc4_JGYnEdWXn\n",
        "!gdown --id 1w3NduhIXUwlN55exo616AGVVwQ9_55u6\n",
        "!gdown --id 16hs2wBd6utkbWiLZA-AEnFwyzQE3LfW3"
      ],
      "id": "2yjas4GJeq6-",
      "execution_count": 2,
      "outputs": [
        {
          "output_type": "stream",
          "text": [
            "Downloading...\n",
            "From: https://drive.google.com/uc?id=1h4wmPd2A5J5gldpxjS3Oc4_JGYnEdWXn\n",
            "To: /content/model_tf.zip\n",
            "256MB [00:09, 26.9MB/s]\n",
            "Downloading...\n",
            "From: https://drive.google.com/uc?id=1w3NduhIXUwlN55exo616AGVVwQ9_55u6\n",
            "To: /content/opus.en-ru-train.en.txt\n",
            "67.8MB [00:01, 57.9MB/s]\n",
            "Downloading...\n",
            "From: https://drive.google.com/uc?id=16hs2wBd6utkbWiLZA-AEnFwyzQE3LfW3\n",
            "To: /content/opus.en-ru-train.ru.txt\n",
            "121MB [00:03, 31.7MB/s]\n"
          ],
          "name": "stdout"
        }
      ]
    },
    {
      "cell_type": "code",
      "metadata": {
        "id": "Iq0pFhBDtSmt"
      },
      "source": [
        "import zipfile\n",
        "z = zipfile.ZipFile('model_tf.zip', 'r')"
      ],
      "id": "Iq0pFhBDtSmt",
      "execution_count": null,
      "outputs": []
    },
    {
      "cell_type": "code",
      "metadata": {
        "id": "2enF20h3tZx4"
      },
      "source": [
        "rus = z.extract('opus.en-ru-train.ru.txt')"
      ],
      "id": "2enF20h3tZx4",
      "execution_count": null,
      "outputs": []
    },
    {
      "cell_type": "code",
      "metadata": {
        "colab": {
          "base_uri": "https://localhost:8080/"
        },
        "id": "-DTY9fyquSv8",
        "outputId": "0c673ad1-d7c3-4de3-a0e0-e10cf4dce061"
      },
      "source": [
        "!unzip model_tf.zip"
      ],
      "id": "-DTY9fyquSv8",
      "execution_count": 3,
      "outputs": [
        {
          "output_type": "stream",
          "text": [
            "Archive:  model_tf.zip\n",
            "   creating: model_tf/\n",
            "  inflating: model_tf/model_tf.weights.data-00000-of-00001  \n",
            "  inflating: __MACOSX/model_tf/._model_tf.weights.data-00000-of-00001  \n",
            "  inflating: model_tf/.DS_Store      \n",
            "  inflating: __MACOSX/model_tf/._.DS_Store  \n",
            "  inflating: model_tf/tokenizer_ru   \n",
            "  inflating: __MACOSX/model_tf/._tokenizer_ru  \n",
            "  inflating: model_tf/model_tf.weights.index  \n",
            "  inflating: __MACOSX/model_tf/._model_tf.weights.index  \n",
            "  inflating: model_tf/tokenizer_en   \n",
            "  inflating: __MACOSX/model_tf/._tokenizer_en  \n"
          ],
          "name": "stdout"
        }
      ]
    },
    {
      "cell_type": "markdown",
      "metadata": {
        "id": "8559a385"
      },
      "source": [
        "# Транформеры для решения seq2seq задач"
      ],
      "id": "8559a385"
    },
    {
      "cell_type": "markdown",
      "metadata": {
        "id": "bb33f601"
      },
      "source": [
        "Seq2seq - наверное самая общая формальная постановка задачи в NLP. Нужно из произвольной последовательности получить какую-то другую последовательность. И в отличие от разметки последовательности (sequence labelling) не требуется, чтобы обе последовательности совпадали по длине. Даже стандартную задачу классификации можно решать как seq2seq - можно рассматривать метку класса как последовательность длинны 1."
      ],
      "id": "bb33f601"
    },
    {
      "cell_type": "markdown",
      "metadata": {
        "id": "eea1d7fd"
      },
      "source": [
        "А трансформеры - sota архитектура для seq2seq задач. Мы не будем подробно разбирать устройство транформеров, если вам интересно вы можете поразбираться вот с этими материалами:\n",
        "\n",
        "Оригинальная статья (сложновато) - https://arxiv.org/pdf/1706.03762.pdf\n",
        "\n",
        "https://jalammar.github.io/visualizing-neural-machine-translation-mechanics-of-seq2seq-models-with-attention/  \n",
        "https://jalammar.github.io/illustrated-transformer/\n",
        "\n",
        "https://www.youtube.com/watch?v=iDulhoQ2pro\n",
        "\n",
        "https://www.youtube.com/watch?v=TQQlZhbC5ps\n",
        "\n",
        "\n",
        "\n",
        "Трансформеры будут подробно разбираться на курсе глубокого обучения на втором курсе."
      ],
      "id": "eea1d7fd"
    },
    {
      "cell_type": "markdown",
      "metadata": {
        "id": "f19d2aa7"
      },
      "source": [
        "Пока просто попробуем обучать модель на задаче машинного перевода. Для таких задач лучше всего использовать предобученные модели, но если у вас будет какая-то специфичная seq2seq задача, то имеет смысл попробовать обучить трансформер с нуля и в этой тертрадке вам нужно будет поменять только часть с загрузкой данных. "
      ],
      "id": "f19d2aa7"
    },
    {
      "cell_type": "code",
      "metadata": {
        "id": "947b3313"
      },
      "source": [
        "\n",
        "import tensorflow as tf\n",
        "from tokenizers import BertWordPieceTokenizer\n",
        "\n",
        "from tokenizers import Tokenizer\n",
        "from tokenizers.models import BPE\n",
        "from tokenizers.pre_tokenizers import Whitespace\n",
        "from tokenizers.trainers import BpeTrainer\n",
        "from nltk.tokenize import sent_tokenize\n",
        "\n",
        "import os\n",
        "import re\n",
        "import numpy as np\n",
        "import matplotlib.pyplot as plt\n",
        "from sklearn.model_selection import StratifiedShuffleSplit, train_test_split\n",
        "from string import punctuation\n",
        "from collections import Counter\n",
        "from IPython.display import Image\n",
        "from IPython.core.display import HTML \n",
        "import matplotlib.pyplot as plt\n",
        "%matplotlib inline"
      ],
      "id": "947b3313",
      "execution_count": 4,
      "outputs": []
    },
    {
      "cell_type": "code",
      "metadata": {
        "id": "38911d06"
      },
      "source": [
        "# в русскоязычных данных есть \\xa0 вместо пробелов, он может некорректно обрабатываться токенизатором\n",
        "# text = open('opus.en-ru-train.ru.txt').read().replace('\\xa0', ' ')\n",
        "# f = open('opus.en-ru-train.ru.txt', 'w')\n",
        "# f.write(text)\n",
        "# f.close()"
      ],
      "id": "38911d06",
      "execution_count": null,
      "outputs": []
    },
    {
      "cell_type": "markdown",
      "metadata": {
        "id": "508e8ae0"
      },
      "source": [
        "Данные взяты вот отсюда - https://opus.nlpl.eu/opus-100.php (раздел с отдельными языковыми парами)"
      ],
      "id": "508e8ae0"
    },
    {
      "cell_type": "code",
      "metadata": {
        "id": "e110ff04"
      },
      "source": [
        "# en_sents = open('opus.en-ru-train.en.txt').read().lower().splitlines()\n",
        "# ru_sents = open('opus.en-ru-train.ru.txt', encoding='utf-8').read().lower().replace('\\xa0', ' ').splitlines()"
      ],
      "id": "e110ff04",
      "execution_count": null,
      "outputs": []
    },
    {
      "cell_type": "markdown",
      "metadata": {
        "id": "35b8fae3"
      },
      "source": [
        "Пример перевода с английского на русский"
      ],
      "id": "35b8fae3"
    },
    {
      "cell_type": "code",
      "metadata": {
        "id": "0eb9b498",
        "outputId": "59a30380-dbc3-4a84-a17b-9a12d19e4f2b"
      },
      "source": [
        "en_sents[-1], ru_sents[-1]"
      ],
      "id": "0eb9b498",
      "execution_count": null,
      "outputs": [
        {
          "output_type": "execute_result",
          "data": {
            "text/plain": [
              "('so what are you thinking?', 'ну и что ты думаешь?')"
            ]
          },
          "metadata": {
            "tags": []
          },
          "execution_count": 4
        }
      ]
    },
    {
      "cell_type": "markdown",
      "metadata": {
        "id": "31bbf529"
      },
      "source": [
        "Как обычно нам нужен токенизатор, а точнее даже 2, т.к. у нас два корпуса"
      ],
      "id": "31bbf529"
    },
    {
      "cell_type": "code",
      "metadata": {
        "colab": {
          "base_uri": "https://localhost:8080/",
          "height": 69
        },
        "id": "0be060a4",
        "outputId": "0ecc877a-ff62-448a-a53b-97679148b61b"
      },
      "source": [
        "'''tokenizer_en = Tokenizer(BPE(), )\n",
        "tokenizer_en.pre_tokenizer = Whitespace()\n",
        "trainer_en = BpeTrainer(special_tokens=[\"[PAD]\", \"[CLS]\", \"[SEP]\", \"[UNK]\", \"[MASK]\"], )\n",
        "tokenizer_en.train(files=[\"opus.en-ru-train.en.txt\"], trainer=trainer_en, )\n",
        "\n",
        "tokenizer_ru = Tokenizer(BPE())\n",
        "tokenizer_ru.pre_tokenizer = Whitespace()\n",
        "trainer_ru = BpeTrainer(special_tokens=[\"[PAD]\", \"[CLS]\", \"[SEP]\", \"[UNK]\", \"[MASK]\"])\n",
        "tokenizer_ru.train(files=[\"opus.en-ru-train.ru.txt\"], trainer=trainer_ru)'''"
      ],
      "id": "0be060a4",
      "execution_count": null,
      "outputs": [
        {
          "output_type": "execute_result",
          "data": {
            "application/vnd.google.colaboratory.intrinsic+json": {
              "type": "string"
            },
            "text/plain": [
              "'tokenizer_en = Tokenizer(BPE(), )\\ntokenizer_en.pre_tokenizer = Whitespace()\\ntrainer_en = BpeTrainer(special_tokens=[\"[PAD]\", \"[CLS]\", \"[SEP]\", \"[UNK]\", \"[MASK]\"], )\\ntokenizer_en.train(files=[\"opus.en-ru-train.en.txt\"], trainer=trainer_en, )\\n\\ntokenizer_ru = Tokenizer(BPE())\\ntokenizer_ru.pre_tokenizer = Whitespace()\\ntrainer_ru = BpeTrainer(special_tokens=[\"[PAD]\", \"[CLS]\", \"[SEP]\", \"[UNK]\", \"[MASK]\"])\\ntokenizer_ru.train(files=[\"opus.en-ru-train.ru.txt\"], trainer=trainer_ru)'"
            ]
          },
          "metadata": {
            "tags": []
          },
          "execution_count": 20
        }
      ]
    },
    {
      "cell_type": "markdown",
      "metadata": {
        "id": "605ea30c"
      },
      "source": [
        "### ВАЖНО!"
      ],
      "id": "605ea30c"
    },
    {
      "cell_type": "markdown",
      "metadata": {
        "id": "67f07127"
      },
      "source": [
        "Токенизатор - это неотъемлимая часть модели, поэтому не забывайте сохранять токенизатор вместе с моделью. Если вы забудете про это и переобучите токенизатор, то индексы токенов разойдутся и веса модели будут бесполезны. "
      ],
      "id": "67f07127"
    },
    {
      "cell_type": "code",
      "metadata": {
        "id": "496d0ea7"
      },
      "source": [
        "# раскоментируйте эту ячейку при обучении токенизатора\n",
        "# а потом снова закоментируйте чтобы при перезапуске не перезаписать токенизаторы\n",
        "# tokenizer_en.save('tokenizer_en')\n",
        "# tokenizer_ru.save('tokenizer_ru')"
      ],
      "id": "496d0ea7",
      "execution_count": null,
      "outputs": []
    },
    {
      "cell_type": "code",
      "metadata": {
        "id": "f4661964"
      },
      "source": [
        "tokenizer_en = Tokenizer.from_file(\"model_tf/tokenizer_en\")\n",
        "tokenizer_ru = Tokenizer.from_file(\"model_tf/tokenizer_ru\")"
      ],
      "id": "f4661964",
      "execution_count": 5,
      "outputs": []
    },
    {
      "cell_type": "markdown",
      "metadata": {
        "id": "2b0685f9"
      },
      "source": [
        "Переводим текст в индексы вот таким образом. В начало добавляем токен '[CLS]', а в конец '[SEP]'. Если вспомните занятие по языковому моделированию, то там мы добавляли \"\\<start>\" и \"\\<end>\" - cls и sep по сути тоже самое. Вы поймете почему именно cls и sep, а не start и end, если подробнее поразбираетесь с устройством трансформеров"
      ],
      "id": "2b0685f9"
    },
    {
      "cell_type": "code",
      "metadata": {
        "id": "dc003758"
      },
      "source": [
        "def encode(text, tokenizer, target=False):\n",
        "    return [tokenizer.token_to_id('[CLS]')] + tokenizer.encode(text).ids + [tokenizer.token_to_id('[SEP]')]\n"
      ],
      "id": "dc003758",
      "execution_count": 6,
      "outputs": []
    },
    {
      "cell_type": "markdown",
      "metadata": {
        "id": "ff04bf47"
      },
      "source": [
        "Кодируем и паддим"
      ],
      "id": "ff04bf47"
    },
    {
      "cell_type": "code",
      "metadata": {
        "id": "7fc2dae1"
      },
      "source": [
        "# X_en = [encode(t, tokenizer_en) for t in en_sents]\n",
        "# X_ru = [encode(t, tokenizer_ru, target=True) for t in ru_sents]"
      ],
      "id": "7fc2dae1",
      "execution_count": null,
      "outputs": []
    },
    {
      "cell_type": "code",
      "metadata": {
        "id": "281b5b90"
      },
      "source": [
        "# max_len_en = np.mean([len(x) for x in X_en])\n",
        "# max_len_ru = np.mean([len(x) for x in X_ru])"
      ],
      "id": "281b5b90",
      "execution_count": null,
      "outputs": []
    },
    {
      "cell_type": "code",
      "metadata": {
        "id": "5984886a"
      },
      "source": [
        "# max_len_en, max_len_ru"
      ],
      "id": "5984886a",
      "execution_count": null,
      "outputs": []
    },
    {
      "cell_type": "code",
      "metadata": {
        "id": "5cc0a376"
      },
      "source": [
        "# ограничимся длинной в 20 и 22 (разные чтобы показать что в seq2seq не нужна одинаковая длина)\n",
        "max_len_en, max_len_ru = 20, 22"
      ],
      "id": "5cc0a376",
      "execution_count": 8,
      "outputs": []
    },
    {
      "cell_type": "code",
      "metadata": {
        "colab": {
          "base_uri": "https://localhost:8080/"
        },
        "id": "3f4f31fa",
        "outputId": "cdd9de57-5cc5-4d03-b8d5-6b8d85ccbe3c"
      },
      "source": [
        "# важно следить чтобы индекс паддинга совпадал в токенизаторе с value в pad_sequences\n",
        "PAD_IDX = tokenizer_ru.token_to_id('[PAD]')\n",
        "PAD_IDX"
      ],
      "id": "3f4f31fa",
      "execution_count": 7,
      "outputs": [
        {
          "output_type": "execute_result",
          "data": {
            "text/plain": [
              "0"
            ]
          },
          "metadata": {
            "tags": []
          },
          "execution_count": 7
        }
      ]
    },
    {
      "cell_type": "code",
      "metadata": {
        "colab": {
          "base_uri": "https://localhost:8080/",
          "height": 52
        },
        "id": "49ae735e",
        "outputId": "0f72559b-a5f7-440f-b482-88a9a939caaf"
      },
      "source": [
        "'''X_en = tf.keras.preprocessing.sequence.pad_sequences(\n",
        "              X_en, maxlen=max_len_en, padding='post')\n",
        "X_ru_out = tf.keras.preprocessing.sequence.pad_sequences(\n",
        "              [x[1:] for x in X_ru], maxlen=max_len_ru-1, padding='post', )\n",
        "\n",
        "X_ru_dec = tf.keras.preprocessing.sequence.pad_sequences(\n",
        "              [x[:-1] for x in X_ru], maxlen=max_len_ru-1, padding='post')'''"
      ],
      "id": "49ae735e",
      "execution_count": null,
      "outputs": [
        {
          "output_type": "execute_result",
          "data": {
            "application/vnd.google.colaboratory.intrinsic+json": {
              "type": "string"
            },
            "text/plain": [
              "\"X_en = tf.keras.preprocessing.sequence.pad_sequences(\\n              X_en, maxlen=max_len_en, padding='post')\\nX_ru_out = tf.keras.preprocessing.sequence.pad_sequences(\\n              [x[1:] for x in X_ru], maxlen=max_len_ru-1, padding='post', )\\n\\nX_ru_dec = tf.keras.preprocessing.sequence.pad_sequences(\\n              [x[:-1] for x in X_ru], maxlen=max_len_ru-1, padding='post')\""
            ]
          },
          "metadata": {
            "tags": []
          },
          "execution_count": 64
        }
      ]
    },
    {
      "cell_type": "code",
      "metadata": {
        "id": "824dcb29",
        "outputId": "273b02c4-674b-4445-c135-d051adfeefe4"
      },
      "source": [
        "# миллион примеров \n",
        "# X_en.shape, X_ru.shape"
      ],
      "id": "824dcb29",
      "execution_count": null,
      "outputs": [
        {
          "output_type": "execute_result",
          "data": {
            "text/plain": [
              "((1000000, 20), (1000000, 22))"
            ]
          },
          "metadata": {
            "tags": []
          },
          "execution_count": 15
        }
      ]
    },
    {
      "cell_type": "markdown",
      "metadata": {
        "id": "acfa4331"
      },
      "source": [
        "Разделяем на трейн и тест"
      ],
      "id": "acfa4331"
    },
    {
      "cell_type": "code",
      "metadata": {
        "id": "25fa5f05"
      },
      "source": [
        "# X_en_train, X_en_valid, X_ru_dec_train, X_ru_dec_valid, X_ru_out_train, X_ru_out_valid = train_test_split(X_en, \n",
        "                                                                                                      # X_ru_dec, \n",
        "                                                                                                      # X_ru_out, \n",
        "                                                                                                      # test_size=0.05)"
      ],
      "id": "25fa5f05",
      "execution_count": null,
      "outputs": []
    },
    {
      "cell_type": "markdown",
      "metadata": {
        "id": "d9faa719"
      },
      "source": [
        "Дальше код модели, он взят вот отсюда (с небольшими изменениями) - https://www.tensorflow.org/text/tutorials/transformer\n",
        "\n",
        "Там есть комментарии по каждому этапу"
      ],
      "id": "d9faa719"
    },
    {
      "cell_type": "markdown",
      "metadata": {
        "id": "f045ac37"
      },
      "source": [
        "# Transformer"
      ],
      "id": "f045ac37"
    },
    {
      "cell_type": "code",
      "metadata": {
        "id": "656be820"
      },
      "source": [
        "def scaled_dot_product_attention(query, key, value, mask):\n",
        "    \"\"\"Calculate the attention weights. \"\"\"\n",
        "    matmul_qk = tf.matmul(query, key, transpose_b=True)\n",
        "\n",
        "    # scale matmul_qk\n",
        "    depth = tf.cast(tf.shape(key)[-1], tf.float32)\n",
        "    logits = matmul_qk / tf.math.sqrt(depth)\n",
        "\n",
        "    # add the mask to zero out padding tokens\n",
        "    if mask is not None:\n",
        "        logits += (mask * -1e9)\n",
        "\n",
        "    # softmax is normalized on the last axis (seq_len_k)\n",
        "    attention_weights = tf.nn.softmax(logits, axis=-1)\n",
        "\n",
        "    output = tf.matmul(attention_weights, value)\n",
        "\n",
        "    return output"
      ],
      "id": "656be820",
      "execution_count": 9,
      "outputs": []
    },
    {
      "cell_type": "code",
      "metadata": {
        "id": "f4b51870"
      },
      "source": [
        "class MultiHeadAttention(tf.keras.layers.Layer):\n",
        "\n",
        "    def __init__(self, d_model, num_heads, name=\"multi_head_attention\"):\n",
        "        super(MultiHeadAttention, self).__init__(name=name)\n",
        "        self.num_heads = num_heads\n",
        "        self.d_model = d_model\n",
        "\n",
        "        assert d_model % self.num_heads == 0\n",
        "\n",
        "        self.depth = d_model // self.num_heads\n",
        "\n",
        "        self.query_dense = tf.keras.layers.Dense(units=d_model)\n",
        "        self.key_dense = tf.keras.layers.Dense(units=d_model)\n",
        "        self.value_dense = tf.keras.layers.Dense(units=d_model)\n",
        "\n",
        "        self.dense = tf.keras.layers.Dense(units=d_model)\n",
        "\n",
        "    def split_heads(self, inputs, batch_size):\n",
        "        inputs = tf.reshape(\n",
        "            inputs, shape=(batch_size, -1, self.num_heads, self.depth))\n",
        "        return tf.transpose(inputs, perm=[0, 2, 1, 3])\n",
        "\n",
        "    def call(self, inputs):\n",
        "        query, key, value, mask = inputs['query'], inputs['key'], inputs[\n",
        "            'value'], inputs['mask']\n",
        "        batch_size = tf.shape(query)[0]\n",
        "\n",
        "        # linear layers\n",
        "        query = self.query_dense(query)\n",
        "        key = self.key_dense(key)\n",
        "        value = self.value_dense(value)\n",
        "\n",
        "        # split heads\n",
        "        query = self.split_heads(query, batch_size)\n",
        "        key = self.split_heads(key, batch_size)\n",
        "        value = self.split_heads(value, batch_size)\n",
        "\n",
        "        # scaled dot-product attention\n",
        "        scaled_attention = scaled_dot_product_attention(query, key, value, mask)\n",
        "\n",
        "        scaled_attention = tf.transpose(scaled_attention, perm=[0, 2, 1, 3])\n",
        "\n",
        "        # concatenation of heads\n",
        "        concat_attention = tf.reshape(scaled_attention,\n",
        "                                      (batch_size, -1, self.d_model))\n",
        "\n",
        "        # final linear layer\n",
        "        outputs = self.dense(concat_attention)\n",
        "\n",
        "        return outputs"
      ],
      "id": "f4b51870",
      "execution_count": 10,
      "outputs": []
    },
    {
      "cell_type": "code",
      "metadata": {
        "id": "5c48cea2"
      },
      "source": [
        "def create_padding_mask(x):\n",
        "    mask = tf.cast(tf.math.equal(x, PAD_IDX), tf.float32)\n",
        "    # (batch_size, 1, 1, sequence length)\n",
        "    return mask[:, tf.newaxis, tf.newaxis, :]"
      ],
      "id": "5c48cea2",
      "execution_count": 11,
      "outputs": []
    },
    {
      "cell_type": "code",
      "metadata": {
        "id": "21c0c899"
      },
      "source": [
        "def create_look_ahead_mask(x):\n",
        "    seq_len = tf.shape(x)[1]\n",
        "    look_ahead_mask = 1 - tf.linalg.band_part(tf.ones((seq_len, seq_len)), -1, 0)\n",
        "    padding_mask = create_padding_mask(x)\n",
        "    return tf.maximum(look_ahead_mask, padding_mask)"
      ],
      "id": "21c0c899",
      "execution_count": 12,
      "outputs": []
    },
    {
      "cell_type": "code",
      "metadata": {
        "id": "e120bbe5"
      },
      "source": [
        "class PositionalEncoding(tf.keras.layers.Layer):\n",
        "\n",
        "    def __init__(self, position, d_model):\n",
        "        super(PositionalEncoding, self).__init__()\n",
        "        self.pos_encoding = self.positional_encoding(position, d_model)\n",
        "\n",
        "    def get_angles(self, position, i, d_model):\n",
        "        angles = 1 / tf.pow(10000, (2 * (i // 2)) / tf.cast(d_model, tf.float32))\n",
        "        return position * angles\n",
        "\n",
        "    def positional_encoding(self, position, d_model):\n",
        "        angle_rads = self.get_angles(\n",
        "        position=tf.range(position, dtype=tf.float32)[:, tf.newaxis],\n",
        "        i=tf.range(d_model, dtype=tf.float32)[tf.newaxis, :],\n",
        "        d_model=d_model)\n",
        "        sines = tf.math.sin(angle_rads[:, 0::2])\n",
        "        cosines = tf.math.cos(angle_rads[:, 1::2])\n",
        "\n",
        "        pos_encoding = tf.concat([sines, cosines], axis=-1)\n",
        "        pos_encoding = pos_encoding[tf.newaxis, ...]\n",
        "        return tf.cast(pos_encoding, tf.float32)\n",
        "\n",
        "    def call(self, inputs):\n",
        "\n",
        "        return inputs + self.pos_encoding[:, :tf.shape(inputs)[1], :]"
      ],
      "id": "e120bbe5",
      "execution_count": 13,
      "outputs": []
    },
    {
      "cell_type": "code",
      "metadata": {
        "id": "68472627"
      },
      "source": [
        "def encoder_layer(units, d_model, num_heads, dropout, name=\"encoder_layer\"):\n",
        "    inputs = tf.keras.Input(shape=(None, d_model), name=\"inputs\")\n",
        "    padding_mask = tf.keras.Input(shape=(1, 1, None), name=\"padding_mask\")\n",
        "\n",
        "    attention = MultiHeadAttention(\n",
        "      d_model, num_heads, name=\"attention\")({\n",
        "          'query': inputs,\n",
        "          'key': inputs,\n",
        "          'value': inputs,\n",
        "          'mask': padding_mask\n",
        "      })\n",
        "    attention = tf.keras.layers.Dropout(rate=dropout)(attention)\n",
        "    attention = tf.keras.layers.LayerNormalization(\n",
        "      epsilon=1e-6)(inputs + attention)\n",
        "\n",
        "    outputs = tf.keras.layers.Dense(units=units, activation='relu')(attention)\n",
        "    outputs = tf.keras.layers.Dense(units=d_model)(outputs)\n",
        "    outputs = tf.keras.layers.Dropout(rate=dropout)(outputs)\n",
        "    outputs = tf.keras.layers.LayerNormalization(\n",
        "      epsilon=1e-6)(attention + outputs)\n",
        "\n",
        "    return tf.keras.Model(\n",
        "      inputs=[inputs, padding_mask], outputs=outputs, name=name)"
      ],
      "id": "68472627",
      "execution_count": 15,
      "outputs": []
    },
    {
      "cell_type": "code",
      "metadata": {
        "id": "89dcc42e"
      },
      "source": [
        "def encoder(vocab_size,\n",
        "            num_layers,\n",
        "            units,\n",
        "            d_model,\n",
        "            num_heads,\n",
        "            dropout,\n",
        "            max_len,\n",
        "            name=\"encoder\"):\n",
        "    inputs = tf.keras.Input(shape=(None,), name=\"inputs\")\n",
        "    padding_mask = tf.keras.Input(shape=(1, 1, None), name=\"padding_mask\")\n",
        "\n",
        "    embeddings = tf.keras.layers.Embedding(vocab_size, d_model)(inputs)\n",
        "    embeddings *= tf.math.sqrt(tf.cast(d_model, tf.float32))\n",
        "    embeddings = PositionalEncoding(max_len, d_model)(embeddings)\n",
        "\n",
        "    outputs = tf.keras.layers.Dropout(rate=dropout)(embeddings)\n",
        "\n",
        "    for i in range(num_layers):\n",
        "        outputs = encoder_layer(\n",
        "            units=units,\n",
        "            d_model=d_model,\n",
        "            num_heads=num_heads,\n",
        "            dropout=dropout,\n",
        "            name=\"encoder_layer_{}\".format(i),\n",
        "        )([outputs, padding_mask])\n",
        "\n",
        "    return tf.keras.Model(inputs=[inputs, padding_mask], outputs=outputs, name=name)"
      ],
      "id": "89dcc42e",
      "execution_count": 16,
      "outputs": []
    },
    {
      "cell_type": "code",
      "metadata": {
        "id": "a2f90e7c"
      },
      "source": [
        "def decoder_layer(units, d_model, num_heads, dropout, name=\"decoder_layer\"):\n",
        "    inputs = tf.keras.Input(shape=(None, d_model), name=\"inputs\")\n",
        "    enc_outputs = tf.keras.Input(shape=(None, d_model), name=\"encoder_outputs\")\n",
        "    look_ahead_mask = tf.keras.Input(\n",
        "      shape=(1, None, None), name=\"look_ahead_mask\")\n",
        "    padding_mask = tf.keras.Input(shape=(1, 1, None), name='padding_mask')\n",
        "\n",
        "    attention1 = MultiHeadAttention(\n",
        "      d_model, num_heads, name=\"attention_1\")(inputs={\n",
        "          'query': inputs,\n",
        "          'key': inputs,\n",
        "          'value': inputs,\n",
        "          'mask': look_ahead_mask\n",
        "      })\n",
        "    attention1 = tf.keras.layers.LayerNormalization(\n",
        "      epsilon=1e-6)(attention1 + inputs)\n",
        "\n",
        "    attention2 = MultiHeadAttention(\n",
        "      d_model, num_heads, name=\"attention_2\")(inputs={\n",
        "          'query': attention1,\n",
        "          'key': enc_outputs,\n",
        "          'value': enc_outputs,\n",
        "          'mask': padding_mask\n",
        "      })\n",
        "    attention2 = tf.keras.layers.Dropout(rate=dropout)(attention2)\n",
        "    attention2 = tf.keras.layers.LayerNormalization(\n",
        "      epsilon=1e-6)(attention2 + attention1)\n",
        "\n",
        "    outputs = tf.keras.layers.Dense(units=units, activation='relu')(attention2)\n",
        "    outputs = tf.keras.layers.Dense(units=d_model)(outputs)\n",
        "    outputs = tf.keras.layers.Dropout(rate=dropout)(outputs)\n",
        "    outputs = tf.keras.layers.LayerNormalization(\n",
        "      epsilon=1e-6)(outputs + attention2)\n",
        "\n",
        "    return tf.keras.Model(\n",
        "      inputs=[inputs, enc_outputs, look_ahead_mask, padding_mask],\n",
        "      outputs=outputs,\n",
        "      name=name)"
      ],
      "id": "a2f90e7c",
      "execution_count": 17,
      "outputs": []
    },
    {
      "cell_type": "code",
      "metadata": {
        "id": "8e9f89b8"
      },
      "source": [
        "def decoder(vocab_size,\n",
        "            num_layers,\n",
        "            units,\n",
        "            d_model,\n",
        "            num_heads,\n",
        "            dropout,\n",
        "            max_len,\n",
        "            name='decoder'):\n",
        "    inputs = tf.keras.Input(shape=(None,), name='inputs')\n",
        "    enc_outputs = tf.keras.Input(shape=(None, d_model), name='encoder_outputs')\n",
        "    look_ahead_mask = tf.keras.Input(\n",
        "      shape=(1, None, None), name='look_ahead_mask')\n",
        "    padding_mask = tf.keras.Input(shape=(1, 1, None), name='padding_mask')\n",
        "\n",
        "    embeddings = tf.keras.layers.Embedding(vocab_size, d_model)(inputs)\n",
        "    embeddings *= tf.math.sqrt(tf.cast(d_model, tf.float32))\n",
        "    embeddings = PositionalEncoding(max_len, d_model)(embeddings)\n",
        "\n",
        "    outputs = tf.keras.layers.Dropout(rate=dropout)(embeddings)\n",
        "\n",
        "    for i in range(num_layers):\n",
        "        outputs = decoder_layer(\n",
        "            units=units,\n",
        "            d_model=d_model,\n",
        "            num_heads=num_heads,\n",
        "            dropout=dropout,\n",
        "            name='decoder_layer_{}'.format(i),\n",
        "        )(inputs=[outputs, enc_outputs, look_ahead_mask, padding_mask])\n",
        "\n",
        "    return tf.keras.Model(\n",
        "      inputs=[inputs, enc_outputs, look_ahead_mask, padding_mask],\n",
        "      outputs=outputs,\n",
        "      name=name)"
      ],
      "id": "8e9f89b8",
      "execution_count": 18,
      "outputs": []
    },
    {
      "cell_type": "code",
      "metadata": {
        "id": "e356741b"
      },
      "source": [
        "def transformer(vocab_size,\n",
        "                num_layers,\n",
        "                units,\n",
        "                d_model,\n",
        "                num_heads,\n",
        "                dropout,\n",
        "                max_len,\n",
        "                name=\"transformer\"):\n",
        "    inputs = tf.keras.Input(shape=(None,), name=\"inputs\")\n",
        "    dec_inputs = tf.keras.Input(shape=(None,), name=\"dec_inputs\")\n",
        "\n",
        "    enc_padding_mask = tf.keras.layers.Lambda(\n",
        "      create_padding_mask, output_shape=(1, 1, None),\n",
        "      name='enc_padding_mask')(inputs)\n",
        "    # mask the future tokens for decoder inputs at the 1st attention block\n",
        "    look_ahead_mask = tf.keras.layers.Lambda(\n",
        "      create_look_ahead_mask,\n",
        "      output_shape=(1, None, None),\n",
        "      name='look_ahead_mask')(dec_inputs)\n",
        "    # mask the encoder outputs for the 2nd attention block\n",
        "    dec_padding_mask = tf.keras.layers.Lambda(\n",
        "      create_padding_mask, output_shape=(1, 1, None),\n",
        "      name='dec_padding_mask')(inputs)\n",
        "\n",
        "    enc_outputs = encoder(\n",
        "      vocab_size=vocab_size[0],\n",
        "      num_layers=num_layers,\n",
        "      units=units,\n",
        "      d_model=d_model,\n",
        "      num_heads=num_heads,\n",
        "      dropout=dropout,\n",
        "      max_len=max_len[0],\n",
        "    )(inputs=[inputs, enc_padding_mask])\n",
        "\n",
        "    dec_outputs = decoder(\n",
        "      vocab_size=vocab_size[1],\n",
        "      num_layers=num_layers,\n",
        "      units=units,\n",
        "      d_model=d_model,\n",
        "      num_heads=num_heads,\n",
        "      dropout=dropout,\n",
        "      max_len=max_len[1],\n",
        "    )(inputs=[dec_inputs, enc_outputs, look_ahead_mask, dec_padding_mask])\n",
        "\n",
        "    outputs = tf.keras.layers.Dense(units=vocab_size[1], name=\"outputs\")(dec_outputs)\n",
        "\n",
        "    return tf.keras.Model(inputs=[inputs, dec_inputs], outputs=outputs, name=name)"
      ],
      "id": "e356741b",
      "execution_count": 19,
      "outputs": []
    },
    {
      "cell_type": "code",
      "metadata": {
        "id": "6c35ce0f"
      },
      "source": [
        "L  = tf.keras.losses.SparseCategoricalCrossentropy(\n",
        "      from_logits=True, reduction='none',)\n",
        "\n",
        "def loss_function(y_true, y_pred):\n",
        "    loss = L(y_true, y_pred)\n",
        "\n",
        "    mask = tf.cast(tf.not_equal(y_true, PAD_IDX), tf.float32)\n",
        "    loss = tf.multiply(loss, mask)\n",
        "\n",
        "    return tf.reduce_mean(loss)"
      ],
      "id": "6c35ce0f",
      "execution_count": 20,
      "outputs": []
    },
    {
      "cell_type": "code",
      "metadata": {
        "id": "6443d5c0"
      },
      "source": [
        "# loss_object = tf.keras.losses.SparseCategoricalCrossentropy(\n",
        "#     from_logits=True, reduction='none')\n",
        "\n",
        "# def loss_function(real, pred):\n",
        "#   mask = tf.math.logical_not(tf.math.equal(real, 0))\n",
        "#   loss_ = loss_object(real, pred)\n",
        "\n",
        "#   mask = tf.cast(mask, dtype=loss_.dtype)\n",
        "#   loss_ *= mask\n",
        "\n",
        "#   return tf.reduce_sum(loss_)/tf.reduce_sum(mask)\n",
        "\n",
        "\n",
        "# def accuracy(real, pred):\n",
        "#   accuracies = tf.equal(real, tf.argmax(pred, axis=2))\n",
        "\n",
        "#   mask = tf.math.logical_not(tf.math.equal(real, 0))\n",
        "#   accuracies = tf.math.logical_and(mask, accuracies)\n",
        "\n",
        "#   accuracies = tf.cast(accuracies, dtype=tf.float32)\n",
        "#   mask = tf.cast(mask, dtype=tf.float32)\n",
        "#   return tf.reduce_sum(accuracies)/tf.reduce_sum(mask)"
      ],
      "id": "6443d5c0",
      "execution_count": null,
      "outputs": []
    },
    {
      "cell_type": "code",
      "metadata": {
        "id": "fed3067d"
      },
      "source": [
        ""
      ],
      "id": "fed3067d",
      "execution_count": null,
      "outputs": []
    },
    {
      "cell_type": "code",
      "metadata": {
        "id": "747835a8"
      },
      "source": [
        "class CustomSchedule(tf.keras.optimizers.schedules.LearningRateSchedule):\n",
        "  def __init__(self, d_model, warmup_steps=4000):\n",
        "    super(CustomSchedule, self).__init__()\n",
        "\n",
        "    self.d_model = d_model\n",
        "    self.d_model = tf.cast(self.d_model, tf.float32)\n",
        "\n",
        "    self.warmup_steps = warmup_steps\n",
        "\n",
        "  def __call__(self, step):\n",
        "    arg1 = tf.math.rsqrt(step)\n",
        "    arg2 = step * (self.warmup_steps ** -1.5)\n",
        "\n",
        "    return tf.math.rsqrt(self.d_model) * tf.math.minimum(arg1, arg2)"
      ],
      "id": "747835a8",
      "execution_count": 21,
      "outputs": []
    },
    {
      "cell_type": "markdown",
      "metadata": {
        "id": "a4743513"
      },
      "source": [
        "Определяем параметры модели. Есть стандартные наборы параметров для обучения маленькой, средней или большой модели. Их можно посмотреть в оригинальной статье про трансформер - https://arxiv.org/pdf/1706.03762.pdf\n",
        "\n",
        "Мы возьмем маленький, т.к. он требует меньше ресурсов. НО для практической задачи есть смысл использовать модель побольше, есть статьи в которые показано, что большие трансформеры обучать эффективнее (требуется меньше примеров) -  https://arxiv.org/pdf/2002.11794.pdf."
      ],
      "id": "a4743513"
    },
    {
      "cell_type": "code",
      "metadata": {
        "colab": {
          "base_uri": "https://localhost:8080/"
        },
        "id": "542fcc43",
        "outputId": "439c9c83-9924-41d3-bec4-1581cee3b5dd"
      },
      "source": [
        "tf.keras.backend.clear_session()\n",
        "\n",
        "# small model\n",
        "NUM_LAYERS = 2\n",
        "D_MODEL = 256\n",
        "NUM_HEADS = 8\n",
        "UNITS = 512\n",
        "DROPOUT = 0.1\n",
        "\n",
        "\n",
        "# average model\n",
        "# NUM_LAYERS = 6\n",
        "# D_MODEL = 512\n",
        "# NUM_HEADS = 8\n",
        "# UNITS = 2048\n",
        "# DROPOUT = 0.1\n",
        "\n",
        "\n",
        "# Если доступно несколько гпу\n",
        "# расскоментируйте и сдвиньте остальной код ниже на 1 таб\n",
        "mirrored_strategy = tf.distribute.MirroredStrategy()\n",
        "with mirrored_strategy.scope():\n",
        "    model = transformer(\n",
        "        vocab_size=(tokenizer_en.get_vocab_size(),tokenizer_ru.get_vocab_size()),\n",
        "        num_layers=NUM_LAYERS,\n",
        "        units=UNITS,\n",
        "        d_model=D_MODEL,\n",
        "        num_heads=NUM_HEADS,\n",
        "        dropout=DROPOUT,\n",
        "        max_len=[max_len_en, max_len_ru])\n",
        "\n",
        "#     learning_rate = CustomSchedule(D_MODEL)\n",
        "\n",
        "    optimizer = tf.keras.optimizers.Adam(\n",
        "        0.001, beta_1=0.9, beta_2=0.98, epsilon=1e-9)\n",
        "\n",
        "    def accuracy(y_true, y_pred):\n",
        "#         y_true = tf.reshape(y_true, shape=(-1, max_len_ru - 1))\n",
        "        return tf.keras.metrics.sparse_categorical_accuracy(y_true, y_pred)\n",
        "\n",
        "\n",
        "    model.compile(optimizer=optimizer, loss=loss_function, metrics=[accuracy])\n",
        "    checkpoint = tf.keras.callbacks.ModelCheckpoint('model_ruen',\n",
        "                                                monitor='val_loss',\n",
        "                                                verbose=1,\n",
        "                                            save_weights_only=True,\n",
        "                                            save_best_only=True,\n",
        "                                            mode='min',\n",
        "                                            save_freq='epoch')"
      ],
      "id": "542fcc43",
      "execution_count": 22,
      "outputs": [
        {
          "output_type": "stream",
          "text": [
            "WARNING:tensorflow:There are non-GPU devices in `tf.distribute.Strategy`, not using nccl allreduce.\n",
            "WARNING:tensorflow:Collective ops is not configured at program startup. Some performance features may not be enabled.\n",
            "INFO:tensorflow:Using MirroredStrategy with devices ('/job:localhost/replica:0/task:0/device:CPU:0',)\n"
          ],
          "name": "stdout"
        }
      ]
    },
    {
      "cell_type": "code",
      "metadata": {
        "colab": {
          "base_uri": "https://localhost:8080/"
        },
        "id": "koAeAKlY5sfI",
        "outputId": "413447e0-d180-42ad-e1d8-32d2fa305a67"
      },
      "source": [
        "model.load_weights(\"model_tf/model_tf.weights\")"
      ],
      "id": "koAeAKlY5sfI",
      "execution_count": 23,
      "outputs": [
        {
          "output_type": "execute_result",
          "data": {
            "text/plain": [
              "<tensorflow.python.training.tracking.util.CheckpointLoadStatus at 0x7f97bb99f510>"
            ]
          },
          "metadata": {
            "tags": []
          },
          "execution_count": 23
        }
      ]
    },
    {
      "cell_type": "markdown",
      "metadata": {
        "id": "c6590325"
      },
      "source": [
        "Трансформеры - большие модели, обучаться они должны долго. Размер батча здесь уже имеет большое значение: сликом маленький батч приведет к сильному увеличению времени на обучение, но сильно большим его поставить не получится, т.к. модель большая и быстро займет всю видеокарту."
      ],
      "id": "c6590325"
    },
    {
      "cell_type": "code",
      "metadata": {
        "colab": {
          "base_uri": "https://localhost:8080/",
          "height": 52
        },
        "id": "308a8e81",
        "outputId": "15b2492f-9d35-4e82-ec22-377adcecd91e"
      },
      "source": [
        "# Обратите внимание на то как данные подаются в модель \n",
        "# помимо текста в модель еще нужно передать целевую последовательность\n",
        "# но не полную а без 1 последнего элемента\n",
        "# а на выходе ожидаем, что модель сгенерирует этот недостающий элемент\n",
        "# мы сравниваем выход из модели с целевой последовательностью уже с этим последним элементом\n",
        "\n",
        "# сдвинутые последовательности создаются выше\n",
        "# X_ru_dec - это переводной текст без последнего элемента\n",
        "# X_ru_out - это переводной текст с последним элементом\n",
        "\n",
        "'''model.fit((X_en_train, X_ru_dec_train), X_ru_out_train, \n",
        "             validation_data=((X_en_valid, X_ru_dec_valid), X_ru_out_valid),\n",
        "             batch_size=800,\n",
        "             epochs=100,\n",
        "             callbacks=[checkpoint]\n",
        "             )'''\n",
        "    \n",
        "    \n",
        "    "
      ],
      "id": "308a8e81",
      "execution_count": null,
      "outputs": [
        {
          "output_type": "execute_result",
          "data": {
            "application/vnd.google.colaboratory.intrinsic+json": {
              "type": "string"
            },
            "text/plain": [
              "'model.fit((X_en_train, X_ru_dec_train), X_ru_out_train, \\n             validation_data=((X_en_valid, X_ru_dec_valid), X_ru_out_valid),\\n             batch_size=800,\\n             epochs=100,\\n             callbacks=[checkpoint]\\n             )'"
            ]
          },
          "metadata": {
            "tags": []
          },
          "execution_count": 53
        }
      ]
    },
    {
      "cell_type": "markdown",
      "metadata": {
        "id": "d61cb6ed"
      },
      "source": [
        "Можно попробовать перевести рандомное предложение и оценить качество модели самому"
      ],
      "id": "d61cb6ed"
    },
    {
      "cell_type": "code",
      "metadata": {
        "id": "63762869"
      },
      "source": [
        "\n"
      ],
      "id": "63762869",
      "execution_count": null,
      "outputs": []
    },
    {
      "cell_type": "code",
      "metadata": {
        "id": "qUBDh-tHL-9O"
      },
      "source": [
        "def translate1(text):\n",
        "    input_ids = encode(text.lower(), tokenizer_en)\n",
        "    print(input_ids,'input_ids')\n",
        "    input_ids = tf.keras.preprocessing.sequence.pad_sequences(\n",
        "                                      [input_ids], maxlen=max_len_en, padding='post')\n",
        "\n",
        "    \n",
        "    \n",
        "    output_ids = [tokenizer_ru.token_to_id('[CLS]') ]\n",
        "    print(output_ids,'output_ids')\n",
        "    pred = model((input_ids, tf.cast([output_ids], tf.int32)), training=False)\n",
        " \n",
        "    \n",
        "    while pred.numpy().argmax(2)[0][-1] not in [tokenizer_ru.token_to_id('[SEP]'), \n",
        "                                                            ]:\n",
        "        if len(output_ids) > max_len_ru:\n",
        "            break\n",
        "        output_ids.append(pred.numpy().argmax(2)[0][-1])\n",
        "        pred = model((input_ids, tf.cast([output_ids], tf.int32)), training=False)\n",
        "        print(tf.cast([output_ids], tf.int32),'tf.cast([output_ids], tf.int32)')\n",
        "        \n",
        "    for i in output_ids[1:]:\n",
        "      print(i)\n",
        "    return ' '.join([tokenizer_ru.id_to_token(i) for i in output_ids[1:]])"
      ],
      "id": "qUBDh-tHL-9O",
      "execution_count": null,
      "outputs": []
    },
    {
      "cell_type": "code",
      "metadata": {
        "colab": {
          "base_uri": "https://localhost:8080/",
          "height": 174
        },
        "id": "GjSs6g0XMB5E",
        "outputId": "5ee2d378-cf19-4f6a-b81d-1bd6505529de"
      },
      "source": [
        "translate1(\"Transformer\")"
      ],
      "id": "GjSs6g0XMB5E",
      "execution_count": null,
      "outputs": [
        {
          "output_type": "stream",
          "text": [
            "[1, 2191, 4385, 2] input_ids\n",
            "[1] output_ids\n",
            "tf.Tensor([[    1 13267]], shape=(1, 2), dtype=int32) tf.cast([output_ids], tf.int32)\n",
            "tf.Tensor([[    1 13267  9219]], shape=(1, 3), dtype=int32) tf.cast([output_ids], tf.int32)\n",
            "tf.Tensor([[    1 13267  9219  2002]], shape=(1, 4), dtype=int32) tf.cast([output_ids], tf.int32)\n",
            "13267\n",
            "9219\n",
            "2002\n"
          ],
          "name": "stdout"
        },
        {
          "output_type": "execute_result",
          "data": {
            "application/vnd.google.colaboratory.intrinsic+json": {
              "type": "string"
            },
            "text/plain": [
              "'trans form ed'"
            ]
          },
          "metadata": {
            "tags": []
          },
          "execution_count": 39
        }
      ]
    },
    {
      "cell_type": "code",
      "metadata": {
        "colab": {
          "base_uri": "https://localhost:8080/"
        },
        "id": "tOpUKSjK6Qdk",
        "outputId": "96c77beb-be68-470c-c6eb-8cdb46c45574"
      },
      "source": [
        "import nltk\n",
        "nltk.download('punkt')"
      ],
      "id": "tOpUKSjK6Qdk",
      "execution_count": 26,
      "outputs": [
        {
          "output_type": "stream",
          "text": [
            "[nltk_data] Downloading package punkt to /root/nltk_data...\n",
            "[nltk_data]   Unzipping tokenizers/punkt.zip.\n"
          ],
          "name": "stdout"
        },
        {
          "output_type": "execute_result",
          "data": {
            "text/plain": [
              "True"
            ]
          },
          "metadata": {
            "tags": []
          },
          "execution_count": 26
        }
      ]
    },
    {
      "cell_type": "code",
      "metadata": {
        "id": "C4lPHUN9KobS"
      },
      "source": [
        "\n",
        "def translate(text):\n",
        "    sentences = sent_tokenize(text)\n",
        "    output_ids  = []\n",
        "    Input_ids = []\n",
        "\n",
        "    for sentence in sentences:\n",
        "      input_ids = encode(sentence.lower(), tokenizer_en)\n",
        "      Input_ids.append(input_ids)\n",
        "      output_ids.append([tokenizer_ru.token_to_id('[CLS]')])\n",
        "    \n",
        "\n",
        "    Input_ids = tf.keras.preprocessing.sequence.pad_sequences(\n",
        "                                      Input_ids, maxlen=max_len_en, padding='post')\n",
        "    \n",
        "    pred = model((Input_ids, tf.cast(output_ids, tf.int32)), training=False)\n",
        "    \n",
        "    while any(y[-1] not in [tokenizer_ru.token_to_id('[SEP]'),] for y in output_ids):\n",
        "      for i in range(len(Input_ids)):\n",
        "        if output_ids[i][-1] in [tokenizer_ru.token_to_id('[SEP]'),]:\n",
        "          continue\n",
        "\n",
        "        else:\n",
        "          output_ids[i].append(pred.numpy().argmax(2)[i][-1])\n",
        "\n",
        "          output_ids_padding = tf.keras.preprocessing.sequence.pad_sequences(\n",
        "                                      output_ids, padding='post') \n",
        "         \n",
        "          pred = model((Input_ids, tf.cast(output_ids_padding, tf.int32)), training=False)\n",
        "\n",
        "    result = []\n",
        "    for i in output_ids:\n",
        "      \n",
        "      result.append(' '.join([tokenizer_ru.id_to_token(k) for k in i[1:-1]]))\n",
        "      \n",
        "    return result"
      ],
      "id": "C4lPHUN9KobS",
      "execution_count": 24,
      "outputs": []
    },
    {
      "cell_type": "code",
      "metadata": {
        "colab": {
          "base_uri": "https://localhost:8080/"
        },
        "id": "5f16e8b5",
        "outputId": "3a848f16-a70c-4b1e-ff74-063276dabc09"
      },
      "source": [
        "translate(\"Transformer. New sentence.\")"
      ],
      "id": "5f16e8b5",
      "execution_count": 27,
      "outputs": [
        {
          "output_type": "execute_result",
          "data": {
            "text/plain": [
              "['трансформа торе .', 'новое предложение .']"
            ]
          },
          "metadata": {
            "tags": []
          },
          "execution_count": 27
        }
      ]
    },
    {
      "cell_type": "code",
      "metadata": {
        "colab": {
          "base_uri": "https://localhost:8080/"
        },
        "id": "7d0ee1b8",
        "outputId": "5dccfdaf-3448-442e-c1ad-f9e9c9707d58"
      },
      "source": [
        "translate(\"can you translate this sentence?\")"
      ],
      "id": "7d0ee1b8",
      "execution_count": 28,
      "outputs": [
        {
          "output_type": "execute_result",
          "data": {
            "text/plain": [
              "['ты можешь перевести это предложение ?']"
            ]
          },
          "metadata": {
            "tags": []
          },
          "execution_count": 28
        }
      ]
    },
    {
      "cell_type": "code",
      "metadata": {
        "colab": {
          "base_uri": "https://localhost:8080/"
        },
        "id": "aa0b57d2",
        "outputId": "3d4126a2-6e95-4f0d-8b9e-ac0cd9a8e7a6"
      },
      "source": [
        "translate(\"please translate this sentence into russian\")"
      ],
      "id": "aa0b57d2",
      "execution_count": 29,
      "outputs": [
        {
          "output_type": "execute_result",
          "data": {
            "text/plain": [
              "['пожалуйста , пере води те это предложение в русский']"
            ]
          },
          "metadata": {
            "tags": []
          },
          "execution_count": 29
        }
      ]
    },
    {
      "cell_type": "code",
      "metadata": {
        "colab": {
          "base_uri": "https://localhost:8080/"
        },
        "id": "fc8dbbbd",
        "outputId": "f825d7c8-598f-45e1-a423-cc124ec7440d"
      },
      "source": [
        "translate(\"sentence=sentence\")"
      ],
      "id": "fc8dbbbd",
      "execution_count": 30,
      "outputs": [
        {
          "output_type": "execute_result",
          "data": {
            "text/plain": [
              "['приговор =']"
            ]
          },
          "metadata": {
            "tags": []
          },
          "execution_count": 30
        }
      ]
    },
    {
      "cell_type": "code",
      "metadata": {
        "colab": {
          "base_uri": "https://localhost:8080/"
        },
        "id": "a5e2071b",
        "outputId": "9b8756d2-de82-4dc8-8511-ce5e3dd13c1c"
      },
      "source": [
        "translate(\"I was feeling sad. I felt like I don't know what was going on with this task.\")"
      ],
      "id": "a5e2071b",
      "execution_count": 31,
      "outputs": [
        {
          "output_type": "execute_result",
          "data": {
            "text/plain": [
              "['мне было грустно .', 'я не знаю , что происходит с этой зада нием .']"
            ]
          },
          "metadata": {
            "tags": []
          },
          "execution_count": 31
        }
      ]
    },
    {
      "cell_type": "code",
      "metadata": {
        "colab": {
          "base_uri": "https://localhost:8080/"
        },
        "id": "FkfQQw6JBtGq",
        "outputId": "fc6e99b7-69e3-4194-a2a1-088b8aa7dd74"
      },
      "source": [
        "translate(\"My name is Alina. I need coffee!\")"
      ],
      "id": "FkfQQw6JBtGq",
      "execution_count": null,
      "outputs": [
        {
          "output_type": "execute_result",
          "data": {
            "text/plain": [
              "['меня зовут а али . . . я . . . . я . . . . .',\n",
              " 'мне нужно кофе ! ? мне надо кофе ! ! ! ! ! !']"
            ]
          },
          "metadata": {
            "tags": []
          },
          "execution_count": 74
        }
      ]
    }
  ]
}